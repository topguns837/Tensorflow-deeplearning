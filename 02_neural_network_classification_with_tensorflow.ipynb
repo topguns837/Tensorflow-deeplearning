{
  "nbformat": 4,
  "nbformat_minor": 0,
  "metadata": {
    "colab": {
      "name": "02_neural_network_classification_with_tensorflow.ipynb",
      "provenance": [],
      "collapsed_sections": [],
      "authorship_tag": "ABX9TyOFdBnV0AguVbGu3NIZtpy3",
      "include_colab_link": true
    },
    "kernelspec": {
      "name": "python3",
      "display_name": "Python 3"
    },
    "language_info": {
      "name": "python"
    }
  },
  "cells": [
    {
      "cell_type": "markdown",
      "metadata": {
        "id": "view-in-github",
        "colab_type": "text"
      },
      "source": [
        "<a href=\"https://colab.research.google.com/github/topguns837/Tensorflow-deeplearning/blob/main/02_neural_network_classification_with_tensorflow.ipynb\" target=\"_parent\"><img src=\"https://colab.research.google.com/assets/colab-badge.svg\" alt=\"Open In Colab\"/></a>"
      ]
    },
    {
      "cell_type": "code",
      "execution_count": 1,
      "metadata": {
        "id": "qNYD2FISXXCS"
      },
      "outputs": [],
      "source": [
        "# Shape of input tensor\n",
        "# = [batch_size,height,width,3(R,G,B)]\n",
        "\n",
        "# Shape of of output tensor\n",
        "# = [No of classes] "
      ]
    },
    {
      "cell_type": "markdown",
      "source": [
        "### Intrduction to neural network classification with Tensorflow :\n",
        "1) Binary Classification\n",
        "\n",
        "2) Multiclass Classification\n",
        "\n",
        "3) Multilabel Classification\n",
        "\n"
      ],
      "metadata": {
        "id": "lRMSlc1TXmZn"
      }
    },
    {
      "cell_type": "code",
      "source": [
        "# Creating our own data to view and fit"
      ],
      "metadata": {
        "id": "-3rr8Pu8rEo2"
      },
      "execution_count": 2,
      "outputs": []
    },
    {
      "cell_type": "code",
      "source": [
        "from sklearn.datasets import make_circles\n",
        "\n",
        "# Make 1000 examples\n",
        "n_samples = 1000\n",
        "\n",
        "# Create circles\n",
        "\n",
        "X,y = make_circles(n_samples,noise = 0.03, random_state = 42)"
      ],
      "metadata": {
        "id": "znNVSLuqXnIK"
      },
      "execution_count": 3,
      "outputs": []
    },
    {
      "cell_type": "code",
      "source": [
        "# Check out the features\n",
        "X"
      ],
      "metadata": {
        "colab": {
          "base_uri": "https://localhost:8080/"
        },
        "id": "PfNm7aJhXnLH",
        "outputId": "cc7304fd-7204-4760-bc8a-67ac048e3ca3"
      },
      "execution_count": 4,
      "outputs": [
        {
          "output_type": "execute_result",
          "data": {
            "text/plain": [
              "array([[ 0.75424625,  0.23148074],\n",
              "       [-0.75615888,  0.15325888],\n",
              "       [-0.81539193,  0.17328203],\n",
              "       ...,\n",
              "       [-0.13690036, -0.81001183],\n",
              "       [ 0.67036156, -0.76750154],\n",
              "       [ 0.28105665,  0.96382443]])"
            ]
          },
          "metadata": {},
          "execution_count": 4
        }
      ]
    },
    {
      "cell_type": "code",
      "source": [
        "# Check the labels\n",
        "y"
      ],
      "metadata": {
        "colab": {
          "base_uri": "https://localhost:8080/"
        },
        "id": "aQiNEfTyXnNv",
        "outputId": "8a0a2004-a0f7-48f5-f391-bb521ae5d80c"
      },
      "execution_count": 5,
      "outputs": [
        {
          "output_type": "execute_result",
          "data": {
            "text/plain": [
              "array([1, 1, 1, 1, 0, 1, 1, 1, 1, 0, 1, 0, 1, 1, 1, 1, 0, 1, 1, 0, 1, 0,\n",
              "       0, 1, 0, 0, 0, 1, 1, 1, 0, 0, 1, 0, 0, 0, 1, 1, 1, 0, 0, 0, 0, 1,\n",
              "       0, 0, 1, 1, 0, 1, 1, 1, 0, 1, 0, 0, 1, 0, 0, 1, 0, 0, 1, 0, 1, 1,\n",
              "       1, 1, 0, 1, 0, 0, 1, 1, 0, 0, 1, 0, 1, 0, 1, 0, 0, 0, 0, 1, 1, 1,\n",
              "       1, 0, 0, 0, 1, 0, 1, 0, 1, 0, 0, 1, 1, 0, 1, 0, 1, 1, 1, 1, 0, 1,\n",
              "       1, 1, 1, 1, 0, 0, 0, 1, 1, 0, 1, 0, 1, 0, 0, 1, 1, 0, 1, 1, 1, 1,\n",
              "       0, 1, 1, 0, 0, 0, 0, 0, 0, 0, 1, 0, 1, 1, 1, 0, 1, 0, 1, 0, 1, 0,\n",
              "       1, 0, 0, 1, 0, 1, 1, 1, 1, 1, 1, 1, 0, 1, 0, 0, 0, 0, 0, 1, 0, 0,\n",
              "       0, 0, 1, 1, 0, 1, 0, 1, 1, 0, 0, 0, 1, 1, 1, 1, 1, 0, 0, 0, 0, 0,\n",
              "       1, 0, 0, 1, 1, 1, 1, 1, 0, 1, 0, 1, 0, 0, 1, 1, 1, 0, 1, 0, 1, 1,\n",
              "       0, 1, 1, 0, 1, 0, 1, 0, 1, 1, 0, 1, 0, 1, 0, 0, 0, 1, 0, 0, 0, 0,\n",
              "       1, 1, 0, 0, 0, 0, 0, 0, 0, 1, 1, 1, 0, 0, 1, 1, 1, 0, 1, 0, 0, 0,\n",
              "       0, 1, 1, 0, 1, 0, 0, 0, 1, 0, 1, 0, 0, 1, 0, 1, 1, 1, 0, 0, 0, 1,\n",
              "       0, 0, 0, 1, 1, 1, 1, 0, 0, 0, 1, 0, 0, 0, 1, 0, 0, 0, 1, 1, 0, 1,\n",
              "       1, 1, 1, 1, 1, 1, 0, 0, 0, 0, 1, 0, 0, 0, 0, 1, 1, 1, 0, 0, 1, 0,\n",
              "       1, 0, 1, 1, 0, 0, 1, 1, 1, 1, 0, 0, 0, 0, 0, 0, 1, 1, 0, 1, 0, 0,\n",
              "       1, 0, 0, 0, 0, 0, 0, 0, 0, 1, 0, 0, 0, 0, 1, 0, 0, 1, 0, 1, 0, 0,\n",
              "       0, 1, 0, 0, 1, 1, 0, 0, 1, 0, 0, 1, 1, 0, 1, 1, 0, 0, 1, 0, 1, 0,\n",
              "       0, 0, 1, 1, 0, 0, 1, 1, 1, 1, 1, 0, 0, 1, 1, 1, 1, 0, 1, 1, 1, 1,\n",
              "       1, 0, 0, 1, 0, 1, 0, 0, 0, 0, 1, 0, 0, 0, 0, 0, 0, 0, 0, 0, 1, 1,\n",
              "       0, 1, 1, 1, 1, 1, 1, 0, 1, 1, 1, 1, 0, 0, 0, 1, 1, 1, 0, 0, 0, 0,\n",
              "       1, 1, 0, 0, 0, 0, 1, 0, 0, 0, 1, 0, 0, 1, 1, 1, 1, 1, 1, 0, 0, 0,\n",
              "       1, 0, 0, 0, 0, 0, 1, 1, 1, 0, 0, 0, 0, 0, 1, 1, 1, 0, 0, 1, 1, 1,\n",
              "       1, 0, 1, 1, 0, 1, 0, 0, 0, 1, 0, 0, 1, 0, 0, 1, 1, 0, 0, 1, 1, 0,\n",
              "       1, 0, 1, 0, 1, 0, 1, 0, 0, 0, 1, 0, 0, 0, 0, 0, 0, 1, 1, 1, 1, 0,\n",
              "       0, 0, 1, 0, 1, 1, 0, 0, 0, 0, 0, 1, 1, 1, 0, 0, 1, 0, 0, 1, 0, 0,\n",
              "       1, 0, 0, 1, 0, 0, 0, 1, 0, 0, 1, 1, 1, 0, 1, 1, 0, 0, 0, 1, 1, 1,\n",
              "       1, 0, 0, 1, 1, 1, 0, 0, 0, 0, 1, 1, 0, 0, 1, 1, 0, 0, 1, 1, 1, 1,\n",
              "       1, 1, 1, 0, 1, 0, 1, 0, 0, 1, 0, 1, 1, 1, 1, 0, 0, 1, 1, 0, 0, 1,\n",
              "       0, 1, 0, 0, 0, 1, 0, 0, 1, 1, 1, 1, 0, 1, 1, 1, 1, 1, 1, 1, 0, 1,\n",
              "       0, 1, 1, 1, 0, 0, 1, 0, 0, 0, 1, 1, 1, 1, 0, 0, 0, 0, 1, 0, 1, 1,\n",
              "       1, 0, 1, 0, 0, 1, 0, 0, 1, 1, 1, 1, 1, 0, 1, 0, 0, 0, 1, 1, 1, 1,\n",
              "       1, 0, 0, 0, 1, 1, 1, 1, 0, 0, 0, 0, 0, 1, 1, 0, 1, 0, 1, 0, 0, 0,\n",
              "       0, 0, 0, 0, 0, 0, 1, 1, 1, 1, 1, 0, 1, 0, 1, 1, 1, 1, 0, 1, 1, 1,\n",
              "       1, 1, 1, 1, 1, 0, 1, 1, 0, 1, 0, 0, 0, 1, 0, 1, 1, 1, 0, 1, 1, 0,\n",
              "       1, 1, 0, 1, 0, 1, 1, 0, 0, 1, 1, 1, 0, 0, 0, 0, 1, 1, 0, 0, 1, 1,\n",
              "       1, 1, 1, 1, 1, 1, 1, 1, 1, 1, 1, 1, 0, 0, 1, 0, 1, 0, 1, 0, 1, 1,\n",
              "       1, 1, 1, 1, 0, 1, 0, 1, 1, 1, 0, 1, 1, 0, 0, 1, 0, 1, 1, 0, 0, 1,\n",
              "       1, 1, 1, 1, 1, 1, 1, 0, 1, 1, 1, 0, 1, 0, 0, 1, 1, 0, 0, 0, 1, 0,\n",
              "       0, 1, 0, 0, 0, 1, 0, 1, 0, 0, 0, 0, 1, 0, 1, 1, 1, 1, 0, 1, 0, 0,\n",
              "       0, 0, 0, 0, 1, 0, 1, 0, 1, 0, 1, 1, 1, 0, 1, 0, 1, 0, 0, 1, 1, 1,\n",
              "       0, 0, 0, 1, 1, 0, 1, 0, 1, 1, 0, 1, 0, 0, 1, 1, 1, 0, 0, 0, 1, 1,\n",
              "       0, 0, 0, 0, 0, 1, 1, 0, 1, 0, 0, 0, 1, 0, 0, 0, 1, 1, 1, 1, 0, 1,\n",
              "       1, 1, 0, 1, 1, 1, 1, 0, 1, 1, 0, 1, 1, 0, 0, 1, 1, 1, 0, 0, 0, 0,\n",
              "       0, 0, 1, 0, 0, 1, 0, 0, 0, 1, 0, 1, 0, 1, 1, 0, 0, 0, 0, 0, 0, 0,\n",
              "       0, 1, 0, 1, 0, 0, 0, 1, 0, 0])"
            ]
          },
          "metadata": {},
          "execution_count": 5
        }
      ]
    },
    {
      "cell_type": "code",
      "source": [
        "# Visualize , visualize and visualize"
      ],
      "metadata": {
        "id": "t1jfnKt0XnQP"
      },
      "execution_count": 6,
      "outputs": []
    },
    {
      "cell_type": "code",
      "source": [
        "import pandas as pd\n",
        "circles = pd.DataFrame({\"X0\":X[:,0],\"X1\":X[:,1],\"label\":y})\n",
        "circles"
      ],
      "metadata": {
        "colab": {
          "base_uri": "https://localhost:8080/",
          "height": 423
        },
        "id": "03tbVN-Iso8H",
        "outputId": "2f278ca4-e11b-48ba-ad2d-08f0d1101818"
      },
      "execution_count": 7,
      "outputs": [
        {
          "output_type": "execute_result",
          "data": {
            "text/html": [
              "\n",
              "  <div id=\"df-1cefc0a1-7778-49ff-b4af-7f25f34bc69e\">\n",
              "    <div class=\"colab-df-container\">\n",
              "      <div>\n",
              "<style scoped>\n",
              "    .dataframe tbody tr th:only-of-type {\n",
              "        vertical-align: middle;\n",
              "    }\n",
              "\n",
              "    .dataframe tbody tr th {\n",
              "        vertical-align: top;\n",
              "    }\n",
              "\n",
              "    .dataframe thead th {\n",
              "        text-align: right;\n",
              "    }\n",
              "</style>\n",
              "<table border=\"1\" class=\"dataframe\">\n",
              "  <thead>\n",
              "    <tr style=\"text-align: right;\">\n",
              "      <th></th>\n",
              "      <th>X0</th>\n",
              "      <th>X1</th>\n",
              "      <th>label</th>\n",
              "    </tr>\n",
              "  </thead>\n",
              "  <tbody>\n",
              "    <tr>\n",
              "      <th>0</th>\n",
              "      <td>0.754246</td>\n",
              "      <td>0.231481</td>\n",
              "      <td>1</td>\n",
              "    </tr>\n",
              "    <tr>\n",
              "      <th>1</th>\n",
              "      <td>-0.756159</td>\n",
              "      <td>0.153259</td>\n",
              "      <td>1</td>\n",
              "    </tr>\n",
              "    <tr>\n",
              "      <th>2</th>\n",
              "      <td>-0.815392</td>\n",
              "      <td>0.173282</td>\n",
              "      <td>1</td>\n",
              "    </tr>\n",
              "    <tr>\n",
              "      <th>3</th>\n",
              "      <td>-0.393731</td>\n",
              "      <td>0.692883</td>\n",
              "      <td>1</td>\n",
              "    </tr>\n",
              "    <tr>\n",
              "      <th>4</th>\n",
              "      <td>0.442208</td>\n",
              "      <td>-0.896723</td>\n",
              "      <td>0</td>\n",
              "    </tr>\n",
              "    <tr>\n",
              "      <th>...</th>\n",
              "      <td>...</td>\n",
              "      <td>...</td>\n",
              "      <td>...</td>\n",
              "    </tr>\n",
              "    <tr>\n",
              "      <th>995</th>\n",
              "      <td>0.244054</td>\n",
              "      <td>0.944125</td>\n",
              "      <td>0</td>\n",
              "    </tr>\n",
              "    <tr>\n",
              "      <th>996</th>\n",
              "      <td>-0.978655</td>\n",
              "      <td>-0.272373</td>\n",
              "      <td>0</td>\n",
              "    </tr>\n",
              "    <tr>\n",
              "      <th>997</th>\n",
              "      <td>-0.136900</td>\n",
              "      <td>-0.810012</td>\n",
              "      <td>1</td>\n",
              "    </tr>\n",
              "    <tr>\n",
              "      <th>998</th>\n",
              "      <td>0.670362</td>\n",
              "      <td>-0.767502</td>\n",
              "      <td>0</td>\n",
              "    </tr>\n",
              "    <tr>\n",
              "      <th>999</th>\n",
              "      <td>0.281057</td>\n",
              "      <td>0.963824</td>\n",
              "      <td>0</td>\n",
              "    </tr>\n",
              "  </tbody>\n",
              "</table>\n",
              "<p>1000 rows × 3 columns</p>\n",
              "</div>\n",
              "      <button class=\"colab-df-convert\" onclick=\"convertToInteractive('df-1cefc0a1-7778-49ff-b4af-7f25f34bc69e')\"\n",
              "              title=\"Convert this dataframe to an interactive table.\"\n",
              "              style=\"display:none;\">\n",
              "        \n",
              "  <svg xmlns=\"http://www.w3.org/2000/svg\" height=\"24px\"viewBox=\"0 0 24 24\"\n",
              "       width=\"24px\">\n",
              "    <path d=\"M0 0h24v24H0V0z\" fill=\"none\"/>\n",
              "    <path d=\"M18.56 5.44l.94 2.06.94-2.06 2.06-.94-2.06-.94-.94-2.06-.94 2.06-2.06.94zm-11 1L8.5 8.5l.94-2.06 2.06-.94-2.06-.94L8.5 2.5l-.94 2.06-2.06.94zm10 10l.94 2.06.94-2.06 2.06-.94-2.06-.94-.94-2.06-.94 2.06-2.06.94z\"/><path d=\"M17.41 7.96l-1.37-1.37c-.4-.4-.92-.59-1.43-.59-.52 0-1.04.2-1.43.59L10.3 9.45l-7.72 7.72c-.78.78-.78 2.05 0 2.83L4 21.41c.39.39.9.59 1.41.59.51 0 1.02-.2 1.41-.59l7.78-7.78 2.81-2.81c.8-.78.8-2.07 0-2.86zM5.41 20L4 18.59l7.72-7.72 1.47 1.35L5.41 20z\"/>\n",
              "  </svg>\n",
              "      </button>\n",
              "      \n",
              "  <style>\n",
              "    .colab-df-container {\n",
              "      display:flex;\n",
              "      flex-wrap:wrap;\n",
              "      gap: 12px;\n",
              "    }\n",
              "\n",
              "    .colab-df-convert {\n",
              "      background-color: #E8F0FE;\n",
              "      border: none;\n",
              "      border-radius: 50%;\n",
              "      cursor: pointer;\n",
              "      display: none;\n",
              "      fill: #1967D2;\n",
              "      height: 32px;\n",
              "      padding: 0 0 0 0;\n",
              "      width: 32px;\n",
              "    }\n",
              "\n",
              "    .colab-df-convert:hover {\n",
              "      background-color: #E2EBFA;\n",
              "      box-shadow: 0px 1px 2px rgba(60, 64, 67, 0.3), 0px 1px 3px 1px rgba(60, 64, 67, 0.15);\n",
              "      fill: #174EA6;\n",
              "    }\n",
              "\n",
              "    [theme=dark] .colab-df-convert {\n",
              "      background-color: #3B4455;\n",
              "      fill: #D2E3FC;\n",
              "    }\n",
              "\n",
              "    [theme=dark] .colab-df-convert:hover {\n",
              "      background-color: #434B5C;\n",
              "      box-shadow: 0px 1px 3px 1px rgba(0, 0, 0, 0.15);\n",
              "      filter: drop-shadow(0px 1px 2px rgba(0, 0, 0, 0.3));\n",
              "      fill: #FFFFFF;\n",
              "    }\n",
              "  </style>\n",
              "\n",
              "      <script>\n",
              "        const buttonEl =\n",
              "          document.querySelector('#df-1cefc0a1-7778-49ff-b4af-7f25f34bc69e button.colab-df-convert');\n",
              "        buttonEl.style.display =\n",
              "          google.colab.kernel.accessAllowed ? 'block' : 'none';\n",
              "\n",
              "        async function convertToInteractive(key) {\n",
              "          const element = document.querySelector('#df-1cefc0a1-7778-49ff-b4af-7f25f34bc69e');\n",
              "          const dataTable =\n",
              "            await google.colab.kernel.invokeFunction('convertToInteractive',\n",
              "                                                     [key], {});\n",
              "          if (!dataTable) return;\n",
              "\n",
              "          const docLinkHtml = 'Like what you see? Visit the ' +\n",
              "            '<a target=\"_blank\" href=https://colab.research.google.com/notebooks/data_table.ipynb>data table notebook</a>'\n",
              "            + ' to learn more about interactive tables.';\n",
              "          element.innerHTML = '';\n",
              "          dataTable['output_type'] = 'display_data';\n",
              "          await google.colab.output.renderOutput(dataTable, element);\n",
              "          const docLink = document.createElement('div');\n",
              "          docLink.innerHTML = docLinkHtml;\n",
              "          element.appendChild(docLink);\n",
              "        }\n",
              "      </script>\n",
              "    </div>\n",
              "  </div>\n",
              "  "
            ],
            "text/plain": [
              "           X0        X1  label\n",
              "0    0.754246  0.231481      1\n",
              "1   -0.756159  0.153259      1\n",
              "2   -0.815392  0.173282      1\n",
              "3   -0.393731  0.692883      1\n",
              "4    0.442208 -0.896723      0\n",
              "..        ...       ...    ...\n",
              "995  0.244054  0.944125      0\n",
              "996 -0.978655 -0.272373      0\n",
              "997 -0.136900 -0.810012      1\n",
              "998  0.670362 -0.767502      0\n",
              "999  0.281057  0.963824      0\n",
              "\n",
              "[1000 rows x 3 columns]"
            ]
          },
          "metadata": {},
          "execution_count": 7
        }
      ]
    },
    {
      "cell_type": "code",
      "source": [
        "X = circles.drop([\"label\"],axis = 1)\n",
        "y = circles[\"label\"]"
      ],
      "metadata": {
        "id": "thQCd7oh5zYV"
      },
      "execution_count": 8,
      "outputs": []
    },
    {
      "cell_type": "code",
      "source": [
        "#import matplotlib.pyplot as plt\n",
        "#plt.scatter(X[:,0],X[:,1],c=y,cmap=plt.cm.RdYlBu)"
      ],
      "metadata": {
        "id": "ocmE7j9Sso-l"
      },
      "execution_count": 9,
      "outputs": []
    },
    {
      "cell_type": "code",
      "source": [
        "# We will use a Binary Classification model here"
      ],
      "metadata": {
        "id": "AlVCs2DEspBO"
      },
      "execution_count": 10,
      "outputs": []
    },
    {
      "cell_type": "markdown",
      "source": [
        "### Input and Output shapes"
      ],
      "metadata": {
        "id": "qmFD1IFKspDr"
      }
    },
    {
      "cell_type": "code",
      "source": [
        "X.shape"
      ],
      "metadata": {
        "colab": {
          "base_uri": "https://localhost:8080/"
        },
        "id": "WNfJGbVZspF_",
        "outputId": "b59ac512-a851-457b-fe6c-14a09cae660a"
      },
      "execution_count": 11,
      "outputs": [
        {
          "output_type": "execute_result",
          "data": {
            "text/plain": [
              "(1000, 2)"
            ]
          },
          "metadata": {},
          "execution_count": 11
        }
      ]
    },
    {
      "cell_type": "code",
      "source": [
        "y.shape"
      ],
      "metadata": {
        "colab": {
          "base_uri": "https://localhost:8080/"
        },
        "id": "TqO5Ql3PspIf",
        "outputId": "fc4d9ff9-06dc-42ee-b7a5-7f2906b940eb"
      },
      "execution_count": 12,
      "outputs": [
        {
          "output_type": "execute_result",
          "data": {
            "text/plain": [
              "(1000,)"
            ]
          },
          "metadata": {},
          "execution_count": 12
        }
      ]
    },
    {
      "cell_type": "code",
      "source": [
        "# How many samples are we wokring with ?\n",
        "len(X),len(y)"
      ],
      "metadata": {
        "colab": {
          "base_uri": "https://localhost:8080/"
        },
        "id": "cQuNpQb_spLG",
        "outputId": "b6b84798-b809-46a9-de94-906f1c25c205"
      },
      "execution_count": 13,
      "outputs": [
        {
          "output_type": "execute_result",
          "data": {
            "text/plain": [
              "(1000, 1000)"
            ]
          },
          "metadata": {},
          "execution_count": 13
        }
      ]
    },
    {
      "cell_type": "markdown",
      "source": [
        "### Steps in Modelling"
      ],
      "metadata": {
        "id": "FN1ovaHEXnS1"
      }
    },
    {
      "cell_type": "code",
      "source": [
        "# Train test split\n",
        "from sklearn.model_selection import train_test_split\n",
        "\n",
        "X_train,X_test,y_train,y_test = train_test_split(X,y,test_size = 0.2)"
      ],
      "metadata": {
        "id": "1QKK1PlZXnVb"
      },
      "execution_count": 14,
      "outputs": []
    },
    {
      "cell_type": "code",
      "source": [
        "X_train\n"
      ],
      "metadata": {
        "colab": {
          "base_uri": "https://localhost:8080/",
          "height": 423
        },
        "id": "wP5_ARihxpGb",
        "outputId": "7059b99f-cb64-4d29-9d05-67d846050759"
      },
      "execution_count": 15,
      "outputs": [
        {
          "output_type": "execute_result",
          "data": {
            "text/html": [
              "\n",
              "  <div id=\"df-4b774dbb-2f44-4359-9569-30d7f4a98736\">\n",
              "    <div class=\"colab-df-container\">\n",
              "      <div>\n",
              "<style scoped>\n",
              "    .dataframe tbody tr th:only-of-type {\n",
              "        vertical-align: middle;\n",
              "    }\n",
              "\n",
              "    .dataframe tbody tr th {\n",
              "        vertical-align: top;\n",
              "    }\n",
              "\n",
              "    .dataframe thead th {\n",
              "        text-align: right;\n",
              "    }\n",
              "</style>\n",
              "<table border=\"1\" class=\"dataframe\">\n",
              "  <thead>\n",
              "    <tr style=\"text-align: right;\">\n",
              "      <th></th>\n",
              "      <th>X0</th>\n",
              "      <th>X1</th>\n",
              "    </tr>\n",
              "  </thead>\n",
              "  <tbody>\n",
              "    <tr>\n",
              "      <th>79</th>\n",
              "      <td>-0.791496</td>\n",
              "      <td>-0.681075</td>\n",
              "    </tr>\n",
              "    <tr>\n",
              "      <th>561</th>\n",
              "      <td>0.853725</td>\n",
              "      <td>-0.003334</td>\n",
              "    </tr>\n",
              "    <tr>\n",
              "      <th>628</th>\n",
              "      <td>0.594495</td>\n",
              "      <td>-0.553052</td>\n",
              "    </tr>\n",
              "    <tr>\n",
              "      <th>171</th>\n",
              "      <td>0.944695</td>\n",
              "      <td>-0.245993</td>\n",
              "    </tr>\n",
              "    <tr>\n",
              "      <th>215</th>\n",
              "      <td>-0.494469</td>\n",
              "      <td>-0.883803</td>\n",
              "    </tr>\n",
              "    <tr>\n",
              "      <th>...</th>\n",
              "      <td>...</td>\n",
              "      <td>...</td>\n",
              "    </tr>\n",
              "    <tr>\n",
              "      <th>682</th>\n",
              "      <td>-0.822823</td>\n",
              "      <td>-0.146383</td>\n",
              "    </tr>\n",
              "    <tr>\n",
              "      <th>64</th>\n",
              "      <td>0.217368</td>\n",
              "      <td>0.764661</td>\n",
              "    </tr>\n",
              "    <tr>\n",
              "      <th>14</th>\n",
              "      <td>0.600776</td>\n",
              "      <td>-0.587426</td>\n",
              "    </tr>\n",
              "    <tr>\n",
              "      <th>566</th>\n",
              "      <td>-0.475190</td>\n",
              "      <td>0.686393</td>\n",
              "    </tr>\n",
              "    <tr>\n",
              "      <th>459</th>\n",
              "      <td>0.440869</td>\n",
              "      <td>-0.894430</td>\n",
              "    </tr>\n",
              "  </tbody>\n",
              "</table>\n",
              "<p>800 rows × 2 columns</p>\n",
              "</div>\n",
              "      <button class=\"colab-df-convert\" onclick=\"convertToInteractive('df-4b774dbb-2f44-4359-9569-30d7f4a98736')\"\n",
              "              title=\"Convert this dataframe to an interactive table.\"\n",
              "              style=\"display:none;\">\n",
              "        \n",
              "  <svg xmlns=\"http://www.w3.org/2000/svg\" height=\"24px\"viewBox=\"0 0 24 24\"\n",
              "       width=\"24px\">\n",
              "    <path d=\"M0 0h24v24H0V0z\" fill=\"none\"/>\n",
              "    <path d=\"M18.56 5.44l.94 2.06.94-2.06 2.06-.94-2.06-.94-.94-2.06-.94 2.06-2.06.94zm-11 1L8.5 8.5l.94-2.06 2.06-.94-2.06-.94L8.5 2.5l-.94 2.06-2.06.94zm10 10l.94 2.06.94-2.06 2.06-.94-2.06-.94-.94-2.06-.94 2.06-2.06.94z\"/><path d=\"M17.41 7.96l-1.37-1.37c-.4-.4-.92-.59-1.43-.59-.52 0-1.04.2-1.43.59L10.3 9.45l-7.72 7.72c-.78.78-.78 2.05 0 2.83L4 21.41c.39.39.9.59 1.41.59.51 0 1.02-.2 1.41-.59l7.78-7.78 2.81-2.81c.8-.78.8-2.07 0-2.86zM5.41 20L4 18.59l7.72-7.72 1.47 1.35L5.41 20z\"/>\n",
              "  </svg>\n",
              "      </button>\n",
              "      \n",
              "  <style>\n",
              "    .colab-df-container {\n",
              "      display:flex;\n",
              "      flex-wrap:wrap;\n",
              "      gap: 12px;\n",
              "    }\n",
              "\n",
              "    .colab-df-convert {\n",
              "      background-color: #E8F0FE;\n",
              "      border: none;\n",
              "      border-radius: 50%;\n",
              "      cursor: pointer;\n",
              "      display: none;\n",
              "      fill: #1967D2;\n",
              "      height: 32px;\n",
              "      padding: 0 0 0 0;\n",
              "      width: 32px;\n",
              "    }\n",
              "\n",
              "    .colab-df-convert:hover {\n",
              "      background-color: #E2EBFA;\n",
              "      box-shadow: 0px 1px 2px rgba(60, 64, 67, 0.3), 0px 1px 3px 1px rgba(60, 64, 67, 0.15);\n",
              "      fill: #174EA6;\n",
              "    }\n",
              "\n",
              "    [theme=dark] .colab-df-convert {\n",
              "      background-color: #3B4455;\n",
              "      fill: #D2E3FC;\n",
              "    }\n",
              "\n",
              "    [theme=dark] .colab-df-convert:hover {\n",
              "      background-color: #434B5C;\n",
              "      box-shadow: 0px 1px 3px 1px rgba(0, 0, 0, 0.15);\n",
              "      filter: drop-shadow(0px 1px 2px rgba(0, 0, 0, 0.3));\n",
              "      fill: #FFFFFF;\n",
              "    }\n",
              "  </style>\n",
              "\n",
              "      <script>\n",
              "        const buttonEl =\n",
              "          document.querySelector('#df-4b774dbb-2f44-4359-9569-30d7f4a98736 button.colab-df-convert');\n",
              "        buttonEl.style.display =\n",
              "          google.colab.kernel.accessAllowed ? 'block' : 'none';\n",
              "\n",
              "        async function convertToInteractive(key) {\n",
              "          const element = document.querySelector('#df-4b774dbb-2f44-4359-9569-30d7f4a98736');\n",
              "          const dataTable =\n",
              "            await google.colab.kernel.invokeFunction('convertToInteractive',\n",
              "                                                     [key], {});\n",
              "          if (!dataTable) return;\n",
              "\n",
              "          const docLinkHtml = 'Like what you see? Visit the ' +\n",
              "            '<a target=\"_blank\" href=https://colab.research.google.com/notebooks/data_table.ipynb>data table notebook</a>'\n",
              "            + ' to learn more about interactive tables.';\n",
              "          element.innerHTML = '';\n",
              "          dataTable['output_type'] = 'display_data';\n",
              "          await google.colab.output.renderOutput(dataTable, element);\n",
              "          const docLink = document.createElement('div');\n",
              "          docLink.innerHTML = docLinkHtml;\n",
              "          element.appendChild(docLink);\n",
              "        }\n",
              "      </script>\n",
              "    </div>\n",
              "  </div>\n",
              "  "
            ],
            "text/plain": [
              "           X0        X1\n",
              "79  -0.791496 -0.681075\n",
              "561  0.853725 -0.003334\n",
              "628  0.594495 -0.553052\n",
              "171  0.944695 -0.245993\n",
              "215 -0.494469 -0.883803\n",
              "..        ...       ...\n",
              "682 -0.822823 -0.146383\n",
              "64   0.217368  0.764661\n",
              "14   0.600776 -0.587426\n",
              "566 -0.475190  0.686393\n",
              "459  0.440869 -0.894430\n",
              "\n",
              "[800 rows x 2 columns]"
            ]
          },
          "metadata": {},
          "execution_count": 15
        }
      ]
    },
    {
      "cell_type": "code",
      "source": [
        "X_train.shape,y_train.shape\n"
      ],
      "metadata": {
        "colab": {
          "base_uri": "https://localhost:8080/"
        },
        "id": "jA4kngckxpJf",
        "outputId": "f42662f1-83dd-46a8-95b3-bc4b2740607b"
      },
      "execution_count": 16,
      "outputs": [
        {
          "output_type": "execute_result",
          "data": {
            "text/plain": [
              "((800, 2), (800,))"
            ]
          },
          "metadata": {},
          "execution_count": 16
        }
      ]
    },
    {
      "cell_type": "code",
      "source": [
        "X_test.shape,y_test.shape\n"
      ],
      "metadata": {
        "colab": {
          "base_uri": "https://localhost:8080/"
        },
        "id": "qP-QYOeQxpMY",
        "outputId": "c897a001-2c66-471f-b91a-f1673c894647"
      },
      "execution_count": 17,
      "outputs": [
        {
          "output_type": "execute_result",
          "data": {
            "text/plain": [
              "((200, 2), (200,))"
            ]
          },
          "metadata": {},
          "execution_count": 17
        }
      ]
    },
    {
      "cell_type": "code",
      "source": [
        "X_train"
      ],
      "metadata": {
        "colab": {
          "base_uri": "https://localhost:8080/",
          "height": 423
        },
        "id": "_1rKcoZ45Flm",
        "outputId": "9f5472ed-7314-4b47-e860-8d8e17ef0c8b"
      },
      "execution_count": 18,
      "outputs": [
        {
          "output_type": "execute_result",
          "data": {
            "text/html": [
              "\n",
              "  <div id=\"df-ede1d478-16e2-4231-81b0-8978b43bd5aa\">\n",
              "    <div class=\"colab-df-container\">\n",
              "      <div>\n",
              "<style scoped>\n",
              "    .dataframe tbody tr th:only-of-type {\n",
              "        vertical-align: middle;\n",
              "    }\n",
              "\n",
              "    .dataframe tbody tr th {\n",
              "        vertical-align: top;\n",
              "    }\n",
              "\n",
              "    .dataframe thead th {\n",
              "        text-align: right;\n",
              "    }\n",
              "</style>\n",
              "<table border=\"1\" class=\"dataframe\">\n",
              "  <thead>\n",
              "    <tr style=\"text-align: right;\">\n",
              "      <th></th>\n",
              "      <th>X0</th>\n",
              "      <th>X1</th>\n",
              "    </tr>\n",
              "  </thead>\n",
              "  <tbody>\n",
              "    <tr>\n",
              "      <th>79</th>\n",
              "      <td>-0.791496</td>\n",
              "      <td>-0.681075</td>\n",
              "    </tr>\n",
              "    <tr>\n",
              "      <th>561</th>\n",
              "      <td>0.853725</td>\n",
              "      <td>-0.003334</td>\n",
              "    </tr>\n",
              "    <tr>\n",
              "      <th>628</th>\n",
              "      <td>0.594495</td>\n",
              "      <td>-0.553052</td>\n",
              "    </tr>\n",
              "    <tr>\n",
              "      <th>171</th>\n",
              "      <td>0.944695</td>\n",
              "      <td>-0.245993</td>\n",
              "    </tr>\n",
              "    <tr>\n",
              "      <th>215</th>\n",
              "      <td>-0.494469</td>\n",
              "      <td>-0.883803</td>\n",
              "    </tr>\n",
              "    <tr>\n",
              "      <th>...</th>\n",
              "      <td>...</td>\n",
              "      <td>...</td>\n",
              "    </tr>\n",
              "    <tr>\n",
              "      <th>682</th>\n",
              "      <td>-0.822823</td>\n",
              "      <td>-0.146383</td>\n",
              "    </tr>\n",
              "    <tr>\n",
              "      <th>64</th>\n",
              "      <td>0.217368</td>\n",
              "      <td>0.764661</td>\n",
              "    </tr>\n",
              "    <tr>\n",
              "      <th>14</th>\n",
              "      <td>0.600776</td>\n",
              "      <td>-0.587426</td>\n",
              "    </tr>\n",
              "    <tr>\n",
              "      <th>566</th>\n",
              "      <td>-0.475190</td>\n",
              "      <td>0.686393</td>\n",
              "    </tr>\n",
              "    <tr>\n",
              "      <th>459</th>\n",
              "      <td>0.440869</td>\n",
              "      <td>-0.894430</td>\n",
              "    </tr>\n",
              "  </tbody>\n",
              "</table>\n",
              "<p>800 rows × 2 columns</p>\n",
              "</div>\n",
              "      <button class=\"colab-df-convert\" onclick=\"convertToInteractive('df-ede1d478-16e2-4231-81b0-8978b43bd5aa')\"\n",
              "              title=\"Convert this dataframe to an interactive table.\"\n",
              "              style=\"display:none;\">\n",
              "        \n",
              "  <svg xmlns=\"http://www.w3.org/2000/svg\" height=\"24px\"viewBox=\"0 0 24 24\"\n",
              "       width=\"24px\">\n",
              "    <path d=\"M0 0h24v24H0V0z\" fill=\"none\"/>\n",
              "    <path d=\"M18.56 5.44l.94 2.06.94-2.06 2.06-.94-2.06-.94-.94-2.06-.94 2.06-2.06.94zm-11 1L8.5 8.5l.94-2.06 2.06-.94-2.06-.94L8.5 2.5l-.94 2.06-2.06.94zm10 10l.94 2.06.94-2.06 2.06-.94-2.06-.94-.94-2.06-.94 2.06-2.06.94z\"/><path d=\"M17.41 7.96l-1.37-1.37c-.4-.4-.92-.59-1.43-.59-.52 0-1.04.2-1.43.59L10.3 9.45l-7.72 7.72c-.78.78-.78 2.05 0 2.83L4 21.41c.39.39.9.59 1.41.59.51 0 1.02-.2 1.41-.59l7.78-7.78 2.81-2.81c.8-.78.8-2.07 0-2.86zM5.41 20L4 18.59l7.72-7.72 1.47 1.35L5.41 20z\"/>\n",
              "  </svg>\n",
              "      </button>\n",
              "      \n",
              "  <style>\n",
              "    .colab-df-container {\n",
              "      display:flex;\n",
              "      flex-wrap:wrap;\n",
              "      gap: 12px;\n",
              "    }\n",
              "\n",
              "    .colab-df-convert {\n",
              "      background-color: #E8F0FE;\n",
              "      border: none;\n",
              "      border-radius: 50%;\n",
              "      cursor: pointer;\n",
              "      display: none;\n",
              "      fill: #1967D2;\n",
              "      height: 32px;\n",
              "      padding: 0 0 0 0;\n",
              "      width: 32px;\n",
              "    }\n",
              "\n",
              "    .colab-df-convert:hover {\n",
              "      background-color: #E2EBFA;\n",
              "      box-shadow: 0px 1px 2px rgba(60, 64, 67, 0.3), 0px 1px 3px 1px rgba(60, 64, 67, 0.15);\n",
              "      fill: #174EA6;\n",
              "    }\n",
              "\n",
              "    [theme=dark] .colab-df-convert {\n",
              "      background-color: #3B4455;\n",
              "      fill: #D2E3FC;\n",
              "    }\n",
              "\n",
              "    [theme=dark] .colab-df-convert:hover {\n",
              "      background-color: #434B5C;\n",
              "      box-shadow: 0px 1px 3px 1px rgba(0, 0, 0, 0.15);\n",
              "      filter: drop-shadow(0px 1px 2px rgba(0, 0, 0, 0.3));\n",
              "      fill: #FFFFFF;\n",
              "    }\n",
              "  </style>\n",
              "\n",
              "      <script>\n",
              "        const buttonEl =\n",
              "          document.querySelector('#df-ede1d478-16e2-4231-81b0-8978b43bd5aa button.colab-df-convert');\n",
              "        buttonEl.style.display =\n",
              "          google.colab.kernel.accessAllowed ? 'block' : 'none';\n",
              "\n",
              "        async function convertToInteractive(key) {\n",
              "          const element = document.querySelector('#df-ede1d478-16e2-4231-81b0-8978b43bd5aa');\n",
              "          const dataTable =\n",
              "            await google.colab.kernel.invokeFunction('convertToInteractive',\n",
              "                                                     [key], {});\n",
              "          if (!dataTable) return;\n",
              "\n",
              "          const docLinkHtml = 'Like what you see? Visit the ' +\n",
              "            '<a target=\"_blank\" href=https://colab.research.google.com/notebooks/data_table.ipynb>data table notebook</a>'\n",
              "            + ' to learn more about interactive tables.';\n",
              "          element.innerHTML = '';\n",
              "          dataTable['output_type'] = 'display_data';\n",
              "          await google.colab.output.renderOutput(dataTable, element);\n",
              "          const docLink = document.createElement('div');\n",
              "          docLink.innerHTML = docLinkHtml;\n",
              "          element.appendChild(docLink);\n",
              "        }\n",
              "      </script>\n",
              "    </div>\n",
              "  </div>\n",
              "  "
            ],
            "text/plain": [
              "           X0        X1\n",
              "79  -0.791496 -0.681075\n",
              "561  0.853725 -0.003334\n",
              "628  0.594495 -0.553052\n",
              "171  0.944695 -0.245993\n",
              "215 -0.494469 -0.883803\n",
              "..        ...       ...\n",
              "682 -0.822823 -0.146383\n",
              "64   0.217368  0.764661\n",
              "14   0.600776 -0.587426\n",
              "566 -0.475190  0.686393\n",
              "459  0.440869 -0.894430\n",
              "\n",
              "[800 rows x 2 columns]"
            ]
          },
          "metadata": {},
          "execution_count": 18
        }
      ]
    },
    {
      "cell_type": "code",
      "source": [
        "X_test"
      ],
      "metadata": {
        "colab": {
          "base_uri": "https://localhost:8080/",
          "height": 423
        },
        "id": "fm3Xsaim5FoT",
        "outputId": "344649b8-fe14-4c79-cc4f-a1160568ccfd"
      },
      "execution_count": 19,
      "outputs": [
        {
          "output_type": "execute_result",
          "data": {
            "text/html": [
              "\n",
              "  <div id=\"df-bed09df2-0653-4fca-b373-31010ec2af4e\">\n",
              "    <div class=\"colab-df-container\">\n",
              "      <div>\n",
              "<style scoped>\n",
              "    .dataframe tbody tr th:only-of-type {\n",
              "        vertical-align: middle;\n",
              "    }\n",
              "\n",
              "    .dataframe tbody tr th {\n",
              "        vertical-align: top;\n",
              "    }\n",
              "\n",
              "    .dataframe thead th {\n",
              "        text-align: right;\n",
              "    }\n",
              "</style>\n",
              "<table border=\"1\" class=\"dataframe\">\n",
              "  <thead>\n",
              "    <tr style=\"text-align: right;\">\n",
              "      <th></th>\n",
              "      <th>X0</th>\n",
              "      <th>X1</th>\n",
              "    </tr>\n",
              "  </thead>\n",
              "  <tbody>\n",
              "    <tr>\n",
              "      <th>467</th>\n",
              "      <td>0.489998</td>\n",
              "      <td>-0.888534</td>\n",
              "    </tr>\n",
              "    <tr>\n",
              "      <th>622</th>\n",
              "      <td>-0.244239</td>\n",
              "      <td>-0.825927</td>\n",
              "    </tr>\n",
              "    <tr>\n",
              "      <th>243</th>\n",
              "      <td>-0.709001</td>\n",
              "      <td>-0.489106</td>\n",
              "    </tr>\n",
              "    <tr>\n",
              "      <th>970</th>\n",
              "      <td>0.655420</td>\n",
              "      <td>-0.398495</td>\n",
              "    </tr>\n",
              "    <tr>\n",
              "      <th>285</th>\n",
              "      <td>-0.764493</td>\n",
              "      <td>0.342377</td>\n",
              "    </tr>\n",
              "    <tr>\n",
              "      <th>...</th>\n",
              "      <td>...</td>\n",
              "      <td>...</td>\n",
              "    </tr>\n",
              "    <tr>\n",
              "      <th>534</th>\n",
              "      <td>-0.268965</td>\n",
              "      <td>-0.763113</td>\n",
              "    </tr>\n",
              "    <tr>\n",
              "      <th>722</th>\n",
              "      <td>0.162972</td>\n",
              "      <td>0.779841</td>\n",
              "    </tr>\n",
              "    <tr>\n",
              "      <th>257</th>\n",
              "      <td>0.418401</td>\n",
              "      <td>-0.733520</td>\n",
              "    </tr>\n",
              "    <tr>\n",
              "      <th>873</th>\n",
              "      <td>0.803978</td>\n",
              "      <td>0.223053</td>\n",
              "    </tr>\n",
              "    <tr>\n",
              "      <th>693</th>\n",
              "      <td>-0.771645</td>\n",
              "      <td>0.232490</td>\n",
              "    </tr>\n",
              "  </tbody>\n",
              "</table>\n",
              "<p>200 rows × 2 columns</p>\n",
              "</div>\n",
              "      <button class=\"colab-df-convert\" onclick=\"convertToInteractive('df-bed09df2-0653-4fca-b373-31010ec2af4e')\"\n",
              "              title=\"Convert this dataframe to an interactive table.\"\n",
              "              style=\"display:none;\">\n",
              "        \n",
              "  <svg xmlns=\"http://www.w3.org/2000/svg\" height=\"24px\"viewBox=\"0 0 24 24\"\n",
              "       width=\"24px\">\n",
              "    <path d=\"M0 0h24v24H0V0z\" fill=\"none\"/>\n",
              "    <path d=\"M18.56 5.44l.94 2.06.94-2.06 2.06-.94-2.06-.94-.94-2.06-.94 2.06-2.06.94zm-11 1L8.5 8.5l.94-2.06 2.06-.94-2.06-.94L8.5 2.5l-.94 2.06-2.06.94zm10 10l.94 2.06.94-2.06 2.06-.94-2.06-.94-.94-2.06-.94 2.06-2.06.94z\"/><path d=\"M17.41 7.96l-1.37-1.37c-.4-.4-.92-.59-1.43-.59-.52 0-1.04.2-1.43.59L10.3 9.45l-7.72 7.72c-.78.78-.78 2.05 0 2.83L4 21.41c.39.39.9.59 1.41.59.51 0 1.02-.2 1.41-.59l7.78-7.78 2.81-2.81c.8-.78.8-2.07 0-2.86zM5.41 20L4 18.59l7.72-7.72 1.47 1.35L5.41 20z\"/>\n",
              "  </svg>\n",
              "      </button>\n",
              "      \n",
              "  <style>\n",
              "    .colab-df-container {\n",
              "      display:flex;\n",
              "      flex-wrap:wrap;\n",
              "      gap: 12px;\n",
              "    }\n",
              "\n",
              "    .colab-df-convert {\n",
              "      background-color: #E8F0FE;\n",
              "      border: none;\n",
              "      border-radius: 50%;\n",
              "      cursor: pointer;\n",
              "      display: none;\n",
              "      fill: #1967D2;\n",
              "      height: 32px;\n",
              "      padding: 0 0 0 0;\n",
              "      width: 32px;\n",
              "    }\n",
              "\n",
              "    .colab-df-convert:hover {\n",
              "      background-color: #E2EBFA;\n",
              "      box-shadow: 0px 1px 2px rgba(60, 64, 67, 0.3), 0px 1px 3px 1px rgba(60, 64, 67, 0.15);\n",
              "      fill: #174EA6;\n",
              "    }\n",
              "\n",
              "    [theme=dark] .colab-df-convert {\n",
              "      background-color: #3B4455;\n",
              "      fill: #D2E3FC;\n",
              "    }\n",
              "\n",
              "    [theme=dark] .colab-df-convert:hover {\n",
              "      background-color: #434B5C;\n",
              "      box-shadow: 0px 1px 3px 1px rgba(0, 0, 0, 0.15);\n",
              "      filter: drop-shadow(0px 1px 2px rgba(0, 0, 0, 0.3));\n",
              "      fill: #FFFFFF;\n",
              "    }\n",
              "  </style>\n",
              "\n",
              "      <script>\n",
              "        const buttonEl =\n",
              "          document.querySelector('#df-bed09df2-0653-4fca-b373-31010ec2af4e button.colab-df-convert');\n",
              "        buttonEl.style.display =\n",
              "          google.colab.kernel.accessAllowed ? 'block' : 'none';\n",
              "\n",
              "        async function convertToInteractive(key) {\n",
              "          const element = document.querySelector('#df-bed09df2-0653-4fca-b373-31010ec2af4e');\n",
              "          const dataTable =\n",
              "            await google.colab.kernel.invokeFunction('convertToInteractive',\n",
              "                                                     [key], {});\n",
              "          if (!dataTable) return;\n",
              "\n",
              "          const docLinkHtml = 'Like what you see? Visit the ' +\n",
              "            '<a target=\"_blank\" href=https://colab.research.google.com/notebooks/data_table.ipynb>data table notebook</a>'\n",
              "            + ' to learn more about interactive tables.';\n",
              "          element.innerHTML = '';\n",
              "          dataTable['output_type'] = 'display_data';\n",
              "          await google.colab.output.renderOutput(dataTable, element);\n",
              "          const docLink = document.createElement('div');\n",
              "          docLink.innerHTML = docLinkHtml;\n",
              "          element.appendChild(docLink);\n",
              "        }\n",
              "      </script>\n",
              "    </div>\n",
              "  </div>\n",
              "  "
            ],
            "text/plain": [
              "           X0        X1\n",
              "467  0.489998 -0.888534\n",
              "622 -0.244239 -0.825927\n",
              "243 -0.709001 -0.489106\n",
              "970  0.655420 -0.398495\n",
              "285 -0.764493  0.342377\n",
              "..        ...       ...\n",
              "534 -0.268965 -0.763113\n",
              "722  0.162972  0.779841\n",
              "257  0.418401 -0.733520\n",
              "873  0.803978  0.223053\n",
              "693 -0.771645  0.232490\n",
              "\n",
              "[200 rows x 2 columns]"
            ]
          },
          "metadata": {},
          "execution_count": 19
        }
      ]
    },
    {
      "cell_type": "code",
      "source": [
        "import tensorflow as tf"
      ],
      "metadata": {
        "id": "45CeHK4J2NNX"
      },
      "execution_count": 20,
      "outputs": []
    },
    {
      "cell_type": "code",
      "source": [
        "# No need to scale\n",
        "import numpy as np\n",
        "np.median(X_train),np.mean(X_train)\n",
        "\n"
      ],
      "metadata": {
        "colab": {
          "base_uri": "https://localhost:8080/"
        },
        "id": "gIUjTckHxpPO",
        "outputId": "ebbf24f9-e8e9-42de-c66a-69d461a58158"
      },
      "execution_count": 21,
      "outputs": [
        {
          "output_type": "execute_result",
          "data": {
            "text/plain": [
              "(-0.017332325994136834, X0   -0.010507\n",
              " X1   -0.008830\n",
              " dtype: float64)"
            ]
          },
          "metadata": {},
          "execution_count": 21
        }
      ]
    },
    {
      "cell_type": "code",
      "source": [
        ""
      ],
      "metadata": {
        "id": "6ANDOjL34OGW"
      },
      "execution_count": 21,
      "outputs": []
    },
    {
      "cell_type": "code",
      "source": [
        ""
      ],
      "metadata": {
        "id": "pnPEvpZB4OIn"
      },
      "execution_count": 21,
      "outputs": []
    },
    {
      "cell_type": "markdown",
      "source": [
        "### Model Creation"
      ],
      "metadata": {
        "id": "5UOQzMnmxpSM"
      }
    },
    {
      "cell_type": "code",
      "source": [
        "# Random seed\n",
        "tf.random.set_seed(42)\n",
        "\n",
        "#1. Create a model\n",
        "model = tf.keras.Sequential([\n",
        "                             tf.keras.layers.Dense(1)\n",
        "])\n",
        "\n",
        "#2. Compile the model\n",
        "model.compile(loss = tf.keras.losses.BinaryCrossentropy(),\n",
        "              optimizer = tf.keras.optimizers.SGD(),\n",
        "              metrics = [\"accuracy\"])\n",
        "\n",
        "history = model.fit(X_train,y_train,epochs = 100)"
      ],
      "metadata": {
        "colab": {
          "base_uri": "https://localhost:8080/"
        },
        "id": "ayGl1GBTzkdl",
        "outputId": "b5eba1bb-e388-4136-9f81-c52f93ffaffc"
      },
      "execution_count": 22,
      "outputs": [
        {
          "output_type": "stream",
          "name": "stdout",
          "text": [
            "Epoch 1/100\n",
            "25/25 [==============================] - 1s 2ms/step - loss: 2.0826 - accuracy: 0.5000\n",
            "Epoch 2/100\n",
            "25/25 [==============================] - 0s 2ms/step - loss: 0.7443 - accuracy: 0.4900\n",
            "Epoch 3/100\n",
            "25/25 [==============================] - 0s 2ms/step - loss: 0.7135 - accuracy: 0.4875\n",
            "Epoch 4/100\n",
            "25/25 [==============================] - 0s 2ms/step - loss: 0.7023 - accuracy: 0.4950\n",
            "Epoch 5/100\n",
            "25/25 [==============================] - 0s 1ms/step - loss: 0.6973 - accuracy: 0.4938\n",
            "Epoch 6/100\n",
            "25/25 [==============================] - 0s 2ms/step - loss: 0.6959 - accuracy: 0.4888\n",
            "Epoch 7/100\n",
            "25/25 [==============================] - 0s 2ms/step - loss: 0.6949 - accuracy: 0.4863\n",
            "Epoch 8/100\n",
            "25/25 [==============================] - 0s 2ms/step - loss: 0.6945 - accuracy: 0.5050\n",
            "Epoch 9/100\n",
            "25/25 [==============================] - 0s 1ms/step - loss: 0.6941 - accuracy: 0.4800\n",
            "Epoch 10/100\n",
            "25/25 [==============================] - 0s 1ms/step - loss: 0.6940 - accuracy: 0.5038\n",
            "Epoch 11/100\n",
            "25/25 [==============================] - 0s 2ms/step - loss: 0.6942 - accuracy: 0.4650\n",
            "Epoch 12/100\n",
            "25/25 [==============================] - 0s 1ms/step - loss: 0.6938 - accuracy: 0.4888\n",
            "Epoch 13/100\n",
            "25/25 [==============================] - 0s 1ms/step - loss: 0.6941 - accuracy: 0.4913\n",
            "Epoch 14/100\n",
            "25/25 [==============================] - 0s 1ms/step - loss: 0.6940 - accuracy: 0.4850\n",
            "Epoch 15/100\n",
            "25/25 [==============================] - 0s 2ms/step - loss: 0.6939 - accuracy: 0.4863\n",
            "Epoch 16/100\n",
            "25/25 [==============================] - 0s 1ms/step - loss: 0.6942 - accuracy: 0.4512\n",
            "Epoch 17/100\n",
            "25/25 [==============================] - 0s 1ms/step - loss: 0.6939 - accuracy: 0.4625\n",
            "Epoch 18/100\n",
            "25/25 [==============================] - 0s 2ms/step - loss: 0.6944 - accuracy: 0.4825\n",
            "Epoch 19/100\n",
            "25/25 [==============================] - 0s 1ms/step - loss: 0.6945 - accuracy: 0.4688\n",
            "Epoch 20/100\n",
            "25/25 [==============================] - 0s 2ms/step - loss: 0.6938 - accuracy: 0.4825\n",
            "Epoch 21/100\n",
            "25/25 [==============================] - 0s 2ms/step - loss: 0.6943 - accuracy: 0.4688\n",
            "Epoch 22/100\n",
            "25/25 [==============================] - 0s 1ms/step - loss: 0.6940 - accuracy: 0.4663\n",
            "Epoch 23/100\n",
            "25/25 [==============================] - 0s 1ms/step - loss: 0.6939 - accuracy: 0.4938\n",
            "Epoch 24/100\n",
            "25/25 [==============================] - 0s 2ms/step - loss: 0.6942 - accuracy: 0.4588\n",
            "Epoch 25/100\n",
            "25/25 [==============================] - 0s 1ms/step - loss: 0.6941 - accuracy: 0.4900\n",
            "Epoch 26/100\n",
            "25/25 [==============================] - 0s 2ms/step - loss: 0.6941 - accuracy: 0.4787\n",
            "Epoch 27/100\n",
            "25/25 [==============================] - 0s 2ms/step - loss: 0.6937 - accuracy: 0.4938\n",
            "Epoch 28/100\n",
            "25/25 [==============================] - 0s 2ms/step - loss: 0.6942 - accuracy: 0.4988\n",
            "Epoch 29/100\n",
            "25/25 [==============================] - 0s 2ms/step - loss: 0.6945 - accuracy: 0.4775\n",
            "Epoch 30/100\n",
            "25/25 [==============================] - 0s 2ms/step - loss: 0.6942 - accuracy: 0.4850\n",
            "Epoch 31/100\n",
            "25/25 [==============================] - 0s 2ms/step - loss: 0.6944 - accuracy: 0.4913\n",
            "Epoch 32/100\n",
            "25/25 [==============================] - 0s 1ms/step - loss: 0.6942 - accuracy: 0.4750\n",
            "Epoch 33/100\n",
            "25/25 [==============================] - 0s 1ms/step - loss: 0.6940 - accuracy: 0.4600\n",
            "Epoch 34/100\n",
            "25/25 [==============================] - 0s 2ms/step - loss: 0.6943 - accuracy: 0.4487\n",
            "Epoch 35/100\n",
            "25/25 [==============================] - 0s 2ms/step - loss: 0.6940 - accuracy: 0.4913\n",
            "Epoch 36/100\n",
            "25/25 [==============================] - 0s 1ms/step - loss: 0.6940 - accuracy: 0.4850\n",
            "Epoch 37/100\n",
            "25/25 [==============================] - 0s 2ms/step - loss: 0.6941 - accuracy: 0.4787\n",
            "Epoch 38/100\n",
            "25/25 [==============================] - 0s 1ms/step - loss: 0.6944 - accuracy: 0.4650\n",
            "Epoch 39/100\n",
            "25/25 [==============================] - 0s 1ms/step - loss: 0.6940 - accuracy: 0.4563\n",
            "Epoch 40/100\n",
            "25/25 [==============================] - 0s 1ms/step - loss: 0.6940 - accuracy: 0.4450\n",
            "Epoch 41/100\n",
            "25/25 [==============================] - 0s 1ms/step - loss: 0.6940 - accuracy: 0.4750\n",
            "Epoch 42/100\n",
            "25/25 [==============================] - 0s 2ms/step - loss: 0.6937 - accuracy: 0.5050\n",
            "Epoch 43/100\n",
            "25/25 [==============================] - 0s 1ms/step - loss: 0.6939 - accuracy: 0.4800\n",
            "Epoch 44/100\n",
            "25/25 [==============================] - 0s 2ms/step - loss: 0.6940 - accuracy: 0.5063\n",
            "Epoch 45/100\n",
            "25/25 [==============================] - 0s 2ms/step - loss: 0.6939 - accuracy: 0.4638\n",
            "Epoch 46/100\n",
            "25/25 [==============================] - 0s 2ms/step - loss: 0.6945 - accuracy: 0.4538\n",
            "Epoch 47/100\n",
            "25/25 [==============================] - 0s 2ms/step - loss: 0.6938 - accuracy: 0.4762\n",
            "Epoch 48/100\n",
            "25/25 [==============================] - 0s 2ms/step - loss: 0.6942 - accuracy: 0.4762\n",
            "Epoch 49/100\n",
            "25/25 [==============================] - 0s 2ms/step - loss: 0.6944 - accuracy: 0.4475\n",
            "Epoch 50/100\n",
            "25/25 [==============================] - 0s 2ms/step - loss: 0.6940 - accuracy: 0.5213\n",
            "Epoch 51/100\n",
            "25/25 [==============================] - 0s 2ms/step - loss: 0.6942 - accuracy: 0.4600\n",
            "Epoch 52/100\n",
            "25/25 [==============================] - 0s 2ms/step - loss: 0.6938 - accuracy: 0.4762\n",
            "Epoch 53/100\n",
            "25/25 [==============================] - 0s 1ms/step - loss: 0.6945 - accuracy: 0.4938\n",
            "Epoch 54/100\n",
            "25/25 [==============================] - 0s 2ms/step - loss: 0.6937 - accuracy: 0.5275\n",
            "Epoch 55/100\n",
            "25/25 [==============================] - 0s 1ms/step - loss: 0.6940 - accuracy: 0.4800\n",
            "Epoch 56/100\n",
            "25/25 [==============================] - 0s 1ms/step - loss: 0.6940 - accuracy: 0.4700\n",
            "Epoch 57/100\n",
            "25/25 [==============================] - 0s 2ms/step - loss: 0.6940 - accuracy: 0.4600\n",
            "Epoch 58/100\n",
            "25/25 [==============================] - 0s 1ms/step - loss: 0.6938 - accuracy: 0.5013\n",
            "Epoch 59/100\n",
            "25/25 [==============================] - 0s 1ms/step - loss: 0.6942 - accuracy: 0.4938\n",
            "Epoch 60/100\n",
            "25/25 [==============================] - 0s 2ms/step - loss: 0.6945 - accuracy: 0.4675\n",
            "Epoch 61/100\n",
            "25/25 [==============================] - 0s 1ms/step - loss: 0.6943 - accuracy: 0.4787\n",
            "Epoch 62/100\n",
            "25/25 [==============================] - 0s 2ms/step - loss: 0.6938 - accuracy: 0.5175\n",
            "Epoch 63/100\n",
            "25/25 [==============================] - 0s 1ms/step - loss: 0.6940 - accuracy: 0.4750\n",
            "Epoch 64/100\n",
            "25/25 [==============================] - 0s 2ms/step - loss: 0.6939 - accuracy: 0.4975\n",
            "Epoch 65/100\n",
            "25/25 [==============================] - 0s 1ms/step - loss: 0.6942 - accuracy: 0.4988\n",
            "Epoch 66/100\n",
            "25/25 [==============================] - 0s 2ms/step - loss: 0.6938 - accuracy: 0.4663\n",
            "Epoch 67/100\n",
            "25/25 [==============================] - 0s 1ms/step - loss: 0.6941 - accuracy: 0.4913\n",
            "Epoch 68/100\n",
            "25/25 [==============================] - 0s 1ms/step - loss: 0.6940 - accuracy: 0.5200\n",
            "Epoch 69/100\n",
            "25/25 [==============================] - 0s 1ms/step - loss: 0.6941 - accuracy: 0.4725\n",
            "Epoch 70/100\n",
            "25/25 [==============================] - 0s 2ms/step - loss: 0.6941 - accuracy: 0.5013\n",
            "Epoch 71/100\n",
            "25/25 [==============================] - 0s 1ms/step - loss: 0.6939 - accuracy: 0.4825\n",
            "Epoch 72/100\n",
            "25/25 [==============================] - 0s 2ms/step - loss: 0.6942 - accuracy: 0.4613\n",
            "Epoch 73/100\n",
            "25/25 [==============================] - 0s 2ms/step - loss: 0.6940 - accuracy: 0.4750\n",
            "Epoch 74/100\n",
            "25/25 [==============================] - 0s 2ms/step - loss: 0.6943 - accuracy: 0.4725\n",
            "Epoch 75/100\n",
            "25/25 [==============================] - 0s 2ms/step - loss: 0.6943 - accuracy: 0.4638\n",
            "Epoch 76/100\n",
            "25/25 [==============================] - 0s 2ms/step - loss: 0.6941 - accuracy: 0.4725\n",
            "Epoch 77/100\n",
            "25/25 [==============================] - 0s 2ms/step - loss: 0.6940 - accuracy: 0.4888\n",
            "Epoch 78/100\n",
            "25/25 [==============================] - 0s 1ms/step - loss: 0.6945 - accuracy: 0.4450\n",
            "Epoch 79/100\n",
            "25/25 [==============================] - 0s 1ms/step - loss: 0.6940 - accuracy: 0.4888\n",
            "Epoch 80/100\n",
            "25/25 [==============================] - 0s 1ms/step - loss: 0.6940 - accuracy: 0.4775\n",
            "Epoch 81/100\n",
            "25/25 [==============================] - 0s 1ms/step - loss: 0.6945 - accuracy: 0.4787\n",
            "Epoch 82/100\n",
            "25/25 [==============================] - 0s 1ms/step - loss: 0.6943 - accuracy: 0.4762\n",
            "Epoch 83/100\n",
            "25/25 [==============================] - 0s 2ms/step - loss: 0.6941 - accuracy: 0.4737\n",
            "Epoch 84/100\n",
            "25/25 [==============================] - 0s 2ms/step - loss: 0.6943 - accuracy: 0.5000\n",
            "Epoch 85/100\n",
            "25/25 [==============================] - 0s 1ms/step - loss: 0.6945 - accuracy: 0.4650\n",
            "Epoch 86/100\n",
            "25/25 [==============================] - 0s 1ms/step - loss: 0.6941 - accuracy: 0.4700\n",
            "Epoch 87/100\n",
            "25/25 [==============================] - 0s 1ms/step - loss: 0.6939 - accuracy: 0.4625\n",
            "Epoch 88/100\n",
            "25/25 [==============================] - 0s 1ms/step - loss: 0.6942 - accuracy: 0.4938\n",
            "Epoch 89/100\n",
            "25/25 [==============================] - 0s 1ms/step - loss: 0.6938 - accuracy: 0.4762\n",
            "Epoch 90/100\n",
            "25/25 [==============================] - 0s 1ms/step - loss: 0.6941 - accuracy: 0.5138\n",
            "Epoch 91/100\n",
            "25/25 [==============================] - 0s 1ms/step - loss: 0.6943 - accuracy: 0.4550\n",
            "Epoch 92/100\n",
            "25/25 [==============================] - 0s 1ms/step - loss: 0.6944 - accuracy: 0.4500\n",
            "Epoch 93/100\n",
            "25/25 [==============================] - 0s 1ms/step - loss: 0.6942 - accuracy: 0.4825\n",
            "Epoch 94/100\n",
            "25/25 [==============================] - 0s 2ms/step - loss: 0.6941 - accuracy: 0.4825\n",
            "Epoch 95/100\n",
            "25/25 [==============================] - 0s 2ms/step - loss: 0.6941 - accuracy: 0.4837\n",
            "Epoch 96/100\n",
            "25/25 [==============================] - 0s 1ms/step - loss: 0.6944 - accuracy: 0.4900\n",
            "Epoch 97/100\n",
            "25/25 [==============================] - 0s 1ms/step - loss: 0.6942 - accuracy: 0.4663\n",
            "Epoch 98/100\n",
            "25/25 [==============================] - 0s 1ms/step - loss: 0.6939 - accuracy: 0.4863\n",
            "Epoch 99/100\n",
            "25/25 [==============================] - 0s 1ms/step - loss: 0.6941 - accuracy: 0.4975\n",
            "Epoch 100/100\n",
            "25/25 [==============================] - 0s 1ms/step - loss: 0.6939 - accuracy: 0.5150\n"
          ]
        }
      ]
    },
    {
      "cell_type": "code",
      "source": [
        "model.evaluate(X_test,y_test)"
      ],
      "metadata": {
        "colab": {
          "base_uri": "https://localhost:8080/"
        },
        "id": "srvaEkw4zkgA",
        "outputId": "db7eca51-62cd-43e0-fe3c-700a59103002"
      },
      "execution_count": 23,
      "outputs": [
        {
          "output_type": "stream",
          "name": "stdout",
          "text": [
            "7/7 [==============================] - 0s 2ms/step - loss: 0.6936 - accuracy: 0.5000\n"
          ]
        },
        {
          "output_type": "execute_result",
          "data": {
            "text/plain": [
              "[0.6936447620391846, 0.5]"
            ]
          },
          "metadata": {},
          "execution_count": 23
        }
      ]
    },
    {
      "cell_type": "code",
      "source": [
        "# Using more neurons in the first layer and adding another layer\n",
        "\n",
        "# Set random seed\n",
        "tf.random.set_seed(42)\n",
        "\n",
        "#1. Create a model\n",
        "model_1 = tf.keras.Sequential([\n",
        "                               tf.keras.layers.Dense(100,activation=\"relu\"),\n",
        "                               tf.keras.layers.Dense(10,activation=\"relu\"),\n",
        "                               tf.keras.layers.Dense(1,activation=\"softmax\")\n",
        "\n",
        "                               \n",
        "])\n",
        "\n",
        "#2. Compile the model\n",
        "\n",
        "model_1.compile(loss = tf.keras.losses.BinaryCrossentropy(),\n",
        "                optimizer = tf.keras.optimizers.SGD(),\n",
        "                metrics = [\"accuracy\"])\n",
        "\n",
        "#3. Fit the model\n",
        "model_1.fit(X_train,y_train,epochs = 100)"
      ],
      "metadata": {
        "colab": {
          "base_uri": "https://localhost:8080/",
          "height": 1000
        },
        "id": "RaNSdxA_vA0y",
        "outputId": "40029a7e-bbf8-417a-d88d-26ddf41cc40f"
      },
      "execution_count": 24,
      "outputs": [
        {
          "output_type": "stream",
          "name": "stdout",
          "text": [
            "Epoch 1/100\n",
            "25/25 [==============================] - 0s 2ms/step - loss: 0.6894 - accuracy: 0.5000\n",
            "Epoch 2/100\n",
            "25/25 [==============================] - 0s 1ms/step - loss: 0.6890 - accuracy: 0.5000\n",
            "Epoch 3/100\n",
            "25/25 [==============================] - 0s 2ms/step - loss: 0.6887 - accuracy: 0.5000\n",
            "Epoch 4/100\n",
            "25/25 [==============================] - 0s 2ms/step - loss: 0.6884 - accuracy: 0.5000\n",
            "Epoch 5/100\n",
            "25/25 [==============================] - 0s 2ms/step - loss: 0.6881 - accuracy: 0.5000\n",
            "Epoch 6/100\n",
            "25/25 [==============================] - 0s 2ms/step - loss: 0.6879 - accuracy: 0.5000\n",
            "Epoch 7/100\n",
            "25/25 [==============================] - 0s 1ms/step - loss: 0.6876 - accuracy: 0.5000\n",
            "Epoch 8/100\n",
            "25/25 [==============================] - 0s 2ms/step - loss: 0.6874 - accuracy: 0.5000\n",
            "Epoch 9/100\n",
            "25/25 [==============================] - 0s 2ms/step - loss: 0.6871 - accuracy: 0.5000\n",
            "Epoch 10/100\n",
            "25/25 [==============================] - 0s 2ms/step - loss: 0.6868 - accuracy: 0.5000\n",
            "Epoch 11/100\n",
            "25/25 [==============================] - 0s 2ms/step - loss: 0.6866 - accuracy: 0.5000\n",
            "Epoch 12/100\n",
            "25/25 [==============================] - 0s 2ms/step - loss: 0.6863 - accuracy: 0.5000\n",
            "Epoch 13/100\n",
            "25/25 [==============================] - 0s 2ms/step - loss: 0.6861 - accuracy: 0.5000\n",
            "Epoch 14/100\n",
            "25/25 [==============================] - 0s 2ms/step - loss: 0.6859 - accuracy: 0.5000\n",
            "Epoch 15/100\n",
            "25/25 [==============================] - 0s 2ms/step - loss: 0.6856 - accuracy: 0.5000\n",
            "Epoch 16/100\n",
            "25/25 [==============================] - 0s 2ms/step - loss: 0.6854 - accuracy: 0.5000\n",
            "Epoch 17/100\n",
            "25/25 [==============================] - 0s 2ms/step - loss: 0.6851 - accuracy: 0.5000\n",
            "Epoch 18/100\n",
            "25/25 [==============================] - 0s 2ms/step - loss: 0.6849 - accuracy: 0.5000\n",
            "Epoch 19/100\n",
            "25/25 [==============================] - 0s 2ms/step - loss: 0.6846 - accuracy: 0.5000\n",
            "Epoch 20/100\n",
            "25/25 [==============================] - 0s 2ms/step - loss: 0.6843 - accuracy: 0.5000\n",
            "Epoch 21/100\n",
            "25/25 [==============================] - 0s 2ms/step - loss: 0.6841 - accuracy: 0.5000\n",
            "Epoch 22/100\n",
            "25/25 [==============================] - 0s 2ms/step - loss: 0.6838 - accuracy: 0.5000\n",
            "Epoch 23/100\n",
            "25/25 [==============================] - 0s 2ms/step - loss: 0.6835 - accuracy: 0.5000\n",
            "Epoch 24/100\n",
            "25/25 [==============================] - 0s 2ms/step - loss: 0.6834 - accuracy: 0.5000\n",
            "Epoch 25/100\n",
            "25/25 [==============================] - 0s 2ms/step - loss: 0.6831 - accuracy: 0.5000\n",
            "Epoch 26/100\n",
            "25/25 [==============================] - 0s 2ms/step - loss: 0.6828 - accuracy: 0.5000\n",
            "Epoch 27/100\n",
            "25/25 [==============================] - 0s 2ms/step - loss: 0.6825 - accuracy: 0.5000\n",
            "Epoch 28/100\n",
            " 1/25 [>.............................] - ETA: 0s - loss: 0.6960 - accuracy: 0.5312\b\b\b\b\b\b\b\b\b\b\b\b\b\b\b\b\b\b\b\b\b\b\b\b\b\b\b\b\b\b\b\b\b\b\b\b\b\b\b\b\b\b\b\b\b\b\b\b\b\b\b\b\b\b\b\b\b\b\b\b\b\b\b\b\b\b\b\b\b\b\b\b\b\b\b\b\b\b\b\b\b\b"
          ]
        },
        {
          "output_type": "error",
          "ename": "KeyboardInterrupt",
          "evalue": "ignored",
          "traceback": [
            "\u001b[0;31m---------------------------------------------------------------------------\u001b[0m",
            "\u001b[0;31mKeyboardInterrupt\u001b[0m                         Traceback (most recent call last)",
            "\u001b[0;32m<ipython-input-24-ee5e7ccef5c6>\u001b[0m in \u001b[0;36m<module>\u001b[0;34m()\u001b[0m\n\u001b[1;32m     20\u001b[0m \u001b[0;34m\u001b[0m\u001b[0m\n\u001b[1;32m     21\u001b[0m \u001b[0;31m#3. Fit the model\u001b[0m\u001b[0;34m\u001b[0m\u001b[0;34m\u001b[0m\u001b[0;34m\u001b[0m\u001b[0m\n\u001b[0;32m---> 22\u001b[0;31m \u001b[0mmodel_1\u001b[0m\u001b[0;34m.\u001b[0m\u001b[0mfit\u001b[0m\u001b[0;34m(\u001b[0m\u001b[0mX_train\u001b[0m\u001b[0;34m,\u001b[0m\u001b[0my_train\u001b[0m\u001b[0;34m,\u001b[0m\u001b[0mepochs\u001b[0m \u001b[0;34m=\u001b[0m \u001b[0;36m100\u001b[0m\u001b[0;34m)\u001b[0m\u001b[0;34m\u001b[0m\u001b[0;34m\u001b[0m\u001b[0m\n\u001b[0m",
            "\u001b[0;32m/usr/local/lib/python3.7/dist-packages/keras/utils/traceback_utils.py\u001b[0m in \u001b[0;36merror_handler\u001b[0;34m(*args, **kwargs)\u001b[0m\n\u001b[1;32m     62\u001b[0m     \u001b[0mfiltered_tb\u001b[0m \u001b[0;34m=\u001b[0m \u001b[0;32mNone\u001b[0m\u001b[0;34m\u001b[0m\u001b[0;34m\u001b[0m\u001b[0m\n\u001b[1;32m     63\u001b[0m     \u001b[0;32mtry\u001b[0m\u001b[0;34m:\u001b[0m\u001b[0;34m\u001b[0m\u001b[0;34m\u001b[0m\u001b[0m\n\u001b[0;32m---> 64\u001b[0;31m       \u001b[0;32mreturn\u001b[0m \u001b[0mfn\u001b[0m\u001b[0;34m(\u001b[0m\u001b[0;34m*\u001b[0m\u001b[0margs\u001b[0m\u001b[0;34m,\u001b[0m \u001b[0;34m**\u001b[0m\u001b[0mkwargs\u001b[0m\u001b[0;34m)\u001b[0m\u001b[0;34m\u001b[0m\u001b[0;34m\u001b[0m\u001b[0m\n\u001b[0m\u001b[1;32m     65\u001b[0m     \u001b[0;32mexcept\u001b[0m \u001b[0mException\u001b[0m \u001b[0;32mas\u001b[0m \u001b[0me\u001b[0m\u001b[0;34m:\u001b[0m  \u001b[0;31m# pylint: disable=broad-except\u001b[0m\u001b[0;34m\u001b[0m\u001b[0;34m\u001b[0m\u001b[0m\n\u001b[1;32m     66\u001b[0m       \u001b[0mfiltered_tb\u001b[0m \u001b[0;34m=\u001b[0m \u001b[0m_process_traceback_frames\u001b[0m\u001b[0;34m(\u001b[0m\u001b[0me\u001b[0m\u001b[0;34m.\u001b[0m\u001b[0m__traceback__\u001b[0m\u001b[0;34m)\u001b[0m\u001b[0;34m\u001b[0m\u001b[0;34m\u001b[0m\u001b[0m\n",
            "\u001b[0;32m/usr/local/lib/python3.7/dist-packages/keras/engine/training.py\u001b[0m in \u001b[0;36mfit\u001b[0;34m(self, x, y, batch_size, epochs, verbose, callbacks, validation_split, validation_data, shuffle, class_weight, sample_weight, initial_epoch, steps_per_epoch, validation_steps, validation_batch_size, validation_freq, max_queue_size, workers, use_multiprocessing)\u001b[0m\n\u001b[1;32m   1265\u001b[0m           \u001b[0mepoch_logs\u001b[0m\u001b[0;34m.\u001b[0m\u001b[0mupdate\u001b[0m\u001b[0;34m(\u001b[0m\u001b[0mval_logs\u001b[0m\u001b[0;34m)\u001b[0m\u001b[0;34m\u001b[0m\u001b[0;34m\u001b[0m\u001b[0m\n\u001b[1;32m   1266\u001b[0m \u001b[0;34m\u001b[0m\u001b[0m\n\u001b[0;32m-> 1267\u001b[0;31m         \u001b[0mcallbacks\u001b[0m\u001b[0;34m.\u001b[0m\u001b[0mon_epoch_end\u001b[0m\u001b[0;34m(\u001b[0m\u001b[0mepoch\u001b[0m\u001b[0;34m,\u001b[0m \u001b[0mepoch_logs\u001b[0m\u001b[0;34m)\u001b[0m\u001b[0;34m\u001b[0m\u001b[0;34m\u001b[0m\u001b[0m\n\u001b[0m\u001b[1;32m   1268\u001b[0m         \u001b[0mtraining_logs\u001b[0m \u001b[0;34m=\u001b[0m \u001b[0mepoch_logs\u001b[0m\u001b[0;34m\u001b[0m\u001b[0;34m\u001b[0m\u001b[0m\n\u001b[1;32m   1269\u001b[0m         \u001b[0;32mif\u001b[0m \u001b[0mself\u001b[0m\u001b[0;34m.\u001b[0m\u001b[0mstop_training\u001b[0m\u001b[0;34m:\u001b[0m\u001b[0;34m\u001b[0m\u001b[0;34m\u001b[0m\u001b[0m\n",
            "\u001b[0;32m/usr/local/lib/python3.7/dist-packages/keras/callbacks.py\u001b[0m in \u001b[0;36mon_epoch_end\u001b[0;34m(self, epoch, logs)\u001b[0m\n\u001b[1;32m    412\u001b[0m     \u001b[0mlogs\u001b[0m \u001b[0;34m=\u001b[0m \u001b[0mself\u001b[0m\u001b[0;34m.\u001b[0m\u001b[0m_process_logs\u001b[0m\u001b[0;34m(\u001b[0m\u001b[0mlogs\u001b[0m\u001b[0;34m)\u001b[0m\u001b[0;34m\u001b[0m\u001b[0;34m\u001b[0m\u001b[0m\n\u001b[1;32m    413\u001b[0m     \u001b[0;32mfor\u001b[0m \u001b[0mcallback\u001b[0m \u001b[0;32min\u001b[0m \u001b[0mself\u001b[0m\u001b[0;34m.\u001b[0m\u001b[0mcallbacks\u001b[0m\u001b[0;34m:\u001b[0m\u001b[0;34m\u001b[0m\u001b[0;34m\u001b[0m\u001b[0m\n\u001b[0;32m--> 414\u001b[0;31m       \u001b[0mcallback\u001b[0m\u001b[0;34m.\u001b[0m\u001b[0mon_epoch_end\u001b[0m\u001b[0;34m(\u001b[0m\u001b[0mepoch\u001b[0m\u001b[0;34m,\u001b[0m \u001b[0mlogs\u001b[0m\u001b[0;34m)\u001b[0m\u001b[0;34m\u001b[0m\u001b[0;34m\u001b[0m\u001b[0m\n\u001b[0m\u001b[1;32m    415\u001b[0m \u001b[0;34m\u001b[0m\u001b[0m\n\u001b[1;32m    416\u001b[0m   \u001b[0;32mdef\u001b[0m \u001b[0mon_train_batch_begin\u001b[0m\u001b[0;34m(\u001b[0m\u001b[0mself\u001b[0m\u001b[0;34m,\u001b[0m \u001b[0mbatch\u001b[0m\u001b[0;34m,\u001b[0m \u001b[0mlogs\u001b[0m\u001b[0;34m=\u001b[0m\u001b[0;32mNone\u001b[0m\u001b[0;34m)\u001b[0m\u001b[0;34m:\u001b[0m\u001b[0;34m\u001b[0m\u001b[0;34m\u001b[0m\u001b[0m\n",
            "\u001b[0;32m/usr/local/lib/python3.7/dist-packages/keras/callbacks.py\u001b[0m in \u001b[0;36mon_epoch_end\u001b[0;34m(self, epoch, logs)\u001b[0m\n\u001b[1;32m   1041\u001b[0m \u001b[0;34m\u001b[0m\u001b[0m\n\u001b[1;32m   1042\u001b[0m   \u001b[0;32mdef\u001b[0m \u001b[0mon_epoch_end\u001b[0m\u001b[0;34m(\u001b[0m\u001b[0mself\u001b[0m\u001b[0;34m,\u001b[0m \u001b[0mepoch\u001b[0m\u001b[0;34m,\u001b[0m \u001b[0mlogs\u001b[0m\u001b[0;34m=\u001b[0m\u001b[0;32mNone\u001b[0m\u001b[0;34m)\u001b[0m\u001b[0;34m:\u001b[0m\u001b[0;34m\u001b[0m\u001b[0;34m\u001b[0m\u001b[0m\n\u001b[0;32m-> 1043\u001b[0;31m     \u001b[0mself\u001b[0m\u001b[0;34m.\u001b[0m\u001b[0m_finalize_progbar\u001b[0m\u001b[0;34m(\u001b[0m\u001b[0mlogs\u001b[0m\u001b[0;34m,\u001b[0m \u001b[0mself\u001b[0m\u001b[0;34m.\u001b[0m\u001b[0m_train_step\u001b[0m\u001b[0;34m)\u001b[0m\u001b[0;34m\u001b[0m\u001b[0;34m\u001b[0m\u001b[0m\n\u001b[0m\u001b[1;32m   1044\u001b[0m \u001b[0;34m\u001b[0m\u001b[0m\n\u001b[1;32m   1045\u001b[0m   \u001b[0;32mdef\u001b[0m \u001b[0mon_test_end\u001b[0m\u001b[0;34m(\u001b[0m\u001b[0mself\u001b[0m\u001b[0;34m,\u001b[0m \u001b[0mlogs\u001b[0m\u001b[0;34m=\u001b[0m\u001b[0;32mNone\u001b[0m\u001b[0;34m)\u001b[0m\u001b[0;34m:\u001b[0m\u001b[0;34m\u001b[0m\u001b[0;34m\u001b[0m\u001b[0m\n",
            "\u001b[0;32m/usr/local/lib/python3.7/dist-packages/keras/callbacks.py\u001b[0m in \u001b[0;36m_finalize_progbar\u001b[0;34m(self, logs, counter)\u001b[0m\n\u001b[1;32m   1114\u001b[0m       \u001b[0mself\u001b[0m\u001b[0;34m.\u001b[0m\u001b[0mtarget\u001b[0m \u001b[0;34m=\u001b[0m \u001b[0mcounter\u001b[0m \u001b[0;32mor\u001b[0m \u001b[0mself\u001b[0m\u001b[0;34m.\u001b[0m\u001b[0mseen\u001b[0m\u001b[0;34m\u001b[0m\u001b[0;34m\u001b[0m\u001b[0m\n\u001b[1;32m   1115\u001b[0m       \u001b[0mself\u001b[0m\u001b[0;34m.\u001b[0m\u001b[0mprogbar\u001b[0m\u001b[0;34m.\u001b[0m\u001b[0mtarget\u001b[0m \u001b[0;34m=\u001b[0m \u001b[0mself\u001b[0m\u001b[0;34m.\u001b[0m\u001b[0mtarget\u001b[0m\u001b[0;34m\u001b[0m\u001b[0;34m\u001b[0m\u001b[0m\n\u001b[0;32m-> 1116\u001b[0;31m     \u001b[0mself\u001b[0m\u001b[0;34m.\u001b[0m\u001b[0mprogbar\u001b[0m\u001b[0;34m.\u001b[0m\u001b[0mupdate\u001b[0m\u001b[0;34m(\u001b[0m\u001b[0mself\u001b[0m\u001b[0;34m.\u001b[0m\u001b[0mtarget\u001b[0m\u001b[0;34m,\u001b[0m \u001b[0mlist\u001b[0m\u001b[0;34m(\u001b[0m\u001b[0mlogs\u001b[0m\u001b[0;34m.\u001b[0m\u001b[0mitems\u001b[0m\u001b[0;34m(\u001b[0m\u001b[0;34m)\u001b[0m\u001b[0;34m)\u001b[0m\u001b[0;34m,\u001b[0m \u001b[0mfinalize\u001b[0m\u001b[0;34m=\u001b[0m\u001b[0;32mTrue\u001b[0m\u001b[0;34m)\u001b[0m\u001b[0;34m\u001b[0m\u001b[0;34m\u001b[0m\u001b[0m\n\u001b[0m\u001b[1;32m   1117\u001b[0m \u001b[0;34m\u001b[0m\u001b[0m\n\u001b[1;32m   1118\u001b[0m \u001b[0;34m\u001b[0m\u001b[0m\n",
            "\u001b[0;32m/usr/local/lib/python3.7/dist-packages/keras/utils/generic_utils.py\u001b[0m in \u001b[0;36mupdate\u001b[0;34m(self, current, values, finalize)\u001b[0m\n\u001b[1;32m    913\u001b[0m       \u001b[0mprev_total_width\u001b[0m \u001b[0;34m=\u001b[0m \u001b[0mself\u001b[0m\u001b[0;34m.\u001b[0m\u001b[0m_total_width\u001b[0m\u001b[0;34m\u001b[0m\u001b[0;34m\u001b[0m\u001b[0m\n\u001b[1;32m    914\u001b[0m       \u001b[0;32mif\u001b[0m \u001b[0mself\u001b[0m\u001b[0;34m.\u001b[0m\u001b[0m_dynamic_display\u001b[0m\u001b[0;34m:\u001b[0m\u001b[0;34m\u001b[0m\u001b[0;34m\u001b[0m\u001b[0m\n\u001b[0;32m--> 915\u001b[0;31m         \u001b[0msys\u001b[0m\u001b[0;34m.\u001b[0m\u001b[0mstdout\u001b[0m\u001b[0;34m.\u001b[0m\u001b[0mwrite\u001b[0m\u001b[0;34m(\u001b[0m\u001b[0;34m'\\b'\u001b[0m \u001b[0;34m*\u001b[0m \u001b[0mprev_total_width\u001b[0m\u001b[0;34m)\u001b[0m\u001b[0;34m\u001b[0m\u001b[0;34m\u001b[0m\u001b[0m\n\u001b[0m\u001b[1;32m    916\u001b[0m         \u001b[0msys\u001b[0m\u001b[0;34m.\u001b[0m\u001b[0mstdout\u001b[0m\u001b[0;34m.\u001b[0m\u001b[0mwrite\u001b[0m\u001b[0;34m(\u001b[0m\u001b[0;34m'\\r'\u001b[0m\u001b[0;34m)\u001b[0m\u001b[0;34m\u001b[0m\u001b[0;34m\u001b[0m\u001b[0m\n\u001b[1;32m    917\u001b[0m       \u001b[0;32melse\u001b[0m\u001b[0;34m:\u001b[0m\u001b[0;34m\u001b[0m\u001b[0;34m\u001b[0m\u001b[0m\n",
            "\u001b[0;32m/usr/local/lib/python3.7/dist-packages/ipykernel/iostream.py\u001b[0m in \u001b[0;36mwrite\u001b[0;34m(self, string)\u001b[0m\n\u001b[1;32m    398\u001b[0m             \u001b[0mis_child\u001b[0m \u001b[0;34m=\u001b[0m \u001b[0;34m(\u001b[0m\u001b[0;32mnot\u001b[0m \u001b[0mself\u001b[0m\u001b[0;34m.\u001b[0m\u001b[0m_is_master_process\u001b[0m\u001b[0;34m(\u001b[0m\u001b[0;34m)\u001b[0m\u001b[0;34m)\u001b[0m\u001b[0;34m\u001b[0m\u001b[0;34m\u001b[0m\u001b[0m\n\u001b[1;32m    399\u001b[0m             \u001b[0;31m# only touch the buffer in the IO thread to avoid races\u001b[0m\u001b[0;34m\u001b[0m\u001b[0;34m\u001b[0m\u001b[0;34m\u001b[0m\u001b[0m\n\u001b[0;32m--> 400\u001b[0;31m             \u001b[0mself\u001b[0m\u001b[0;34m.\u001b[0m\u001b[0mpub_thread\u001b[0m\u001b[0;34m.\u001b[0m\u001b[0mschedule\u001b[0m\u001b[0;34m(\u001b[0m\u001b[0;32mlambda\u001b[0m \u001b[0;34m:\u001b[0m \u001b[0mself\u001b[0m\u001b[0;34m.\u001b[0m\u001b[0m_buffer\u001b[0m\u001b[0;34m.\u001b[0m\u001b[0mwrite\u001b[0m\u001b[0;34m(\u001b[0m\u001b[0mstring\u001b[0m\u001b[0;34m)\u001b[0m\u001b[0;34m)\u001b[0m\u001b[0;34m\u001b[0m\u001b[0;34m\u001b[0m\u001b[0m\n\u001b[0m\u001b[1;32m    401\u001b[0m             \u001b[0;32mif\u001b[0m \u001b[0mis_child\u001b[0m\u001b[0;34m:\u001b[0m\u001b[0;34m\u001b[0m\u001b[0;34m\u001b[0m\u001b[0m\n\u001b[1;32m    402\u001b[0m                 \u001b[0;31m# newlines imply flush in subprocesses\u001b[0m\u001b[0;34m\u001b[0m\u001b[0;34m\u001b[0m\u001b[0;34m\u001b[0m\u001b[0m\n",
            "\u001b[0;32m/usr/local/lib/python3.7/dist-packages/ipykernel/iostream.py\u001b[0m in \u001b[0;36mschedule\u001b[0;34m(self, f)\u001b[0m\n\u001b[1;32m    201\u001b[0m             \u001b[0mself\u001b[0m\u001b[0;34m.\u001b[0m\u001b[0m_events\u001b[0m\u001b[0;34m.\u001b[0m\u001b[0mappend\u001b[0m\u001b[0;34m(\u001b[0m\u001b[0mf\u001b[0m\u001b[0;34m)\u001b[0m\u001b[0;34m\u001b[0m\u001b[0;34m\u001b[0m\u001b[0m\n\u001b[1;32m    202\u001b[0m             \u001b[0;31m# wake event thread (message content is ignored)\u001b[0m\u001b[0;34m\u001b[0m\u001b[0;34m\u001b[0m\u001b[0;34m\u001b[0m\u001b[0m\n\u001b[0;32m--> 203\u001b[0;31m             \u001b[0mself\u001b[0m\u001b[0;34m.\u001b[0m\u001b[0m_event_pipe\u001b[0m\u001b[0;34m.\u001b[0m\u001b[0msend\u001b[0m\u001b[0;34m(\u001b[0m\u001b[0;34mb''\u001b[0m\u001b[0;34m)\u001b[0m\u001b[0;34m\u001b[0m\u001b[0;34m\u001b[0m\u001b[0m\n\u001b[0m\u001b[1;32m    204\u001b[0m         \u001b[0;32melse\u001b[0m\u001b[0;34m:\u001b[0m\u001b[0;34m\u001b[0m\u001b[0;34m\u001b[0m\u001b[0m\n\u001b[1;32m    205\u001b[0m             \u001b[0mf\u001b[0m\u001b[0;34m(\u001b[0m\u001b[0;34m)\u001b[0m\u001b[0;34m\u001b[0m\u001b[0;34m\u001b[0m\u001b[0m\n",
            "\u001b[0;32m/usr/local/lib/python3.7/dist-packages/zmq/sugar/socket.py\u001b[0m in \u001b[0;36msend\u001b[0;34m(self, data, flags, copy, track, routing_id, group)\u001b[0m\n\u001b[1;32m    545\u001b[0m                 )\n\u001b[1;32m    546\u001b[0m             \u001b[0mdata\u001b[0m\u001b[0;34m.\u001b[0m\u001b[0mgroup\u001b[0m \u001b[0;34m=\u001b[0m \u001b[0mgroup\u001b[0m\u001b[0;34m\u001b[0m\u001b[0;34m\u001b[0m\u001b[0m\n\u001b[0;32m--> 547\u001b[0;31m         \u001b[0;32mreturn\u001b[0m \u001b[0msuper\u001b[0m\u001b[0;34m(\u001b[0m\u001b[0mSocket\u001b[0m\u001b[0;34m,\u001b[0m \u001b[0mself\u001b[0m\u001b[0;34m)\u001b[0m\u001b[0;34m.\u001b[0m\u001b[0msend\u001b[0m\u001b[0;34m(\u001b[0m\u001b[0mdata\u001b[0m\u001b[0;34m,\u001b[0m \u001b[0mflags\u001b[0m\u001b[0;34m=\u001b[0m\u001b[0mflags\u001b[0m\u001b[0;34m,\u001b[0m \u001b[0mcopy\u001b[0m\u001b[0;34m=\u001b[0m\u001b[0mcopy\u001b[0m\u001b[0;34m,\u001b[0m \u001b[0mtrack\u001b[0m\u001b[0;34m=\u001b[0m\u001b[0mtrack\u001b[0m\u001b[0;34m)\u001b[0m\u001b[0;34m\u001b[0m\u001b[0;34m\u001b[0m\u001b[0m\n\u001b[0m\u001b[1;32m    548\u001b[0m \u001b[0;34m\u001b[0m\u001b[0m\n\u001b[1;32m    549\u001b[0m     \u001b[0;32mdef\u001b[0m \u001b[0msend_multipart\u001b[0m\u001b[0;34m(\u001b[0m\u001b[0mself\u001b[0m\u001b[0;34m,\u001b[0m \u001b[0mmsg_parts\u001b[0m\u001b[0;34m,\u001b[0m \u001b[0mflags\u001b[0m\u001b[0;34m=\u001b[0m\u001b[0;36m0\u001b[0m\u001b[0;34m,\u001b[0m \u001b[0mcopy\u001b[0m\u001b[0;34m=\u001b[0m\u001b[0;32mTrue\u001b[0m\u001b[0;34m,\u001b[0m \u001b[0mtrack\u001b[0m\u001b[0;34m=\u001b[0m\u001b[0;32mFalse\u001b[0m\u001b[0;34m,\u001b[0m \u001b[0;34m**\u001b[0m\u001b[0mkwargs\u001b[0m\u001b[0;34m)\u001b[0m\u001b[0;34m:\u001b[0m\u001b[0;34m\u001b[0m\u001b[0;34m\u001b[0m\u001b[0m\n",
            "\u001b[0;32mzmq/backend/cython/socket.pyx\u001b[0m in \u001b[0;36mzmq.backend.cython.socket.Socket.send\u001b[0;34m()\u001b[0m\n",
            "\u001b[0;32mzmq/backend/cython/socket.pyx\u001b[0m in \u001b[0;36mzmq.backend.cython.socket.Socket.send\u001b[0;34m()\u001b[0m\n",
            "\u001b[0;32mzmq/backend/cython/socket.pyx\u001b[0m in \u001b[0;36mzmq.backend.cython.socket._send_copy\u001b[0;34m()\u001b[0m\n",
            "\u001b[0;32m/usr/local/lib/python3.7/dist-packages/zmq/backend/cython/checkrc.pxd\u001b[0m in \u001b[0;36mzmq.backend.cython.checkrc._check_rc\u001b[0;34m()\u001b[0m\n",
            "\u001b[0;31mKeyboardInterrupt\u001b[0m: "
          ]
        }
      ]
    },
    {
      "cell_type": "markdown",
      "source": [
        "### Improve our model :)"
      ],
      "metadata": {
        "id": "Sqnx9U3yvA3Y"
      }
    },
    {
      "cell_type": "code",
      "source": [
        "# To visualize our model's predictions, let's create a function : 'plot_decision_boundary'\n",
        "\n",
        "#1. Take a trained model, features(X) and labels(y)\n",
        "#2. Create a meshgrid of the different X values\n",
        "#3. Make predictions across the meshgrid\n",
        "#4. Make predictions"
      ],
      "metadata": {
        "id": "fHs6r_WwvA6F"
      },
      "execution_count": null,
      "outputs": []
    },
    {
      "cell_type": "code",
      "source": [
        "import numpy as np\n",
        "\n",
        "def plot_decision_boundary(model, X, y):\n",
        "  \"\"\"\n",
        "  Plots the decision boundary created by a model predicting on X.\n",
        "  \"\"\"\n",
        "  # Define the axis boundaries of the plot and create a meshgrid\n",
        "  x_min, x_max = X.iloc[:, 0].min() - 0.1, X.iloc[:, 0].max() + 0.1\n",
        "  y_min, y_max = X.iloc[:, 1].min() - 0.1, X.iloc[:, 1].max() + 0.1\n",
        "  xx, yy = np.meshgrid(np.linspace(x_min, x_max, 100),\n",
        "                       np.linspace(y_min, y_max, 100))\n",
        "  \n",
        "  # Create X values (we're going to predict on all of these)\n",
        "  x_in = np.c_[xx.ravel(), yy.ravel()] # stack 2D arrays together: https://numpy.org/devdocs/reference/generated/numpy.c_.html\n",
        "  \n",
        "  # Make predictions using the trained model\n",
        "  y_pred = model.predict(x_in)\n",
        "\n",
        "  # Check for multi-class\n",
        "  if len(y_pred[0]) > 1:\n",
        "    print(\"doing multiclass classification...\")\n",
        "    # We have to reshape our predictions to get them ready for plotting\n",
        "    y_pred = np.argmax(y_pred, axis=1).reshape(xx.shape)\n",
        "  else:\n",
        "    print(\"doing binary classifcation...\")\n",
        "    y_pred = np.round(y_pred).reshape(xx.shape)\n",
        "  \n",
        "  # Plot decision boundary\n",
        "  plt.contourf(xx, yy, y_pred, cmap=plt.cm.RdYlBu, alpha=0.7)\n",
        "  plt.scatter(X.iloc[:, 0], X.iloc[:, 1], c=y, s=40, cmap=plt.cm.RdYlBu)\n",
        "  plt.xlim(xx.min(), xx.max())\n",
        "  plt.ylim(yy.min(), yy.max())\n",
        "  "
      ],
      "metadata": {
        "id": "s4nHFd3txpVE"
      },
      "execution_count": null,
      "outputs": []
    },
    {
      "cell_type": "code",
      "source": [
        "# Check out the model predictions\n",
        "import matplotlib.pyplot as plt\n",
        "plot_decision_boundary(model_1,X=X,y=y)"
      ],
      "metadata": {
        "id": "bLJuiqaTxpXy"
      },
      "execution_count": null,
      "outputs": []
    },
    {
      "cell_type": "code",
      "source": [
        "# Let's see if our model can be used for a regression problem...\n",
        "\n",
        "'''tf.random.set_seed(42)\n",
        "\n",
        "# Create some regression data\n",
        "\n",
        "X_regression = tf.range(0,1000,5)\n",
        "y_regression = tf.range(100,1100,5)\n",
        "\n",
        "# Split our dataset\n",
        "\n",
        "X_reg_train = X_regression[:150]\n",
        "X_reg_test = X_regression[150:]\n",
        "\n",
        "y_reg_train = y_regression[:150]\n",
        "y_reg_test = y_regression[150:]\n",
        "\n",
        "\n",
        "# Fit our model to the regression model\n",
        "model_1.fit(X_reg_train,y_reg_train,epochs = 100)\n",
        "'''"
      ],
      "metadata": {
        "id": "PZy1_gdxxpa1"
      },
      "execution_count": null,
      "outputs": []
    },
    {
      "cell_type": "code",
      "source": [
        "# Since we used BinaryCrossentropy as our loss fn, we are getting this error"
      ],
      "metadata": {
        "id": "y_mV_7Kxxpda"
      },
      "execution_count": null,
      "outputs": []
    },
    {
      "cell_type": "code",
      "source": [
        "'''# Set random seed\n",
        "tf.random.set_seed(42)\n",
        "\n",
        "#1. Create a model\n",
        "model_2 = tf.keras.Sequential([\n",
        "                               tf.keras.layers.Dense(100),\n",
        "                               tf.keras.layers.Dense(10),\n",
        "                               tf.keras.layers.Dense(1)\n",
        "\n",
        "                               \n",
        "])\n",
        "\n",
        "#2. Compile the model\n",
        "\n",
        "model_2.compile(loss = tf.keras.losses.mae,\n",
        "                optimizer = tf.keras.optimizers.Adam(),\n",
        "                metrics = [\"mae\"])\n",
        "\n",
        "#3. Fit the model\n",
        "model_2.fit(tf.expand_dims(X_reg_train,axis = -1),y_reg_train,epochs = 100)\n",
        "'''"
      ],
      "metadata": {
        "id": "kH4DQjEVxpgh"
      },
      "execution_count": null,
      "outputs": []
    },
    {
      "cell_type": "code",
      "source": [
        "# Make predictions with our trained model\n",
        "\n",
        "y_reg_preds = model_2.predict(X_reg_test)"
      ],
      "metadata": {
        "id": "fXu8Kjmixpj4"
      },
      "execution_count": null,
      "outputs": []
    },
    {
      "cell_type": "code",
      "source": [
        "# Plot the data\n",
        "\n",
        "plt.figure(figsize = (10,7))\n",
        "plt.scatter(X_reg_train,y_reg_train,c=\"b\",label = \"Training data\")\n",
        "plt.scatter(X_reg_test,y_reg_test,c=\"g\",label = \"Test data\")\n",
        "plt.scatter(X_reg_test , y_reg_preds,c=\"r\",label = \"Predictions\")\n",
        "plt.legend()"
      ],
      "metadata": {
        "id": "gqYSeaaIXnX3"
      },
      "execution_count": null,
      "outputs": []
    },
    {
      "cell_type": "markdown",
      "source": [
        "### The missing piece is non-linearity"
      ],
      "metadata": {
        "id": "7pQ1zd0hXnaf"
      }
    },
    {
      "cell_type": "code",
      "source": [
        "# Set  random seed\n",
        "tf.random.set_seed(42)\n",
        "\n",
        "#1. Create a model\n",
        "model_4 = tf.keras.Sequential([\n",
        "                               tf.keras.layers.Dense(1,activation=tf.keras.activations.linear)\n",
        "])\n",
        "\n",
        "#2. Compile the model\n",
        "model_4.compile(loss = \"binary_crossentropy\",\n",
        "                optimizer = tf.keras.optimizers.Adam(),\n",
        "                metrics = [\"accuracy\"])\n",
        "\n",
        "#3. Fit the model\n",
        "\n",
        "history = model_4.fit(tf.expand_dims(X,axis = -1),y,epochs = 100)"
      ],
      "metadata": {
        "id": "rcNnfCQuXnc_"
      },
      "execution_count": null,
      "outputs": []
    },
    {
      "cell_type": "code",
      "source": [
        "# Check out our data\n",
        "\n",
        "plt.scatter(X.iloc[:,0], X.iloc[:,1],c=y,cmap = plt.cm.RdYlBu)"
      ],
      "metadata": {
        "id": "b39-EctYXnfn"
      },
      "execution_count": null,
      "outputs": []
    },
    {
      "cell_type": "code",
      "source": [
        "# Check the decision boundary\n",
        "\n",
        "plot_decision_boundary(model_4,X,y)\n"
      ],
      "metadata": {
        "id": "tkQSj5p8yROL"
      },
      "execution_count": null,
      "outputs": []
    },
    {
      "cell_type": "code",
      "source": [
        "# Our model is still predicting straight lines"
      ],
      "metadata": {
        "id": "M4Xh1X7ryRQe"
      },
      "execution_count": null,
      "outputs": []
    },
    {
      "cell_type": "code",
      "source": [
        "# Using ReLU activation for the hidden layer to mimic what we did in \n",
        "# tensorflow playground\n",
        "\n",
        "# Set seed\n",
        "tf.random.set_seed(42)\n",
        "\n",
        "#1. Create a model\n",
        "model_5 = tf.keras.Sequential([\n",
        "                             tf.keras.layers.Dense(1,activation = \"relu\")\n",
        "])\n",
        "\n",
        "#2. Compile the model\n",
        "model_5.compile(loss = \"binary_crossentropy\",\n",
        "                optimizer = tf.keras.optimizers.Adam(),\n",
        "                metrics = [\"accuracy\"])\n",
        "\n",
        "#3. Fit the model\n",
        "\n",
        "history = model_5.fit(tf.expand_dims(X,axis = -1),y,epochs = 100)"
      ],
      "metadata": {
        "id": "hDil3mMXyRTM"
      },
      "execution_count": null,
      "outputs": []
    },
    {
      "cell_type": "markdown",
      "source": [
        "### Replicating a (2,4,4) neural network from tensorflow playground\n"
      ],
      "metadata": {
        "id": "oLP7Cu_zyRV3"
      }
    },
    {
      "cell_type": "code",
      "source": [
        "# Set a random seed\n",
        "\n",
        "tf.random.set_seed(42)\n",
        "\n",
        "#1. Create a model\n",
        "model_6 = tf.keras.Sequential([\n",
        "                               tf.keras.layers.Dense(4,activation=\"relu\"),\n",
        "                               tf.keras.layers.Dense(4,activation=\"relu\"),\n",
        "])\n",
        "\n",
        "#2. Compile the model\n",
        "model_6.compile(loss = \"binary_crossentropy\",\n",
        "                optimizer = tf.keras.optimizers.Adam(learning_rate = 0.001),\n",
        "                metrics = [\"accuracy\"])\n",
        "\n",
        "#3. Fit the model\n",
        "history = model_6.fit(X,y,epochs=500,verbose=0)\n",
        "                      \n",
        "\n",
        "\n",
        "\n"
      ],
      "metadata": {
        "id": "60sUmDixyRX9"
      },
      "execution_count": null,
      "outputs": []
    },
    {
      "cell_type": "code",
      "source": [
        "model_6.evaluate(X,y)"
      ],
      "metadata": {
        "id": "cXa1QyZg8pkY"
      },
      "execution_count": null,
      "outputs": []
    },
    {
      "cell_type": "code",
      "source": [
        "# Create a model having 1 unit in the output layer\n",
        "# Since this is a binary classification problem , having 1\n",
        "# output unit makes more sense\n"
      ],
      "metadata": {
        "id": "ppri4yKe8pwf"
      },
      "execution_count": null,
      "outputs": []
    },
    {
      "cell_type": "code",
      "source": [
        "# Set a random seed\n",
        "\n",
        "tf.random.set_seed(42)\n",
        "\n",
        "#1. Create a model\n",
        "model_6 = tf.keras.Sequential([\n",
        "                               tf.keras.layers.Dense(4,activation=\"relu\"),\n",
        "                               tf.keras.layers.Dense(4,activation=\"relu\"),\n",
        "                               tf.keras.layers.Dense(2,activation=\"relu\")\n",
        "])\n",
        "\n",
        "#2. Compile the model\n",
        "model_6.compile(loss = \"binary_crossentropy\",\n",
        "                optimizer = tf.keras.optimizers.Adam(learning_rate = 0.001),\n",
        "                metrics = [\"accuracy\"])\n",
        "\n",
        "#3. Fit the model\n",
        "history = model_6.fit(X,y,epochs=500,verbose=0)\n",
        "                      "
      ],
      "metadata": {
        "id": "tAfHIii88pzJ"
      },
      "execution_count": null,
      "outputs": []
    },
    {
      "cell_type": "code",
      "source": [
        "model_6.evaluate(X,y)"
      ],
      "metadata": {
        "id": "iIem2G8n8p11"
      },
      "execution_count": null,
      "outputs": []
    },
    {
      "cell_type": "code",
      "source": [
        "# Using softmax activation in the output layer --> personal experiment\n",
        "\n",
        "# Set a random seed\n",
        "\n",
        "tf.random.set_seed(42)\n",
        "\n",
        "#1. Create a model\n",
        "model_7 = tf.keras.Sequential([\n",
        "                               tf.keras.layers.Dense(4,activation=\"relu\"),\n",
        "                               tf.keras.layers.Dense(4,activation=\"relu\"),\n",
        "                               tf.keras.layers.Dense(1,activation=\"softmax\")\n",
        "])\n",
        "\n",
        "#2. Compile the model\n",
        "model_7.compile(loss = \"binary_crossentropy\",\n",
        "                optimizer = tf.keras.optimizers.Adam(learning_rate = 0.001),\n",
        "                metrics = [\"accuracy\"])\n",
        "\n",
        "#3. Fit the model\n",
        "history = model_7.fit(X,y,epochs=500,verbose=0)\n",
        "                      "
      ],
      "metadata": {
        "id": "ExJ3VmzD8p4T"
      },
      "execution_count": null,
      "outputs": []
    },
    {
      "cell_type": "code",
      "source": [
        "\n",
        "model_7.evaluate(X,y)"
      ],
      "metadata": {
        "id": "H-ud_CM9yRbM"
      },
      "execution_count": null,
      "outputs": []
    },
    {
      "cell_type": "code",
      "source": [
        "# Visualizing the model_6 and mode_7\n",
        "\n",
        "plot_decision_boundary(model_6,X,y)"
      ],
      "metadata": {
        "id": "EHXFcHySyRcp"
      },
      "execution_count": null,
      "outputs": []
    },
    {
      "cell_type": "code",
      "source": [
        "plot_decision_boundary(model_7,X,y)"
      ],
      "metadata": {
        "id": "Bqyw-jAlyRmp"
      },
      "execution_count": null,
      "outputs": []
    },
    {
      "cell_type": "code",
      "source": [
        "# Using softmax activation in the output layer --> personal experiment\n",
        "\n",
        "# Set a random seed\n",
        "\n",
        "tf.random.set_seed(42)\n",
        "\n",
        "#1. Create a model\n",
        "model_8 = tf.keras.Sequential([\n",
        "                               tf.keras.layers.Dense(4,activation=\"relu\"),\n",
        "                               tf.keras.layers.Dense(4,activation=\"relu\"),\n",
        "                               tf.keras.layers.Dense(1,activation=\"sigmoid\")\n",
        "])\n",
        "\n",
        "#2. Compile the model\n",
        "model_8.compile(loss = \"binary_crossentropy\",\n",
        "                optimizer = tf.keras.optimizers.Adam(learning_rate = 0.001),\n",
        "                metrics = [\"accuracy\"])\n",
        "\n",
        "#3. Fit the model\n",
        "history = model_8.fit(X,y,epochs=500,verbose=0)"
      ],
      "metadata": {
        "id": "nvaYztkXBdCq"
      },
      "execution_count": null,
      "outputs": []
    },
    {
      "cell_type": "code",
      "source": [
        "plot_decision_boundary(model_8,X,y)"
      ],
      "metadata": {
        "id": "pIPom0_iBlKh"
      },
      "execution_count": null,
      "outputs": []
    },
    {
      "cell_type": "code",
      "source": [
        "# Sigmoid activation made our accuracy jump from 0.50 to 0.99\n",
        "# Mauj kara di :)"
      ],
      "metadata": {
        "id": "JLWUnRv5yRpc"
      },
      "execution_count": null,
      "outputs": []
    },
    {
      "cell_type": "markdown",
      "source": [
        "### Note : 1) Softmax --> Multi-class classification\n",
        "###        2) Sigmoid --> Binary classification"
      ],
      "metadata": {
        "id": "FJreTA-vyRsQ"
      }
    },
    {
      "cell_type": "code",
      "source": [
        "# The combination of linear and non-linear activation functions can be moulded\n",
        "# accomodate almost any kind of input dataset"
      ],
      "metadata": {
        "id": "APCunSALyRu0"
      },
      "execution_count": null,
      "outputs": []
    },
    {
      "cell_type": "code",
      "source": [
        "# Create a toy tensor (similar to the data we pass into out model)\n",
        "\n",
        "A = tf.cast(tf.range(-10,10),tf.float32)\n",
        "A"
      ],
      "metadata": {
        "id": "467UHdZOyRxd"
      },
      "execution_count": null,
      "outputs": []
    },
    {
      "cell_type": "code",
      "source": [
        "# Visualize our toy tensor\n",
        "plt.plot(A)\n"
      ],
      "metadata": {
        "id": "FnzdanSzyR0H"
      },
      "execution_count": null,
      "outputs": []
    },
    {
      "cell_type": "code",
      "source": [
        "# Replicating thr Sigmoid function\n",
        "\n",
        "def sigmoid(x):\n",
        "  return 1/(1+(tf.exp(-x)))\n",
        "\n",
        "# Using the sigmoid function for our tensor\n",
        "\n",
        "sigmoid(A)"
      ],
      "metadata": {
        "id": "1LD1zdPoJr3i"
      },
      "execution_count": null,
      "outputs": []
    },
    {
      "cell_type": "code",
      "source": [
        "plt.plot(sigmoid(A))"
      ],
      "metadata": {
        "id": "_S4ysjJ_Jr52"
      },
      "execution_count": null,
      "outputs": []
    },
    {
      "cell_type": "code",
      "source": [
        "import numpy as np\n",
        "A = tf.constant(np.arange(-10,10),dtype = tf.float32)\n",
        "\n"
      ],
      "metadata": {
        "id": "0fGT9JmqyR2m"
      },
      "execution_count": null,
      "outputs": []
    },
    {
      "cell_type": "code",
      "source": [
        "def sigmoid(x):\n",
        "  return 1/(1+(tf.exp(-x)))\n",
        "\n",
        "plt.plot(sigmoid(A))"
      ],
      "metadata": {
        "id": "EsEkFdv_O5RK"
      },
      "execution_count": null,
      "outputs": []
    },
    {
      "cell_type": "code",
      "source": [
        "# ReLU activation function\n",
        "import numpy as np\n",
        "import tensorflow as tf\n",
        "\n",
        "def relu(x):\n",
        "  return tf.maximum(0,x)\n",
        "\n",
        "A = tf.constant(np.arange(-10,10))\n",
        "\n",
        "plt.plot(relu(A))"
      ],
      "metadata": {
        "id": "LQsZATqOLqP6"
      },
      "execution_count": null,
      "outputs": []
    },
    {
      "cell_type": "code",
      "source": [
        "# Linear activation function\n",
        "\n",
        "def linear(x):\n",
        "  return x\n",
        "\n",
        "A = tf.constant(np.arange(-10,10))\n",
        "\n",
        "# Plot the function\n",
        "plt.plot(linear(A))"
      ],
      "metadata": {
        "id": "d1-JmlweLqSw"
      },
      "execution_count": null,
      "outputs": []
    },
    {
      "cell_type": "markdown",
      "source": [
        "### Evaluating and improving our classification model"
      ],
      "metadata": {
        "id": "-q7LIoGOLqVX"
      }
    },
    {
      "cell_type": "code",
      "source": [
        "# In our toy example , we have been training and evaluating the model on the same\n",
        "# dataset"
      ],
      "metadata": {
        "id": "X83e5C85LqXw"
      },
      "execution_count": null,
      "outputs": []
    },
    {
      "cell_type": "code",
      "source": [
        "# The three sets of data in ML are  :\n",
        "# 1) Training set\n",
        "# 2) Test set\n",
        "# 3) Validation set"
      ],
      "metadata": {
        "id": "NVYBYiXALqag"
      },
      "execution_count": null,
      "outputs": []
    },
    {
      "cell_type": "code",
      "source": [
        "# Train and test split using sklearn\n",
        "\n",
        "from sklearn.model_selection import train_test_split\n",
        "\n",
        "X_train,X_test,y_train,y_test = train_test_split(X,y,test_size = 0.20)"
      ],
      "metadata": {
        "id": "qCTW-IQIKtyy"
      },
      "execution_count": null,
      "outputs": []
    },
    {
      "cell_type": "code",
      "source": [
        "X_train"
      ],
      "metadata": {
        "id": "KX1D9_UEKt1Z"
      },
      "execution_count": null,
      "outputs": []
    },
    {
      "cell_type": "code",
      "source": [
        "y_test\n"
      ],
      "metadata": {
        "id": "NHbg_L8BKt35"
      },
      "execution_count": null,
      "outputs": []
    },
    {
      "cell_type": "code",
      "source": [
        "# Let's recreate our model to fit on training data and evaluate on test data\n",
        "\n",
        "# Using softmax activation in the output layer --> personal experiment\n",
        "\n",
        "# Set a random seed\n",
        "\n",
        "tf.random.set_seed(42)\n",
        "\n",
        "#1. Create a model\n",
        "model_9 = tf.keras.Sequential([\n",
        "                               tf.keras.layers.Dense(4,activation=\"relu\"),\n",
        "                               tf.keras.layers.Dense(4,activation=\"relu\"),\n",
        "                               tf.keras.layers.Dense(1,activation=\"sigmoid\")\n",
        "])\n",
        "\n",
        "#2. Compile the model\n",
        "model_9.compile(loss = \"binary_crossentropy\",\n",
        "                optimizer = tf.keras.optimizers.Adam(learning_rate = 0.001),\n",
        "                metrics = [\"accuracy\"])\n",
        "\n",
        "#3. Fit the model\n",
        "history = model_9.fit(X_train,y_train,epochs=500,verbose=0)\n"
      ],
      "metadata": {
        "id": "Oh061vQUKt6l"
      },
      "execution_count": null,
      "outputs": []
    },
    {
      "cell_type": "code",
      "source": [
        "model_9.evaluate(X_test,y_test)"
      ],
      "metadata": {
        "id": "meOyQxFOKt9F"
      },
      "execution_count": null,
      "outputs": []
    },
    {
      "cell_type": "code",
      "source": [
        "# Accuracy of 99.5. on test data  :)"
      ],
      "metadata": {
        "id": "0K6ZvNwsKt_Y"
      },
      "execution_count": null,
      "outputs": []
    },
    {
      "cell_type": "code",
      "source": [
        "pd.DataFrame(history.history).plot()\n",
        "plt.xlabel(\"Epochs\")\n",
        "plt.ylabel(\"Loss / Accuracy\")\n"
      ],
      "metadata": {
        "id": "Re2oyVrjKuB0"
      },
      "execution_count": null,
      "outputs": []
    },
    {
      "cell_type": "code",
      "source": [
        "# About 150 epochs would have been enough"
      ],
      "metadata": {
        "id": "F2o8eJngKuEe"
      },
      "execution_count": null,
      "outputs": []
    },
    {
      "cell_type": "code",
      "source": [
        "# Plotting the decision boundaries for training and test dataset\n",
        "\n",
        "plt.figure(figsize=(10,6))\n",
        "plt.title(\"Train\")\n",
        "plot_decision_boundary(model_9,X_train,y_train)\n",
        "plt.show()\n",
        "\n",
        "\n",
        "\n"
      ],
      "metadata": {
        "id": "Vk5E7nyyKuGq"
      },
      "execution_count": null,
      "outputs": []
    },
    {
      "cell_type": "code",
      "source": [
        "plt.figure(figsize=(10,6))\n",
        "plt.title(\"Test\")\n",
        "plot_decision_boundary(model_9,X_test,y_test)\n",
        "plt.show()\n"
      ],
      "metadata": {
        "id": "VpbSL9QTKuJK"
      },
      "execution_count": null,
      "outputs": []
    },
    {
      "cell_type": "markdown",
      "source": [
        "### Using loss curves to find the most suitable learning rate"
      ],
      "metadata": {
        "id": "R-sh-qMuKuLo"
      }
    },
    {
      "cell_type": "code",
      "source": [
        "# Ideal learning rate : The learning rate where the loss decreases steadily during training\n",
        "# 1) Learning rate callback  : An extra piece of functionality you can use in you model while training\n",
        "# 2) Another model\n",
        "# 3) A modified loss curves plot "
      ],
      "metadata": {
        "id": "I_sjET-YKuOI"
      },
      "execution_count": null,
      "outputs": []
    },
    {
      "cell_type": "code",
      "source": [
        "# Using learning rate callback\n",
        "\n",
        "# Set random seed\n",
        "tf.random.set_seed(42)\n",
        "\n",
        "#1. Create a model\n",
        "\n",
        "model_10 = tf.keras.Sequential([\n",
        "                                tf.keras.layers.Dense(4,activation=\"relu\"),\n",
        "                                tf.keras.layers.Dense(4,activation=\"relu\"),\n",
        "                                tf.keras.layers.Dense(1,activation=\"sigmoid\")\n",
        "])\n",
        "\n",
        "#2. Compile the model\n",
        "\n",
        "model_10.compile(loss = \"binary_crossentropy\",\n",
        "                 optimizer = tf.keras.optimizers.Adam(learning_rate=0.01),\n",
        "                 metrics = [\"accuracy\"])\n",
        "\n",
        "#3. Learning rate callback\n",
        "lr_schedular = tf.keras.callbacks.LearningRateScheduler(lambda epoch : 1e-4 * (10)**(epoch/20))\n",
        "\n",
        "#4. Fit the model\n",
        "\n",
        "history_10 = model_10.fit(X_train,y_train,epochs=100,verbose=1,callbacks = [lr_schedular])"
      ],
      "metadata": {
        "id": "eJ5jyO3VyR5N"
      },
      "execution_count": null,
      "outputs": []
    },
    {
      "cell_type": "code",
      "source": [
        "# Checkout the history\n",
        "\n",
        "pd.DataFrame(history_10.history).plot(figsize=(10,7))"
      ],
      "metadata": {
        "id": "ezwZeAfU841p"
      },
      "execution_count": null,
      "outputs": []
    },
    {
      "cell_type": "code",
      "source": [
        "# Plot learning rate values vs loss graph\n",
        "\n",
        "lrs = 1e-4 * (10**(tf.range(100)/20))\n",
        "lrs"
      ],
      "metadata": {
        "id": "kbKUvj_C844q"
      },
      "execution_count": null,
      "outputs": []
    },
    {
      "cell_type": "code",
      "source": [
        "plt.figure(figsize = (10,7))\n",
        "plt.semilogx(lrs,history_10.history[\"loss\"])\n",
        "plt.xlabel(\"Learning Rate\")\n",
        "plt.ylabel(\"Loss\")\n",
        "plt.title(\"Learning Rate vs Loss\")\n",
        "plt.show()"
      ],
      "metadata": {
        "id": "zXphhB2J847B"
      },
      "execution_count": null,
      "outputs": []
    },
    {
      "cell_type": "code",
      "source": [
        " # Examples of some typical learning rate values\n",
        " # 10**0 , 0.01,0.001,0.0001"
      ],
      "metadata": {
        "id": "CpDTSbSh_f9L"
      },
      "execution_count": null,
      "outputs": []
    },
    {
      "cell_type": "code",
      "source": [
        "# Create a another model by picking any of the above learning rates\n",
        "\n",
        "# Set seed\n",
        "tf.random.set_seed(42)\n",
        "\n",
        "#1. Create a model\n",
        "model_11 = tf.keras.Sequential([\n",
        "                                tf.keras.layers.Dense(4,activation=\"relu\"),\n",
        "                                tf.keras.layers.Dense(4,activation=\"relu\"),\n",
        "                                tf.keras.layers.Dense(1,activation = \"sigmoid\")\n",
        "])\n",
        "\n",
        "#2. Compile the model\n",
        "model_11.compile(loss = \"binary_crossentropy\",\n",
        "                 optimizer = tf.keras.optimizers.Adam(0.001),\n",
        "                 metrics = [\"accuracy\"])\n",
        "\n",
        "#3. Fit the model\n",
        "model_11.fit(X_train,y_train,epochs = 100,verbose = 0)"
      ],
      "metadata": {
        "id": "hcR_cDXe_gAG"
      },
      "execution_count": null,
      "outputs": []
    },
    {
      "cell_type": "code",
      "source": [
        "model_11.evaluate(X_test,y_test)"
      ],
      "metadata": {
        "id": "jfHehA0E_gDL"
      },
      "execution_count": null,
      "outputs": []
    },
    {
      "cell_type": "code",
      "source": [
        "# The model with 0.01 learning rate does slightly better compared to the \n",
        "# one with 0.001 when no of epochs are equal"
      ],
      "metadata": {
        "id": "xQUuDAZN_gGN"
      },
      "execution_count": null,
      "outputs": []
    },
    {
      "cell_type": "code",
      "source": [
        "plt.figure(figsize=(12,6))\n",
        "plt.title(\"Train\")\n",
        "plot_decision_boundary(model_11,X_train,y_train)\n",
        "plt.show()"
      ],
      "metadata": {
        "id": "NgfG2pcyJTKm"
      },
      "execution_count": null,
      "outputs": []
    },
    {
      "cell_type": "code",
      "source": [
        "plt.figure(figsize=(12,6))\n",
        "plt.title(\"Test\")\n",
        "plot_decision_boundary(model_11,X_test,y_test)\n",
        "plt.show()"
      ],
      "metadata": {
        "id": "1Ks48UcbJTNz"
      },
      "execution_count": null,
      "outputs": []
    },
    {
      "cell_type": "markdown",
      "source": [
        "Some very common and important evaluation metrics :\n",
        "\n",
        "1) Accuracy\n",
        "\n",
        "2) Precison (tp/(tp + fp)) --> higher precision leads to less false +ves\n",
        "\n",
        "3) Recall (tp/(tp + fn)) --> Higher recall leads to less false -ves\n",
        "\n",
        "4) F1 - score ((2*(precision*recall))/(precision + recall)) --> good overall metric\n",
        "\n",
        "5) Confusion matrix --> used mostly in binary classification"
      ],
      "metadata": {
        "id": "1kmzHMJSJTQq"
      }
    },
    {
      "cell_type": "markdown",
      "source": [
        "### More classification evluation methods\n",
        "\n",
        "Alongside visualization, there are a handful of other classification evaluation methods\n",
        "and metrics we should know"
      ],
      "metadata": {
        "id": "MAGpx7a8_gJE"
      }
    },
    {
      "cell_type": "code",
      "source": [
        "# Learn about \"Precision-Recall\" tradeoff"
      ],
      "metadata": {
        "id": "L7vYGnlR_gNw"
      },
      "execution_count": null,
      "outputs": []
    },
    {
      "cell_type": "markdown",
      "source": [
        "### You can use sklearn.metrics.classification_report for classification problems"
      ],
      "metadata": {
        "id": "BNR0qqQ6_gQP"
      }
    },
    {
      "cell_type": "code",
      "source": [
        "# Check the accuracy of our model\n",
        "\n",
        "loss , accuracy = model_11.evaluate(X_test,y_test)\n",
        "\n",
        "print(\"loss : \",loss)\n",
        "print(\"accuracy : \",accuracy)"
      ],
      "metadata": {
        "id": "PTVzsoim_gSg"
      },
      "execution_count": null,
      "outputs": []
    },
    {
      "cell_type": "code",
      "source": [
        "y_test"
      ],
      "metadata": {
        "id": "F-oGBpjXN9qw"
      },
      "execution_count": null,
      "outputs": []
    },
    {
      "cell_type": "code",
      "source": [
        "y_preds = model_11.predict(X_test)"
      ],
      "metadata": {
        "id": "Bgz8uvyeN9ta"
      },
      "execution_count": null,
      "outputs": []
    },
    {
      "cell_type": "code",
      "source": [
        "# We need to convert 0ver prediction values to binary values (1 and 0)\n",
        "# y_preds has values in probability form"
      ],
      "metadata": {
        "id": "4oyR5kphOH7n"
      },
      "execution_count": null,
      "outputs": []
    },
    {
      "cell_type": "code",
      "source": [
        "tf.round(y_preds[:10])"
      ],
      "metadata": {
        "id": "PR50u4IsOH-p"
      },
      "execution_count": null,
      "outputs": []
    },
    {
      "cell_type": "code",
      "source": [
        "# Create a confusion matrix\n",
        "from sklearn.metrics import confusion_matrix\n",
        "confusion_matrix(y_test,tf.round(y_preds))"
      ],
      "metadata": {
        "id": "0ghOLMY4OQqb"
      },
      "execution_count": null,
      "outputs": []
    },
    {
      "cell_type": "code",
      "source": [
        "# Making a pretty confusion matrix\n",
        "import itertools\n",
        "\n",
        "figsize = (10, 10)\n",
        "\n",
        "# Create the confusion matrix\n",
        "cm = confusion_matrix(y_test, tf.round(y_preds))\n",
        "cm_norm = cm.astype(\"float\") / cm.sum(axis=1)[:, np.newaxis] # normalize it\n",
        "n_classes = cm.shape[0]\n",
        "\n",
        "# Let's prettify it\n",
        "fig, ax = plt.subplots(figsize=figsize)\n",
        "# Create a matrix plot\n",
        "cax = ax.matshow(cm, cmap=plt.cm.Blues) # https://matplotlib.org/3.2.0/api/_as_gen/matplotlib.axes.Axes.matshow.html\n",
        "fig.colorbar(cax)\n",
        "\n",
        "# Create classes\n",
        "classes = False\n",
        "\n",
        "if classes:\n",
        "  labels = classes\n",
        "else:\n",
        "  labels = np.arange(cm.shape[0])\n",
        "\n",
        "# Label the axes\n",
        "ax.set(title=\"Confusion Matrix\",\n",
        "       xlabel=\"Predicted label\",\n",
        "       ylabel=\"True label\",\n",
        "       xticks=np.arange(n_classes),\n",
        "       yticks=np.arange(n_classes),\n",
        "       xticklabels=labels,\n",
        "       yticklabels=labels)\n",
        "\n",
        "# Set x-axis labels to bottom\n",
        "ax.xaxis.set_label_position(\"bottom\")\n",
        "ax.xaxis.tick_bottom()\n",
        "\n",
        "# Adjust label size\n",
        "ax.xaxis.label.set_size(20)\n",
        "ax.yaxis.label.set_size(20)\n",
        "ax.title.set_size(20)\n",
        "\n",
        "# Set threshold for different colors\n",
        "threshold = (cm.max() + cm.min()) / 2.\n",
        "\n",
        "# Plot the text on each cell\n",
        "for i, j in itertools.product(range(cm.shape[0]), range(cm.shape[1])):\n",
        "  plt.text(j, i, f\"{cm[i, j]} ({cm_norm[i, j]*100:.1f}%)\",\n",
        "           horizontalalignment=\"center\",\n",
        "           color=\"white\" if cm[i, j] > threshold else \"black\",\n",
        "           size=15)"
      ],
      "metadata": {
        "id": "qDMK5Sc-OQt2"
      },
      "execution_count": null,
      "outputs": []
    },
    {
      "cell_type": "markdown",
      "source": [
        "### Working with a larger example (multiclass classification)"
      ],
      "metadata": {
        "id": "x1MTMwgZOIBU"
      }
    },
    {
      "cell_type": "code",
      "source": [
        "# Tabia / King's Disease"
      ],
      "metadata": {
        "id": "UoY5Yx0PU0Ir"
      },
      "execution_count": 25,
      "outputs": []
    },
    {
      "cell_type": "code",
      "source": [
        "# When there are  more than two classes , it is called multi-classification"
      ],
      "metadata": {
        "id": "Wdl9Wj05U0Li"
      },
      "execution_count": 26,
      "outputs": []
    },
    {
      "cell_type": "code",
      "source": [
        "# We will use the \"fashion_mnist\" dataset \n",
        "\n",
        "import tensorflow as tf\n",
        "from tensorflow.keras.datasets import fashion_mnist\n",
        "\n",
        "# The data is already splitted into test and train sets\n",
        "\n",
        "(train_data , train_labels) , (test_data,test_labels) = fashion_mnist.load_data()\n",
        "\n",
        "\n",
        "\n"
      ],
      "metadata": {
        "id": "OCxkUUjr_gVL",
        "colab": {
          "base_uri": "https://localhost:8080/"
        },
        "outputId": "1291afb4-78a8-4872-cf89-0368ee91d26b"
      },
      "execution_count": 27,
      "outputs": [
        {
          "output_type": "stream",
          "name": "stdout",
          "text": [
            "Downloading data from https://storage.googleapis.com/tensorflow/tf-keras-datasets/train-labels-idx1-ubyte.gz\n",
            "32768/29515 [=================================] - 0s 0us/step\n",
            "40960/29515 [=========================================] - 0s 0us/step\n",
            "Downloading data from https://storage.googleapis.com/tensorflow/tf-keras-datasets/train-images-idx3-ubyte.gz\n",
            "26427392/26421880 [==============================] - 0s 0us/step\n",
            "26435584/26421880 [==============================] - 0s 0us/step\n",
            "Downloading data from https://storage.googleapis.com/tensorflow/tf-keras-datasets/t10k-labels-idx1-ubyte.gz\n",
            "16384/5148 [===============================================================================================] - 0s 0us/step\n",
            "Downloading data from https://storage.googleapis.com/tensorflow/tf-keras-datasets/t10k-images-idx3-ubyte.gz\n",
            "4423680/4422102 [==============================] - 0s 0us/step\n",
            "4431872/4422102 [==============================] - 0s 0us/step\n"
          ]
        }
      ]
    },
    {
      "cell_type": "code",
      "source": [
        "train_data[0]"
      ],
      "metadata": {
        "colab": {
          "base_uri": "https://localhost:8080/"
        },
        "id": "Y9Qc9I4-_gYK",
        "outputId": "a9664817-2ae9-41e4-e135-dfc6da01d552"
      },
      "execution_count": 28,
      "outputs": [
        {
          "output_type": "execute_result",
          "data": {
            "text/plain": [
              "array([[  0,   0,   0,   0,   0,   0,   0,   0,   0,   0,   0,   0,   0,\n",
              "          0,   0,   0,   0,   0,   0,   0,   0,   0,   0,   0,   0,   0,\n",
              "          0,   0],\n",
              "       [  0,   0,   0,   0,   0,   0,   0,   0,   0,   0,   0,   0,   0,\n",
              "          0,   0,   0,   0,   0,   0,   0,   0,   0,   0,   0,   0,   0,\n",
              "          0,   0],\n",
              "       [  0,   0,   0,   0,   0,   0,   0,   0,   0,   0,   0,   0,   0,\n",
              "          0,   0,   0,   0,   0,   0,   0,   0,   0,   0,   0,   0,   0,\n",
              "          0,   0],\n",
              "       [  0,   0,   0,   0,   0,   0,   0,   0,   0,   0,   0,   0,   1,\n",
              "          0,   0,  13,  73,   0,   0,   1,   4,   0,   0,   0,   0,   1,\n",
              "          1,   0],\n",
              "       [  0,   0,   0,   0,   0,   0,   0,   0,   0,   0,   0,   0,   3,\n",
              "          0,  36, 136, 127,  62,  54,   0,   0,   0,   1,   3,   4,   0,\n",
              "          0,   3],\n",
              "       [  0,   0,   0,   0,   0,   0,   0,   0,   0,   0,   0,   0,   6,\n",
              "          0, 102, 204, 176, 134, 144, 123,  23,   0,   0,   0,   0,  12,\n",
              "         10,   0],\n",
              "       [  0,   0,   0,   0,   0,   0,   0,   0,   0,   0,   0,   0,   0,\n",
              "          0, 155, 236, 207, 178, 107, 156, 161, 109,  64,  23,  77, 130,\n",
              "         72,  15],\n",
              "       [  0,   0,   0,   0,   0,   0,   0,   0,   0,   0,   0,   1,   0,\n",
              "         69, 207, 223, 218, 216, 216, 163, 127, 121, 122, 146, 141,  88,\n",
              "        172,  66],\n",
              "       [  0,   0,   0,   0,   0,   0,   0,   0,   0,   1,   1,   1,   0,\n",
              "        200, 232, 232, 233, 229, 223, 223, 215, 213, 164, 127, 123, 196,\n",
              "        229,   0],\n",
              "       [  0,   0,   0,   0,   0,   0,   0,   0,   0,   0,   0,   0,   0,\n",
              "        183, 225, 216, 223, 228, 235, 227, 224, 222, 224, 221, 223, 245,\n",
              "        173,   0],\n",
              "       [  0,   0,   0,   0,   0,   0,   0,   0,   0,   0,   0,   0,   0,\n",
              "        193, 228, 218, 213, 198, 180, 212, 210, 211, 213, 223, 220, 243,\n",
              "        202,   0],\n",
              "       [  0,   0,   0,   0,   0,   0,   0,   0,   0,   1,   3,   0,  12,\n",
              "        219, 220, 212, 218, 192, 169, 227, 208, 218, 224, 212, 226, 197,\n",
              "        209,  52],\n",
              "       [  0,   0,   0,   0,   0,   0,   0,   0,   0,   0,   6,   0,  99,\n",
              "        244, 222, 220, 218, 203, 198, 221, 215, 213, 222, 220, 245, 119,\n",
              "        167,  56],\n",
              "       [  0,   0,   0,   0,   0,   0,   0,   0,   0,   4,   0,   0,  55,\n",
              "        236, 228, 230, 228, 240, 232, 213, 218, 223, 234, 217, 217, 209,\n",
              "         92,   0],\n",
              "       [  0,   0,   1,   4,   6,   7,   2,   0,   0,   0,   0,   0, 237,\n",
              "        226, 217, 223, 222, 219, 222, 221, 216, 223, 229, 215, 218, 255,\n",
              "         77,   0],\n",
              "       [  0,   3,   0,   0,   0,   0,   0,   0,   0,  62, 145, 204, 228,\n",
              "        207, 213, 221, 218, 208, 211, 218, 224, 223, 219, 215, 224, 244,\n",
              "        159,   0],\n",
              "       [  0,   0,   0,   0,  18,  44,  82, 107, 189, 228, 220, 222, 217,\n",
              "        226, 200, 205, 211, 230, 224, 234, 176, 188, 250, 248, 233, 238,\n",
              "        215,   0],\n",
              "       [  0,  57, 187, 208, 224, 221, 224, 208, 204, 214, 208, 209, 200,\n",
              "        159, 245, 193, 206, 223, 255, 255, 221, 234, 221, 211, 220, 232,\n",
              "        246,   0],\n",
              "       [  3, 202, 228, 224, 221, 211, 211, 214, 205, 205, 205, 220, 240,\n",
              "         80, 150, 255, 229, 221, 188, 154, 191, 210, 204, 209, 222, 228,\n",
              "        225,   0],\n",
              "       [ 98, 233, 198, 210, 222, 229, 229, 234, 249, 220, 194, 215, 217,\n",
              "        241,  65,  73, 106, 117, 168, 219, 221, 215, 217, 223, 223, 224,\n",
              "        229,  29],\n",
              "       [ 75, 204, 212, 204, 193, 205, 211, 225, 216, 185, 197, 206, 198,\n",
              "        213, 240, 195, 227, 245, 239, 223, 218, 212, 209, 222, 220, 221,\n",
              "        230,  67],\n",
              "       [ 48, 203, 183, 194, 213, 197, 185, 190, 194, 192, 202, 214, 219,\n",
              "        221, 220, 236, 225, 216, 199, 206, 186, 181, 177, 172, 181, 205,\n",
              "        206, 115],\n",
              "       [  0, 122, 219, 193, 179, 171, 183, 196, 204, 210, 213, 207, 211,\n",
              "        210, 200, 196, 194, 191, 195, 191, 198, 192, 176, 156, 167, 177,\n",
              "        210,  92],\n",
              "       [  0,   0,  74, 189, 212, 191, 175, 172, 175, 181, 185, 188, 189,\n",
              "        188, 193, 198, 204, 209, 210, 210, 211, 188, 188, 194, 192, 216,\n",
              "        170,   0],\n",
              "       [  2,   0,   0,   0,  66, 200, 222, 237, 239, 242, 246, 243, 244,\n",
              "        221, 220, 193, 191, 179, 182, 182, 181, 176, 166, 168,  99,  58,\n",
              "          0,   0],\n",
              "       [  0,   0,   0,   0,   0,   0,   0,  40,  61,  44,  72,  41,  35,\n",
              "          0,   0,   0,   0,   0,   0,   0,   0,   0,   0,   0,   0,   0,\n",
              "          0,   0],\n",
              "       [  0,   0,   0,   0,   0,   0,   0,   0,   0,   0,   0,   0,   0,\n",
              "          0,   0,   0,   0,   0,   0,   0,   0,   0,   0,   0,   0,   0,\n",
              "          0,   0],\n",
              "       [  0,   0,   0,   0,   0,   0,   0,   0,   0,   0,   0,   0,   0,\n",
              "          0,   0,   0,   0,   0,   0,   0,   0,   0,   0,   0,   0,   0,\n",
              "          0,   0]], dtype=uint8)"
            ]
          },
          "metadata": {},
          "execution_count": 28
        }
      ]
    },
    {
      "cell_type": "code",
      "source": [
        "train_data.shape"
      ],
      "metadata": {
        "colab": {
          "base_uri": "https://localhost:8080/"
        },
        "id": "yAL9OT60npVH",
        "outputId": "195e877d-e9ed-47fd-c334-7ad5c7b42359"
      },
      "execution_count": 29,
      "outputs": [
        {
          "output_type": "execute_result",
          "data": {
            "text/plain": [
              "(60000, 28, 28)"
            ]
          },
          "metadata": {},
          "execution_count": 29
        }
      ]
    },
    {
      "cell_type": "code",
      "source": [
        "print(\"ckjqwckjn\")"
      ],
      "metadata": {
        "colab": {
          "base_uri": "https://localhost:8080/"
        },
        "id": "CSOme9PJnpYK",
        "outputId": "907fe11e-3ef2-4862-8a4c-80ceeba27d47"
      },
      "execution_count": 30,
      "outputs": [
        {
          "output_type": "stream",
          "name": "stdout",
          "text": [
            "ckjqwckjn\n"
          ]
        }
      ]
    },
    {
      "cell_type": "code",
      "source": [
        "train_labels.shape"
      ],
      "metadata": {
        "colab": {
          "base_uri": "https://localhost:8080/"
        },
        "id": "Jm0V1qq1ny3V",
        "outputId": "4d3a2671-04ab-45ea-a586-2ede33994d6f"
      },
      "execution_count": 31,
      "outputs": [
        {
          "output_type": "execute_result",
          "data": {
            "text/plain": [
              "(60000,)"
            ]
          },
          "metadata": {},
          "execution_count": 31
        }
      ]
    },
    {
      "cell_type": "code",
      "source": [
        "# Check the shape of a single example\n",
        "train_data[0].shape,train_labels[0].shape"
      ],
      "metadata": {
        "colab": {
          "base_uri": "https://localhost:8080/"
        },
        "id": "x6v638e6ny6g",
        "outputId": "bf590525-1c4d-4179-a762-e139c6d1040d"
      },
      "execution_count": 32,
      "outputs": [
        {
          "output_type": "execute_result",
          "data": {
            "text/plain": [
              "((28, 28), ())"
            ]
          },
          "metadata": {},
          "execution_count": 32
        }
      ]
    },
    {
      "cell_type": "code",
      "source": [
        "# Plot a single sample\n",
        "import matplotlib.pyplot as plt\n",
        "\n",
        "plt.imshow(train_data[14])"
      ],
      "metadata": {
        "colab": {
          "base_uri": "https://localhost:8080/",
          "height": 282
        },
        "id": "tQVueArCny9U",
        "outputId": "df09f89a-f06f-4786-be07-886a94615eb0"
      },
      "execution_count": 33,
      "outputs": [
        {
          "output_type": "execute_result",
          "data": {
            "text/plain": [
              "<matplotlib.image.AxesImage at 0x7f8ac2d115d0>"
            ]
          },
          "metadata": {},
          "execution_count": 33
        },
        {
          "output_type": "display_data",
          "data": {
            "image/png": "[encoded data removed]",
            "text/plain": [
              "<Figure size 432x288 with 1 Axes>"
            ]
          },
          "metadata": {
            "needs_background": "light"
          }
        }
      ]
    },
    {
      "cell_type": "code",
      "source": [
        "# Check out sample labels\n",
        "train_labels[14]"
      ],
      "metadata": {
        "colab": {
          "base_uri": "https://localhost:8080/"
        },
        "id": "LsQB2WQbyA4h",
        "outputId": "2a250f43-0c72-4eb6-9baa-42e94e7190d8"
      },
      "execution_count": 34,
      "outputs": [
        {
          "output_type": "execute_result",
          "data": {
            "text/plain": [
              "7"
            ]
          },
          "metadata": {},
          "execution_count": 34
        }
      ]
    },
    {
      "cell_type": "code",
      "source": [
        "# Create a small list so we can index onto our training labels so they're human readable\n",
        "class_names = [\"T-shirt/top\",\"Trouser\",\"Pullover\",\"Dress\",\"Coat\",\"Sandal\",\"Shirt\",\"Sneaker\",\"Bag\",\"Ankle boot\"]\n",
        "\n",
        "len(class_names)"
      ],
      "metadata": {
        "colab": {
          "base_uri": "https://localhost:8080/"
        },
        "id": "j2bnWGUmyA8F",
        "outputId": "61b01d66-0eb2-4b2c-d695-9fdbcb92c44c"
      },
      "execution_count": 35,
      "outputs": [
        {
          "output_type": "execute_result",
          "data": {
            "text/plain": [
              "10"
            ]
          },
          "metadata": {},
          "execution_count": 35
        }
      ]
    },
    {
      "cell_type": "code",
      "source": [
        "# Plot an example image and its label\n",
        "\n",
        "plt.imshow(train_data[17],cmap = plt.cm.binary)\n",
        "plt.title(class_names[train_labels[17]])\n",
        "plt.show()"
      ],
      "metadata": {
        "colab": {
          "base_uri": "https://localhost:8080/",
          "height": 281
        },
        "id": "EhhUOzTlny_8",
        "outputId": "e55c28fa-c099-4d34-f764-3ddaaa177edd"
      },
      "execution_count": 36,
      "outputs": [
        {
          "output_type": "display_data",
          "data": {
            "image/png": "[encoded data removed]",
            "text/plain": [
              "<Figure size 432x288 with 1 Axes>"
            ]
          },
          "metadata": {
            "needs_background": "light"
          }
        }
      ]
    },
    {
      "cell_type": "code",
      "source": [
        "# Plot multiple random images from fashion_mnist\n",
        "\n",
        "import random\n",
        "plt.figure(figsize=(7,7))\n",
        "for i in range(4):\n",
        "  ax = plt.subplot(2,2,i+1)\n",
        "  rand_index = random.choice(range(len(train_data)))\n",
        "  plt.imshow(train_data[rand_index],cmap = plt.cm.binary)\n",
        "  plt.title(class_names[train_labels[rand_index]])\n",
        "  plt.axis(False)"
      ],
      "metadata": {
        "colab": {
          "base_uri": "https://localhost:8080/",
          "height": 427
        },
        "id": "N2Bhrdl_nzCa",
        "outputId": "168554a3-7d77-4572-97b8-3161df3bebf2"
      },
      "execution_count": 37,
      "outputs": [
        {
          "output_type": "display_data",
          "data": {
            "image/png": "[encoded data removed]",
            "text/plain": [
              "<Figure size 504x504 with 4 Axes>"
            ]
          },
          "metadata": {
            "needs_background": "light"
          }
        }
      ]
    },
    {
      "cell_type": "markdown",
      "source": [
        "### Building a multi class classification model\n",
        "\n",
        "We will have to tweak some things :\n",
        "\n",
        "1) Input shape ->  (28,28)\n",
        "\n",
        "2) Output shape -> 10(one per class of clothing) \n",
        "\n",
        "3) Loss function -> tf.keras.optimizers.categoricalcrossentropy\n",
        "\n",
        "4) Output layer activation -> softmax\n",
        "\n"
      ],
      "metadata": {
        "id": "pjRkgDsAnzF7"
      }
    },
    {
      "cell_type": "code",
      "source": [
        "# Our labels are in the form of integeres and not one hot encoded....\n",
        "# While using categorical cross entropy requires the labels to be\n",
        "# one hot encoded"
      ],
      "metadata": {
        "id": "4S28tL6JKdL1"
      },
      "execution_count": 38,
      "outputs": []
    },
    {
      "cell_type": "code",
      "source": [
        "# You can use tf.keras.losses.SparseCategoricalCrossEntropy() instead if you need to\n",
        "# use integer labels"
      ],
      "metadata": {
        "id": "AW2sCQ1jKdPT"
      },
      "execution_count": 39,
      "outputs": []
    },
    {
      "cell_type": "code",
      "source": [
        "# Create our first multi class classification problem\n",
        "\n",
        "# Set random seed\n",
        "tf.random.set_seed(42)\n",
        "\n",
        "#1. Create a model\n",
        "model_multi = tf.keras.Sequential([\n",
        "                                   tf.keras.layers.Flatten(input_shape=(28,28)),\n",
        "                                   tf.keras.layers.Dense(4,activation=\"relu\"),\n",
        "                                   tf.keras.layers.Dense(4,activation=\"relu\"),\n",
        "                                   tf.keras.layers.Dense(10,activation=\"softmax\")\n",
        "])\n",
        "\n",
        "#2. Compile the model\n",
        "model_multi.compile(loss = tf.keras.losses.SparseCategoricalCrossentropy(),\n",
        "                    optimizer = tf.keras.optimizers.Adam(),\n",
        "                    metrics = [\"accuracy\"])\n",
        "\n",
        "#3. Fit the model\n",
        "history_multi = model_multi.fit(train_data,train_labels,epochs=100,\n",
        "                                validation_data = (test_data,test_labels))\n"
      ],
      "metadata": {
        "colab": {
          "base_uri": "https://localhost:8080/"
        },
        "id": "AJRcCn1c5vTw",
        "outputId": "d39edb95-7758-4b7b-a5d3-7b8247e39510"
      },
      "execution_count": 40,
      "outputs": [
        {
          "output_type": "stream",
          "name": "stdout",
          "text": [
            "Epoch 1/100\n",
            "1875/1875 [==============================] - 5s 3ms/step - loss: 2.1671 - accuracy: 0.1606 - val_loss: 1.7959 - val_accuracy: 0.2046\n",
            "Epoch 2/100\n",
            "1875/1875 [==============================] - 4s 2ms/step - loss: 1.7066 - accuracy: 0.2509 - val_loss: 1.6567 - val_accuracy: 0.2805\n",
            "Epoch 3/100\n",
            "1875/1875 [==============================] - 4s 2ms/step - loss: 1.6321 - accuracy: 0.2806 - val_loss: 1.6094 - val_accuracy: 0.2857\n",
            "Epoch 4/100\n",
            "1875/1875 [==============================] - 4s 2ms/step - loss: 1.6052 - accuracy: 0.2833 - val_loss: 1.6041 - val_accuracy: 0.2859\n",
            "Epoch 5/100\n",
            "1875/1875 [==============================] - 4s 2ms/step - loss: 1.5975 - accuracy: 0.2862 - val_loss: 1.6064 - val_accuracy: 0.2756\n",
            "Epoch 6/100\n",
            "1875/1875 [==============================] - 4s 2ms/step - loss: 1.5950 - accuracy: 0.2920 - val_loss: 1.5747 - val_accuracy: 0.2994\n",
            "Epoch 7/100\n",
            "1875/1875 [==============================] - 4s 2ms/step - loss: 1.5775 - accuracy: 0.3040 - val_loss: 1.6030 - val_accuracy: 0.3000\n",
            "Epoch 8/100\n",
            "1875/1875 [==============================] - 4s 2ms/step - loss: 1.5708 - accuracy: 0.3175 - val_loss: 1.5635 - val_accuracy: 0.3315\n",
            "Epoch 9/100\n",
            "1875/1875 [==============================] - 4s 2ms/step - loss: 1.5638 - accuracy: 0.3280 - val_loss: 1.5534 - val_accuracy: 0.3334\n",
            "Epoch 10/100\n",
            "1875/1875 [==============================] - 4s 2ms/step - loss: 1.5432 - accuracy: 0.3346 - val_loss: 1.5390 - val_accuracy: 0.3549\n",
            "Epoch 11/100\n",
            "1875/1875 [==============================] - 4s 2ms/step - loss: 1.5160 - accuracy: 0.3519 - val_loss: 1.5051 - val_accuracy: 0.3582\n",
            "Epoch 12/100\n",
            "1875/1875 [==============================] - 4s 2ms/step - loss: 1.4441 - accuracy: 0.3972 - val_loss: 1.3549 - val_accuracy: 0.4347\n",
            "Epoch 13/100\n",
            "1875/1875 [==============================] - 4s 2ms/step - loss: 1.3136 - accuracy: 0.4450 - val_loss: 1.2910 - val_accuracy: 0.4549\n",
            "Epoch 14/100\n",
            "1875/1875 [==============================] - 4s 2ms/step - loss: 1.2738 - accuracy: 0.4535 - val_loss: 1.2582 - val_accuracy: 0.4671\n",
            "Epoch 15/100\n",
            "1875/1875 [==============================] - 4s 2ms/step - loss: 1.2006 - accuracy: 0.4963 - val_loss: 1.1155 - val_accuracy: 0.5431\n",
            "Epoch 16/100\n",
            "1875/1875 [==============================] - 4s 2ms/step - loss: 1.0833 - accuracy: 0.5409 - val_loss: 1.0602 - val_accuracy: 0.5692\n",
            "Epoch 17/100\n",
            "1875/1875 [==============================] - 4s 2ms/step - loss: 1.0464 - accuracy: 0.5583 - val_loss: 1.0282 - val_accuracy: 0.5811\n",
            "Epoch 18/100\n",
            "1875/1875 [==============================] - 4s 2ms/step - loss: 1.0204 - accuracy: 0.5760 - val_loss: 1.0104 - val_accuracy: 0.6027\n",
            "Epoch 19/100\n",
            "1875/1875 [==============================] - 4s 2ms/step - loss: 1.0062 - accuracy: 0.5877 - val_loss: 1.0446 - val_accuracy: 0.5659\n",
            "Epoch 20/100\n",
            "1875/1875 [==============================] - 4s 2ms/step - loss: 0.9883 - accuracy: 0.5966 - val_loss: 0.9933 - val_accuracy: 0.5974\n",
            "Epoch 21/100\n",
            "1875/1875 [==============================] - 4s 2ms/step - loss: 0.9831 - accuracy: 0.6044 - val_loss: 1.0685 - val_accuracy: 0.5993\n",
            "Epoch 22/100\n",
            "1875/1875 [==============================] - 4s 2ms/step - loss: 0.9778 - accuracy: 0.6063 - val_loss: 0.9915 - val_accuracy: 0.6056\n",
            "Epoch 23/100\n",
            "1875/1875 [==============================] - 4s 2ms/step - loss: 0.9667 - accuracy: 0.6121 - val_loss: 1.0079 - val_accuracy: 0.6028\n",
            "Epoch 24/100\n",
            "1875/1875 [==============================] - 4s 2ms/step - loss: 0.9722 - accuracy: 0.6091 - val_loss: 0.9880 - val_accuracy: 0.6106\n",
            "Epoch 25/100\n",
            "1875/1875 [==============================] - 4s 2ms/step - loss: 0.9708 - accuracy: 0.6096 - val_loss: 0.9791 - val_accuracy: 0.6259\n",
            "Epoch 26/100\n",
            "1875/1875 [==============================] - 4s 2ms/step - loss: 0.9618 - accuracy: 0.6109 - val_loss: 1.0434 - val_accuracy: 0.5818\n",
            "Epoch 27/100\n",
            "1875/1875 [==============================] - 4s 2ms/step - loss: 0.9576 - accuracy: 0.6120 - val_loss: 1.0031 - val_accuracy: 0.5990\n",
            "Epoch 28/100\n",
            "1875/1875 [==============================] - 4s 2ms/step - loss: 0.9686 - accuracy: 0.6094 - val_loss: 1.0075 - val_accuracy: 0.6062\n",
            "Epoch 29/100\n",
            "1875/1875 [==============================] - 4s 2ms/step - loss: 0.9561 - accuracy: 0.6140 - val_loss: 0.9564 - val_accuracy: 0.6240\n",
            "Epoch 30/100\n",
            "1875/1875 [==============================] - 4s 2ms/step - loss: 0.9544 - accuracy: 0.6167 - val_loss: 1.0325 - val_accuracy: 0.6025\n",
            "Epoch 31/100\n",
            "1875/1875 [==============================] - 4s 2ms/step - loss: 0.9599 - accuracy: 0.6112 - val_loss: 1.0079 - val_accuracy: 0.6050\n",
            "Epoch 32/100\n",
            "1875/1875 [==============================] - 4s 2ms/step - loss: 0.9619 - accuracy: 0.6093 - val_loss: 0.9654 - val_accuracy: 0.6233\n",
            "Epoch 33/100\n",
            "1875/1875 [==============================] - 4s 2ms/step - loss: 0.9558 - accuracy: 0.6126 - val_loss: 0.9640 - val_accuracy: 0.6299\n",
            "Epoch 34/100\n",
            "1875/1875 [==============================] - 4s 2ms/step - loss: 0.9627 - accuracy: 0.6116 - val_loss: 0.9858 - val_accuracy: 0.6153\n",
            "Epoch 35/100\n",
            "1875/1875 [==============================] - 4s 2ms/step - loss: 0.9466 - accuracy: 0.6156 - val_loss: 0.9484 - val_accuracy: 0.6239\n",
            "Epoch 36/100\n",
            "1875/1875 [==============================] - 4s 2ms/step - loss: 0.9382 - accuracy: 0.6174 - val_loss: 0.9445 - val_accuracy: 0.6440\n",
            "Epoch 37/100\n",
            "1875/1875 [==============================] - 4s 2ms/step - loss: 0.9268 - accuracy: 0.6222 - val_loss: 0.9584 - val_accuracy: 0.5905\n",
            "Epoch 38/100\n",
            "1875/1875 [==============================] - 4s 2ms/step - loss: 0.9162 - accuracy: 0.6299 - val_loss: 0.9152 - val_accuracy: 0.6396\n",
            "Epoch 39/100\n",
            "1875/1875 [==============================] - 4s 2ms/step - loss: 0.8965 - accuracy: 0.6344 - val_loss: 0.9109 - val_accuracy: 0.6455\n",
            "Epoch 40/100\n",
            "1875/1875 [==============================] - 4s 2ms/step - loss: 0.8778 - accuracy: 0.6392 - val_loss: 0.9510 - val_accuracy: 0.6033\n",
            "Epoch 41/100\n",
            "1875/1875 [==============================] - 4s 2ms/step - loss: 0.8717 - accuracy: 0.6427 - val_loss: 0.9161 - val_accuracy: 0.6445\n",
            "Epoch 42/100\n",
            "1875/1875 [==============================] - 4s 2ms/step - loss: 0.8633 - accuracy: 0.6455 - val_loss: 0.8835 - val_accuracy: 0.6574\n",
            "Epoch 43/100\n",
            "1875/1875 [==============================] - 4s 2ms/step - loss: 0.8563 - accuracy: 0.6472 - val_loss: 0.8757 - val_accuracy: 0.6558\n",
            "Epoch 44/100\n",
            "1875/1875 [==============================] - 4s 2ms/step - loss: 0.8534 - accuracy: 0.6487 - val_loss: 0.9068 - val_accuracy: 0.6414\n",
            "Epoch 45/100\n",
            "1875/1875 [==============================] - 4s 2ms/step - loss: 0.8475 - accuracy: 0.6491 - val_loss: 0.8668 - val_accuracy: 0.6563\n",
            "Epoch 46/100\n",
            "1875/1875 [==============================] - 4s 2ms/step - loss: 0.8490 - accuracy: 0.6493 - val_loss: 0.8808 - val_accuracy: 0.6490\n",
            "Epoch 47/100\n",
            "1875/1875 [==============================] - 4s 2ms/step - loss: 0.8458 - accuracy: 0.6501 - val_loss: 0.8780 - val_accuracy: 0.6573\n",
            "Epoch 48/100\n",
            "1875/1875 [==============================] - 4s 2ms/step - loss: 0.8462 - accuracy: 0.6502 - val_loss: 0.8608 - val_accuracy: 0.6613\n",
            "Epoch 49/100\n",
            "1875/1875 [==============================] - 4s 2ms/step - loss: 0.8410 - accuracy: 0.6529 - val_loss: 0.8755 - val_accuracy: 0.6542\n",
            "Epoch 50/100\n",
            "1875/1875 [==============================] - 4s 2ms/step - loss: 0.8390 - accuracy: 0.6568 - val_loss: 0.8687 - val_accuracy: 0.6569\n",
            "Epoch 51/100\n",
            "1875/1875 [==============================] - 4s 2ms/step - loss: 0.8399 - accuracy: 0.6534 - val_loss: 0.8674 - val_accuracy: 0.6378\n",
            "Epoch 52/100\n",
            "1875/1875 [==============================] - 4s 2ms/step - loss: 0.8357 - accuracy: 0.6518 - val_loss: 0.8588 - val_accuracy: 0.6365\n",
            "Epoch 53/100\n",
            "1875/1875 [==============================] - 4s 2ms/step - loss: 0.8357 - accuracy: 0.6549 - val_loss: 0.8509 - val_accuracy: 0.6639\n",
            "Epoch 54/100\n",
            "1875/1875 [==============================] - 4s 2ms/step - loss: 0.8348 - accuracy: 0.6547 - val_loss: 0.8705 - val_accuracy: 0.6482\n",
            "Epoch 55/100\n",
            "1875/1875 [==============================] - 4s 2ms/step - loss: 0.8320 - accuracy: 0.6563 - val_loss: 0.8554 - val_accuracy: 0.6701\n",
            "Epoch 56/100\n",
            "1875/1875 [==============================] - 4s 2ms/step - loss: 0.8310 - accuracy: 0.6550 - val_loss: 0.8635 - val_accuracy: 0.6515\n",
            "Epoch 57/100\n",
            "1875/1875 [==============================] - 4s 2ms/step - loss: 0.8304 - accuracy: 0.6554 - val_loss: 0.8682 - val_accuracy: 0.6642\n",
            "Epoch 58/100\n",
            "1875/1875 [==============================] - 4s 2ms/step - loss: 0.8287 - accuracy: 0.6582 - val_loss: 0.8758 - val_accuracy: 0.6380\n",
            "Epoch 59/100\n",
            "1875/1875 [==============================] - 4s 2ms/step - loss: 0.8279 - accuracy: 0.6578 - val_loss: 0.8558 - val_accuracy: 0.6612\n",
            "Epoch 60/100\n",
            "1875/1875 [==============================] - 4s 2ms/step - loss: 0.8273 - accuracy: 0.6570 - val_loss: 0.8610 - val_accuracy: 0.6610\n",
            "Epoch 61/100\n",
            "1875/1875 [==============================] - 4s 2ms/step - loss: 0.8153 - accuracy: 0.6817 - val_loss: 0.8253 - val_accuracy: 0.6981\n",
            "Epoch 62/100\n",
            "1875/1875 [==============================] - 4s 2ms/step - loss: 0.7958 - accuracy: 0.7061 - val_loss: 0.7945 - val_accuracy: 0.7166\n",
            "Epoch 63/100\n",
            "1875/1875 [==============================] - 4s 2ms/step - loss: 0.7695 - accuracy: 0.7189 - val_loss: 0.7787 - val_accuracy: 0.7214\n",
            "Epoch 64/100\n",
            "1875/1875 [==============================] - 4s 2ms/step - loss: 0.7571 - accuracy: 0.7243 - val_loss: 0.7817 - val_accuracy: 0.7175\n",
            "Epoch 65/100\n",
            "1875/1875 [==============================] - 4s 2ms/step - loss: 0.7488 - accuracy: 0.7304 - val_loss: 0.7839 - val_accuracy: 0.7250\n",
            "Epoch 66/100\n",
            "1875/1875 [==============================] - 4s 2ms/step - loss: 0.7454 - accuracy: 0.7298 - val_loss: 0.8141 - val_accuracy: 0.7001\n",
            "Epoch 67/100\n",
            "1875/1875 [==============================] - 4s 2ms/step - loss: 0.7449 - accuracy: 0.7315 - val_loss: 0.7927 - val_accuracy: 0.7166\n",
            "Epoch 68/100\n",
            "1875/1875 [==============================] - 4s 2ms/step - loss: 0.7391 - accuracy: 0.7323 - val_loss: 0.7503 - val_accuracy: 0.7343\n",
            "Epoch 69/100\n",
            "1875/1875 [==============================] - 4s 2ms/step - loss: 0.7347 - accuracy: 0.7329 - val_loss: 0.7633 - val_accuracy: 0.7335\n",
            "Epoch 70/100\n",
            "1875/1875 [==============================] - 4s 2ms/step - loss: 0.7354 - accuracy: 0.7365 - val_loss: 0.7699 - val_accuracy: 0.7325\n",
            "Epoch 71/100\n",
            "1875/1875 [==============================] - 4s 2ms/step - loss: 0.7384 - accuracy: 0.7345 - val_loss: 0.7893 - val_accuracy: 0.7230\n",
            "Epoch 72/100\n",
            "1875/1875 [==============================] - 4s 2ms/step - loss: 0.7334 - accuracy: 0.7359 - val_loss: 0.7815 - val_accuracy: 0.7315\n",
            "Epoch 73/100\n",
            "1875/1875 [==============================] - 5s 2ms/step - loss: 0.7361 - accuracy: 0.7340 - val_loss: 0.7720 - val_accuracy: 0.7276\n",
            "Epoch 74/100\n",
            "1875/1875 [==============================] - 4s 2ms/step - loss: 0.7296 - accuracy: 0.7376 - val_loss: 0.7686 - val_accuracy: 0.7298\n",
            "Epoch 75/100\n",
            "1875/1875 [==============================] - 4s 2ms/step - loss: 0.7269 - accuracy: 0.7390 - val_loss: 0.7733 - val_accuracy: 0.7277\n",
            "Epoch 76/100\n",
            "1875/1875 [==============================] - 4s 2ms/step - loss: 0.7259 - accuracy: 0.7372 - val_loss: 0.7746 - val_accuracy: 0.7289\n",
            "Epoch 77/100\n",
            "1875/1875 [==============================] - 4s 2ms/step - loss: 0.7271 - accuracy: 0.7371 - val_loss: 0.7594 - val_accuracy: 0.7311\n",
            "Epoch 78/100\n",
            "1875/1875 [==============================] - 4s 2ms/step - loss: 0.7287 - accuracy: 0.7359 - val_loss: 0.7701 - val_accuracy: 0.7284\n",
            "Epoch 79/100\n",
            "1875/1875 [==============================] - 4s 2ms/step - loss: 0.7218 - accuracy: 0.7390 - val_loss: 0.8005 - val_accuracy: 0.7175\n",
            "Epoch 80/100\n",
            "1875/1875 [==============================] - 4s 2ms/step - loss: 0.7219 - accuracy: 0.7404 - val_loss: 0.7944 - val_accuracy: 0.7222\n",
            "Epoch 81/100\n",
            "1875/1875 [==============================] - 4s 2ms/step - loss: 0.7238 - accuracy: 0.7385 - val_loss: 0.7637 - val_accuracy: 0.7299\n",
            "Epoch 82/100\n",
            "1875/1875 [==============================] - 4s 2ms/step - loss: 0.7220 - accuracy: 0.7398 - val_loss: 0.7934 - val_accuracy: 0.7077\n",
            "Epoch 83/100\n",
            "1875/1875 [==============================] - 4s 2ms/step - loss: 0.7237 - accuracy: 0.7374 - val_loss: 0.8092 - val_accuracy: 0.7106\n",
            "Epoch 84/100\n",
            "1875/1875 [==============================] - 4s 2ms/step - loss: 0.7224 - accuracy: 0.7390 - val_loss: 0.7771 - val_accuracy: 0.7252\n",
            "Epoch 85/100\n",
            "1875/1875 [==============================] - 4s 2ms/step - loss: 0.7195 - accuracy: 0.7382 - val_loss: 0.7638 - val_accuracy: 0.7372\n",
            "Epoch 86/100\n",
            "1875/1875 [==============================] - 4s 2ms/step - loss: 0.7229 - accuracy: 0.7385 - val_loss: 0.7731 - val_accuracy: 0.7296\n",
            "Epoch 87/100\n",
            "1875/1875 [==============================] - 4s 2ms/step - loss: 0.7176 - accuracy: 0.7402 - val_loss: 0.7638 - val_accuracy: 0.7331\n",
            "Epoch 88/100\n",
            "1875/1875 [==============================] - 4s 2ms/step - loss: 0.7238 - accuracy: 0.7387 - val_loss: 0.7839 - val_accuracy: 0.7182\n",
            "Epoch 89/100\n",
            "1875/1875 [==============================] - 4s 2ms/step - loss: 0.7202 - accuracy: 0.7388 - val_loss: 0.7483 - val_accuracy: 0.7265\n",
            "Epoch 90/100\n",
            "1875/1875 [==============================] - 4s 2ms/step - loss: 0.7176 - accuracy: 0.7401 - val_loss: 0.7758 - val_accuracy: 0.7241\n",
            "Epoch 91/100\n",
            "1875/1875 [==============================] - 4s 2ms/step - loss: 0.7210 - accuracy: 0.7397 - val_loss: 0.7713 - val_accuracy: 0.7331\n",
            "Epoch 92/100\n",
            "1875/1875 [==============================] - 4s 2ms/step - loss: 0.7187 - accuracy: 0.7396 - val_loss: 0.7516 - val_accuracy: 0.7399\n",
            "Epoch 93/100\n",
            "1875/1875 [==============================] - 4s 2ms/step - loss: 0.7172 - accuracy: 0.7389 - val_loss: 0.7755 - val_accuracy: 0.7276\n",
            "Epoch 94/100\n",
            "1875/1875 [==============================] - 4s 2ms/step - loss: 0.7191 - accuracy: 0.7409 - val_loss: 0.7726 - val_accuracy: 0.7337\n",
            "Epoch 95/100\n",
            "1875/1875 [==============================] - 4s 2ms/step - loss: 0.7197 - accuracy: 0.7404 - val_loss: 0.7708 - val_accuracy: 0.7294\n",
            "Epoch 96/100\n",
            "1875/1875 [==============================] - 4s 2ms/step - loss: 0.7195 - accuracy: 0.7402 - val_loss: 0.7583 - val_accuracy: 0.7370\n",
            "Epoch 97/100\n",
            "1875/1875 [==============================] - 4s 2ms/step - loss: 0.7177 - accuracy: 0.7394 - val_loss: 0.7628 - val_accuracy: 0.7275\n",
            "Epoch 98/100\n",
            "1875/1875 [==============================] - 4s 2ms/step - loss: 0.7175 - accuracy: 0.7404 - val_loss: 0.7667 - val_accuracy: 0.7354\n",
            "Epoch 99/100\n",
            "1875/1875 [==============================] - 4s 2ms/step - loss: 0.7168 - accuracy: 0.7402 - val_loss: 0.7518 - val_accuracy: 0.7313\n",
            "Epoch 100/100\n",
            "1875/1875 [==============================] - 4s 2ms/step - loss: 0.7207 - accuracy: 0.7386 - val_loss: 0.7482 - val_accuracy: 0.7396\n"
          ]
        }
      ]
    },
    {
      "cell_type": "code",
      "source": [
        "# Plot the history plot\n",
        "\n",
        "pd.DataFrame(history_multi.history).plot()\n",
        "plt.xlabel(\"Epochs\")\n",
        "plt.ylabel(\"Loss / Accuracy\")\n",
        "plt.show()"
      ],
      "metadata": {
        "colab": {
          "base_uri": "https://localhost:8080/",
          "height": 282
        },
        "id": "bEMYWQov5vXI",
        "outputId": "62f0cc64-e0c6-49ba-bcc1-1e7ab6d901e8"
      },
      "execution_count": 41,
      "outputs": [
        {
          "output_type": "display_data",
          "data": {
            "image/png": "[encoded data removed]",
            "text/plain": [
              "<Figure size 432x288 with 1 Axes>"
            ]
          },
          "metadata": {
            "needs_background": "light"
          }
        }
      ]
    },
    {
      "cell_type": "code",
      "source": [
        "# Training for another 50 epochs"
      ],
      "metadata": {
        "id": "p78nb0VdMCgk"
      },
      "execution_count": 42,
      "outputs": []
    },
    {
      "cell_type": "code",
      "source": [
        "history_multi = model_multi.fit(train_data,train_labels,epochs=50,\n",
        "                                validation_data = (test_data,test_labels))"
      ],
      "metadata": {
        "colab": {
          "base_uri": "https://localhost:8080/"
        },
        "id": "Wyr3yg1WMCjH",
        "outputId": "18f6b078-9532-4b50-aeef-eacdb7ae662d"
      },
      "execution_count": 43,
      "outputs": [
        {
          "output_type": "stream",
          "name": "stdout",
          "text": [
            "Epoch 1/50\n",
            "1875/1875 [==============================] - 4s 2ms/step - loss: 0.7150 - accuracy: 0.7383 - val_loss: 0.7592 - val_accuracy: 0.7320\n",
            "Epoch 2/50\n",
            "1875/1875 [==============================] - 4s 2ms/step - loss: 0.7162 - accuracy: 0.7404 - val_loss: 0.7809 - val_accuracy: 0.7348\n",
            "Epoch 3/50\n",
            "1875/1875 [==============================] - 4s 2ms/step - loss: 0.7140 - accuracy: 0.7402 - val_loss: 0.7791 - val_accuracy: 0.7189\n",
            "Epoch 4/50\n",
            "1875/1875 [==============================] - 4s 2ms/step - loss: 0.7149 - accuracy: 0.7401 - val_loss: 0.7685 - val_accuracy: 0.7363\n",
            "Epoch 5/50\n",
            "1875/1875 [==============================] - 4s 2ms/step - loss: 0.7169 - accuracy: 0.7384 - val_loss: 0.7528 - val_accuracy: 0.7332\n",
            "Epoch 6/50\n",
            "1875/1875 [==============================] - 4s 2ms/step - loss: 0.7162 - accuracy: 0.7393 - val_loss: 0.7967 - val_accuracy: 0.7258\n",
            "Epoch 7/50\n",
            "1875/1875 [==============================] - 4s 2ms/step - loss: 0.7177 - accuracy: 0.7390 - val_loss: 0.7644 - val_accuracy: 0.7250\n",
            "Epoch 8/50\n",
            "1875/1875 [==============================] - 4s 2ms/step - loss: 0.7150 - accuracy: 0.7406 - val_loss: 0.7524 - val_accuracy: 0.7346\n",
            "Epoch 9/50\n",
            "1875/1875 [==============================] - 4s 2ms/step - loss: 0.7169 - accuracy: 0.7404 - val_loss: 0.7697 - val_accuracy: 0.7332\n",
            "Epoch 10/50\n",
            "1875/1875 [==============================] - 4s 2ms/step - loss: 0.7167 - accuracy: 0.7410 - val_loss: 0.7680 - val_accuracy: 0.7258\n",
            "Epoch 11/50\n",
            "1875/1875 [==============================] - 4s 2ms/step - loss: 0.7134 - accuracy: 0.7408 - val_loss: 0.7746 - val_accuracy: 0.7311\n",
            "Epoch 12/50\n",
            "1875/1875 [==============================] - 4s 2ms/step - loss: 0.7146 - accuracy: 0.7410 - val_loss: 0.7524 - val_accuracy: 0.7363\n",
            "Epoch 13/50\n",
            "1875/1875 [==============================] - 4s 2ms/step - loss: 0.7143 - accuracy: 0.7404 - val_loss: 0.7546 - val_accuracy: 0.7396\n",
            "Epoch 14/50\n",
            "1875/1875 [==============================] - 4s 2ms/step - loss: 0.7141 - accuracy: 0.7419 - val_loss: 0.7821 - val_accuracy: 0.7296\n",
            "Epoch 15/50\n",
            "1875/1875 [==============================] - 4s 2ms/step - loss: 0.7169 - accuracy: 0.7396 - val_loss: 0.7705 - val_accuracy: 0.7295\n",
            "Epoch 16/50\n",
            "1875/1875 [==============================] - 4s 2ms/step - loss: 0.7175 - accuracy: 0.7394 - val_loss: 0.7543 - val_accuracy: 0.7366\n",
            "Epoch 17/50\n",
            "1875/1875 [==============================] - 4s 2ms/step - loss: 0.7140 - accuracy: 0.7405 - val_loss: 0.7486 - val_accuracy: 0.7384\n",
            "Epoch 18/50\n",
            "1875/1875 [==============================] - 4s 2ms/step - loss: 0.7127 - accuracy: 0.7405 - val_loss: 0.7561 - val_accuracy: 0.7368\n",
            "Epoch 19/50\n",
            "1875/1875 [==============================] - 4s 2ms/step - loss: 0.7218 - accuracy: 0.7373 - val_loss: 0.7826 - val_accuracy: 0.7183\n",
            "Epoch 20/50\n",
            "1875/1875 [==============================] - 4s 2ms/step - loss: 0.7122 - accuracy: 0.7409 - val_loss: 0.7533 - val_accuracy: 0.7380\n",
            "Epoch 21/50\n",
            "1875/1875 [==============================] - 4s 2ms/step - loss: 0.7139 - accuracy: 0.7420 - val_loss: 0.7713 - val_accuracy: 0.7275\n",
            "Epoch 22/50\n",
            "1875/1875 [==============================] - 4s 2ms/step - loss: 0.7162 - accuracy: 0.7390 - val_loss: 0.7745 - val_accuracy: 0.7261\n",
            "Epoch 23/50\n",
            "1875/1875 [==============================] - 4s 2ms/step - loss: 0.7129 - accuracy: 0.7414 - val_loss: 0.7827 - val_accuracy: 0.7245\n",
            "Epoch 24/50\n",
            "1875/1875 [==============================] - 4s 2ms/step - loss: 0.7139 - accuracy: 0.7419 - val_loss: 0.7560 - val_accuracy: 0.7375\n",
            "Epoch 25/50\n",
            "1875/1875 [==============================] - 4s 2ms/step - loss: 0.7130 - accuracy: 0.7390 - val_loss: 0.7543 - val_accuracy: 0.7330\n",
            "Epoch 26/50\n",
            "1875/1875 [==============================] - 4s 2ms/step - loss: 0.7166 - accuracy: 0.7396 - val_loss: 0.7711 - val_accuracy: 0.7269\n",
            "Epoch 27/50\n",
            "1875/1875 [==============================] - 4s 2ms/step - loss: 0.7119 - accuracy: 0.7401 - val_loss: 0.7651 - val_accuracy: 0.7180\n",
            "Epoch 28/50\n",
            "1875/1875 [==============================] - 4s 2ms/step - loss: 0.7132 - accuracy: 0.7408 - val_loss: 0.7562 - val_accuracy: 0.7365\n",
            "Epoch 29/50\n",
            "1875/1875 [==============================] - 4s 2ms/step - loss: 0.7155 - accuracy: 0.7392 - val_loss: 0.7904 - val_accuracy: 0.7294\n",
            "Epoch 30/50\n",
            "1875/1875 [==============================] - 4s 2ms/step - loss: 0.7103 - accuracy: 0.7406 - val_loss: 0.7640 - val_accuracy: 0.7340\n",
            "Epoch 31/50\n",
            "1875/1875 [==============================] - 4s 2ms/step - loss: 0.7155 - accuracy: 0.7395 - val_loss: 0.7700 - val_accuracy: 0.7305\n",
            "Epoch 32/50\n",
            "1875/1875 [==============================] - 4s 2ms/step - loss: 0.7134 - accuracy: 0.7405 - val_loss: 0.7858 - val_accuracy: 0.7170\n",
            "Epoch 33/50\n",
            "1875/1875 [==============================] - 4s 2ms/step - loss: 0.7116 - accuracy: 0.7414 - val_loss: 0.7864 - val_accuracy: 0.7263\n",
            "Epoch 34/50\n",
            "1875/1875 [==============================] - 4s 2ms/step - loss: 0.7141 - accuracy: 0.7391 - val_loss: 0.7577 - val_accuracy: 0.7307\n",
            "Epoch 35/50\n",
            "1875/1875 [==============================] - 4s 2ms/step - loss: 0.7123 - accuracy: 0.7412 - val_loss: 0.7490 - val_accuracy: 0.7281\n",
            "Epoch 36/50\n",
            "1875/1875 [==============================] - 4s 2ms/step - loss: 0.7103 - accuracy: 0.7424 - val_loss: 0.7565 - val_accuracy: 0.7324\n",
            "Epoch 37/50\n",
            "1875/1875 [==============================] - 4s 2ms/step - loss: 0.7150 - accuracy: 0.7410 - val_loss: 0.7552 - val_accuracy: 0.7308\n",
            "Epoch 38/50\n",
            "1875/1875 [==============================] - 4s 2ms/step - loss: 0.7218 - accuracy: 0.7369 - val_loss: 0.7686 - val_accuracy: 0.7220\n",
            "Epoch 39/50\n",
            "1875/1875 [==============================] - 4s 2ms/step - loss: 0.7122 - accuracy: 0.7414 - val_loss: 0.7644 - val_accuracy: 0.7336\n",
            "Epoch 40/50\n",
            "1875/1875 [==============================] - 4s 2ms/step - loss: 0.7094 - accuracy: 0.7417 - val_loss: 0.7749 - val_accuracy: 0.7235\n",
            "Epoch 41/50\n",
            "1875/1875 [==============================] - 4s 2ms/step - loss: 0.7147 - accuracy: 0.7397 - val_loss: 0.7676 - val_accuracy: 0.7060\n",
            "Epoch 42/50\n",
            "1875/1875 [==============================] - 4s 2ms/step - loss: 0.7119 - accuracy: 0.7416 - val_loss: 0.7567 - val_accuracy: 0.7344\n",
            "Epoch 43/50\n",
            "1875/1875 [==============================] - 4s 2ms/step - loss: 0.7154 - accuracy: 0.7394 - val_loss: 0.7667 - val_accuracy: 0.7335\n",
            "Epoch 44/50\n",
            "1875/1875 [==============================] - 4s 2ms/step - loss: 0.7114 - accuracy: 0.7409 - val_loss: 0.7902 - val_accuracy: 0.7206\n",
            "Epoch 45/50\n",
            "1875/1875 [==============================] - 4s 2ms/step - loss: 0.7118 - accuracy: 0.7408 - val_loss: 0.7702 - val_accuracy: 0.7222\n",
            "Epoch 46/50\n",
            "1875/1875 [==============================] - 4s 2ms/step - loss: 0.7145 - accuracy: 0.7395 - val_loss: 0.7505 - val_accuracy: 0.7370\n",
            "Epoch 47/50\n",
            "1875/1875 [==============================] - 4s 2ms/step - loss: 0.7124 - accuracy: 0.7397 - val_loss: 0.7837 - val_accuracy: 0.7364\n",
            "Epoch 48/50\n",
            "1875/1875 [==============================] - 4s 2ms/step - loss: 0.7130 - accuracy: 0.7424 - val_loss: 0.7585 - val_accuracy: 0.7283\n",
            "Epoch 49/50\n",
            "1875/1875 [==============================] - 4s 2ms/step - loss: 0.7109 - accuracy: 0.7413 - val_loss: 0.7579 - val_accuracy: 0.7332\n",
            "Epoch 50/50\n",
            "1875/1875 [==============================] - 4s 2ms/step - loss: 0.7106 - accuracy: 0.7419 - val_loss: 0.7549 - val_accuracy: 0.7397\n"
          ]
        }
      ]
    },
    {
      "cell_type": "code",
      "source": [
        "# Plot the history plot\n",
        "\n",
        "pd.DataFrame(history_multi.history).plot()\n",
        "plt.xlabel(\"Epochs\")\n",
        "plt.ylabel(\"Loss / Accuracy\")\n",
        "plt.show()"
      ],
      "metadata": {
        "colab": {
          "base_uri": "https://localhost:8080/",
          "height": 281
        },
        "id": "8uYgoD2UMCl_",
        "outputId": "db695d4d-2431-4073-c1ca-381116469582"
      },
      "execution_count": 44,
      "outputs": [
        {
          "output_type": "display_data",
          "data": {
            "image/png": "[encoded data removed]",
            "text/plain": [
              "<Figure size 432x288 with 1 Axes>"
            ]
          },
          "metadata": {
            "needs_background": "light"
          }
        }
      ]
    },
    {
      "cell_type": "code",
      "source": [
        "# Check the model summary\n",
        "\n",
        "model_multi.summary()"
      ],
      "metadata": {
        "id": "mI6E1jvcPIjO",
        "colab": {
          "base_uri": "https://localhost:8080/"
        },
        "outputId": "f88ea38c-d1c2-4489-f090-585f32fa07b6"
      },
      "execution_count": 45,
      "outputs": [
        {
          "output_type": "stream",
          "name": "stdout",
          "text": [
            "Model: \"sequential_2\"\n",
            "_________________________________________________________________\n",
            " Layer (type)                Output Shape              Param #   \n",
            "=================================================================\n",
            " flatten (Flatten)           (None, 784)               0         \n",
            "                                                                 \n",
            " dense_4 (Dense)             (None, 4)                 3140      \n",
            "                                                                 \n",
            " dense_5 (Dense)             (None, 4)                 20        \n",
            "                                                                 \n",
            " dense_6 (Dense)             (None, 10)                50        \n",
            "                                                                 \n",
            "=================================================================\n",
            "Total params: 3,210\n",
            "Trainable params: 3,210\n",
            "Non-trainable params: 0\n",
            "_________________________________________________________________\n"
          ]
        }
      ]
    },
    {
      "cell_type": "code",
      "source": [
        "# Check the min and max of the training data\n",
        "train_data.min(),train_data.max()"
      ],
      "metadata": {
        "id": "P4ySaMjxPImh",
        "colab": {
          "base_uri": "https://localhost:8080/"
        },
        "outputId": "28d925cd-1ff9-4afc-dc60-f82850905e38"
      },
      "execution_count": 46,
      "outputs": [
        {
          "output_type": "execute_result",
          "data": {
            "text/plain": [
              "(0, 255)"
            ]
          },
          "metadata": {},
          "execution_count": 46
        }
      ]
    },
    {
      "cell_type": "markdown",
      "source": [
        "### Neural networks prefer data to be scaled . They prefer\n",
        "### values between 0 and 1 "
      ],
      "metadata": {
        "id": "o15tCaXx1KJP"
      }
    },
    {
      "cell_type": "code",
      "source": [
        "# We can get our training and testing data between 0 and 1 by dividing each values\n",
        "# by the max(255)"
      ],
      "metadata": {
        "id": "HSx1jzPZ1KL5"
      },
      "execution_count": 47,
      "outputs": []
    },
    {
      "cell_type": "code",
      "source": [
        "train_data_norm = train_data/255.0\n",
        "test_data_norm = test_data/255.0 "
      ],
      "metadata": {
        "id": "2p9KA2Y71KPM"
      },
      "execution_count": 48,
      "outputs": []
    },
    {
      "cell_type": "code",
      "source": [
        "train_data_norm.min(),test_data_norm.max()"
      ],
      "metadata": {
        "colab": {
          "base_uri": "https://localhost:8080/"
        },
        "id": "PlBnf39I1stK",
        "outputId": "5030b509-346d-4915-e3eb-f8efc65c055e"
      },
      "execution_count": 49,
      "outputs": [
        {
          "output_type": "execute_result",
          "data": {
            "text/plain": [
              "(0.0, 1.0)"
            ]
          },
          "metadata": {},
          "execution_count": 49
        }
      ]
    },
    {
      "cell_type": "code",
      "source": [
        "# Training with the normalized training data\n",
        "\n",
        "#Set random seed\n",
        "tf.random.set_seed(42)\n",
        "\n",
        "#1. Create the model\n",
        "model_multi_norm = tf.keras.Sequential([\n",
        "                                        tf.keras.layers.Flatten(input_shape=(28,28)),\n",
        "                                        tf.keras.layers.Dense(4,activation=\"relu\"),\n",
        "                                        tf.keras.layers.Dense(4,activation=\"relu\"),\n",
        "                                        tf.keras.layers.Dense(10,activation=\"softmax\")\n",
        "])\n",
        "\n",
        "#2. Compile the model\n",
        "\n",
        "model_multi_norm.compile(loss = tf.keras.losses.SparseCategoricalCrossentropy(),\n",
        "                         optimizer = tf.keras.optimizers.Adam(),\n",
        "                         metrics = [\"accuracy\"])\n",
        "\n",
        "#3. Fit the data\n",
        "history_multi_norm = model_multi_norm.fit(train_data_norm,train_labels,epochs=100,\n",
        "                                          validation_data=(test_data_norm,test_labels)) "
      ],
      "metadata": {
        "colab": {
          "base_uri": "https://localhost:8080/"
        },
        "id": "c6F2CO8v1swO",
        "outputId": "9ecb977d-9dd3-4f6f-c5a1-e3eb1c169344"
      },
      "execution_count": 50,
      "outputs": [
        {
          "output_type": "stream",
          "name": "stdout",
          "text": [
            "Epoch 1/100\n",
            "1875/1875 [==============================] - 5s 2ms/step - loss: 1.0348 - accuracy: 0.6474 - val_loss: 0.6937 - val_accuracy: 0.7617\n",
            "Epoch 2/100\n",
            "1875/1875 [==============================] - 4s 2ms/step - loss: 0.6376 - accuracy: 0.7757 - val_loss: 0.6400 - val_accuracy: 0.7820\n",
            "Epoch 3/100\n",
            "1875/1875 [==============================] - 4s 2ms/step - loss: 0.5942 - accuracy: 0.7914 - val_loss: 0.6247 - val_accuracy: 0.7783\n",
            "Epoch 4/100\n",
            "1875/1875 [==============================] - 4s 2ms/step - loss: 0.5750 - accuracy: 0.7979 - val_loss: 0.6078 - val_accuracy: 0.7881\n",
            "Epoch 5/100\n",
            "1875/1875 [==============================] - 4s 2ms/step - loss: 0.5641 - accuracy: 0.8006 - val_loss: 0.6169 - val_accuracy: 0.7881\n",
            "Epoch 6/100\n",
            "1875/1875 [==============================] - 4s 2ms/step - loss: 0.5544 - accuracy: 0.8043 - val_loss: 0.5855 - val_accuracy: 0.7951\n",
            "Epoch 7/100\n",
            "1875/1875 [==============================] - 4s 2ms/step - loss: 0.5488 - accuracy: 0.8063 - val_loss: 0.6097 - val_accuracy: 0.7836\n",
            "Epoch 8/100\n",
            "1875/1875 [==============================] - 4s 2ms/step - loss: 0.5428 - accuracy: 0.8077 - val_loss: 0.5787 - val_accuracy: 0.7971\n",
            "Epoch 9/100\n",
            "1875/1875 [==============================] - 4s 2ms/step - loss: 0.5373 - accuracy: 0.8097 - val_loss: 0.5698 - val_accuracy: 0.7977\n",
            "Epoch 10/100\n",
            "1875/1875 [==============================] - 4s 2ms/step - loss: 0.5360 - accuracy: 0.8124 - val_loss: 0.5658 - val_accuracy: 0.8014\n",
            "Epoch 11/100\n",
            "1875/1875 [==============================] - 4s 2ms/step - loss: 0.5311 - accuracy: 0.8130 - val_loss: 0.5714 - val_accuracy: 0.8002\n",
            "Epoch 12/100\n",
            "1875/1875 [==============================] - 4s 2ms/step - loss: 0.5284 - accuracy: 0.8132 - val_loss: 0.5626 - val_accuracy: 0.8027\n",
            "Epoch 13/100\n",
            "1875/1875 [==============================] - 4s 2ms/step - loss: 0.5271 - accuracy: 0.8138 - val_loss: 0.5619 - val_accuracy: 0.8041\n",
            "Epoch 14/100\n",
            "1875/1875 [==============================] - 4s 2ms/step - loss: 0.5249 - accuracy: 0.8143 - val_loss: 0.5718 - val_accuracy: 0.7991\n",
            "Epoch 15/100\n",
            "1875/1875 [==============================] - 4s 2ms/step - loss: 0.5231 - accuracy: 0.8148 - val_loss: 0.5706 - val_accuracy: 0.8024\n",
            "Epoch 16/100\n",
            "1875/1875 [==============================] - 4s 2ms/step - loss: 0.5203 - accuracy: 0.8162 - val_loss: 0.5731 - val_accuracy: 0.8023\n",
            "Epoch 17/100\n",
            "1875/1875 [==============================] - 4s 2ms/step - loss: 0.5191 - accuracy: 0.8176 - val_loss: 0.5594 - val_accuracy: 0.8030\n",
            "Epoch 18/100\n",
            "1875/1875 [==============================] - 4s 2ms/step - loss: 0.5176 - accuracy: 0.8157 - val_loss: 0.5582 - val_accuracy: 0.8053\n",
            "Epoch 19/100\n",
            "1875/1875 [==============================] - 4s 2ms/step - loss: 0.5156 - accuracy: 0.8169 - val_loss: 0.5644 - val_accuracy: 0.8007\n",
            "Epoch 20/100\n",
            "1875/1875 [==============================] - 4s 2ms/step - loss: 0.5146 - accuracy: 0.8177 - val_loss: 0.5660 - val_accuracy: 0.8075\n",
            "Epoch 21/100\n",
            "1875/1875 [==============================] - 4s 2ms/step - loss: 0.5125 - accuracy: 0.8197 - val_loss: 0.5684 - val_accuracy: 0.8004\n",
            "Epoch 22/100\n",
            "1875/1875 [==============================] - 4s 2ms/step - loss: 0.5112 - accuracy: 0.8180 - val_loss: 0.5666 - val_accuracy: 0.8029\n",
            "Epoch 23/100\n",
            "1875/1875 [==============================] - 4s 2ms/step - loss: 0.5105 - accuracy: 0.8195 - val_loss: 0.5570 - val_accuracy: 0.8068\n",
            "Epoch 24/100\n",
            "1875/1875 [==============================] - 4s 2ms/step - loss: 0.5101 - accuracy: 0.8177 - val_loss: 0.5565 - val_accuracy: 0.8076\n",
            "Epoch 25/100\n",
            "1875/1875 [==============================] - 4s 2ms/step - loss: 0.5075 - accuracy: 0.8196 - val_loss: 0.5572 - val_accuracy: 0.8048\n",
            "Epoch 26/100\n",
            "1875/1875 [==============================] - 4s 2ms/step - loss: 0.5081 - accuracy: 0.8192 - val_loss: 0.5659 - val_accuracy: 0.8065\n",
            "Epoch 27/100\n",
            "1875/1875 [==============================] - 4s 2ms/step - loss: 0.5058 - accuracy: 0.8206 - val_loss: 0.5587 - val_accuracy: 0.8045\n",
            "Epoch 28/100\n",
            "1875/1875 [==============================] - 4s 2ms/step - loss: 0.5052 - accuracy: 0.8206 - val_loss: 0.5561 - val_accuracy: 0.8077\n",
            "Epoch 29/100\n",
            "1875/1875 [==============================] - 4s 2ms/step - loss: 0.5050 - accuracy: 0.8205 - val_loss: 0.5664 - val_accuracy: 0.8054\n",
            "Epoch 30/100\n",
            "1875/1875 [==============================] - 4s 2ms/step - loss: 0.5024 - accuracy: 0.8213 - val_loss: 0.5575 - val_accuracy: 0.8051\n",
            "Epoch 31/100\n",
            "1875/1875 [==============================] - 4s 2ms/step - loss: 0.5029 - accuracy: 0.8215 - val_loss: 0.5627 - val_accuracy: 0.8033\n",
            "Epoch 32/100\n",
            "1875/1875 [==============================] - 4s 2ms/step - loss: 0.5012 - accuracy: 0.8204 - val_loss: 0.5574 - val_accuracy: 0.8097\n",
            "Epoch 33/100\n",
            "1875/1875 [==============================] - 4s 2ms/step - loss: 0.4998 - accuracy: 0.8219 - val_loss: 0.5774 - val_accuracy: 0.8007\n",
            "Epoch 34/100\n",
            "1875/1875 [==============================] - 4s 2ms/step - loss: 0.4996 - accuracy: 0.8222 - val_loss: 0.5596 - val_accuracy: 0.8073\n",
            "Epoch 35/100\n",
            "1875/1875 [==============================] - 4s 2ms/step - loss: 0.4980 - accuracy: 0.8237 - val_loss: 0.5507 - val_accuracy: 0.8095\n",
            "Epoch 36/100\n",
            "1875/1875 [==============================] - 4s 2ms/step - loss: 0.4959 - accuracy: 0.8245 - val_loss: 0.5515 - val_accuracy: 0.8066\n",
            "Epoch 37/100\n",
            "1875/1875 [==============================] - 4s 2ms/step - loss: 0.4961 - accuracy: 0.8236 - val_loss: 0.5614 - val_accuracy: 0.8000\n",
            "Epoch 38/100\n",
            "1875/1875 [==============================] - 4s 2ms/step - loss: 0.4948 - accuracy: 0.8248 - val_loss: 0.5453 - val_accuracy: 0.8111\n",
            "Epoch 39/100\n",
            "1875/1875 [==============================] - 4s 2ms/step - loss: 0.4942 - accuracy: 0.8242 - val_loss: 0.5580 - val_accuracy: 0.8044\n",
            "Epoch 40/100\n",
            "1875/1875 [==============================] - 4s 2ms/step - loss: 0.4926 - accuracy: 0.8248 - val_loss: 0.5527 - val_accuracy: 0.8057\n",
            "Epoch 41/100\n",
            "1875/1875 [==============================] - 4s 2ms/step - loss: 0.4923 - accuracy: 0.8246 - val_loss: 0.5585 - val_accuracy: 0.8025\n",
            "Epoch 42/100\n",
            "1875/1875 [==============================] - 4s 2ms/step - loss: 0.4920 - accuracy: 0.8244 - val_loss: 0.5437 - val_accuracy: 0.8104\n",
            "Epoch 43/100\n",
            "1875/1875 [==============================] - 4s 2ms/step - loss: 0.4912 - accuracy: 0.8250 - val_loss: 0.5520 - val_accuracy: 0.8081\n",
            "Epoch 44/100\n",
            "1875/1875 [==============================] - 4s 2ms/step - loss: 0.4905 - accuracy: 0.8268 - val_loss: 0.5465 - val_accuracy: 0.8090\n",
            "Epoch 45/100\n",
            "1875/1875 [==============================] - 4s 2ms/step - loss: 0.4899 - accuracy: 0.8261 - val_loss: 0.5440 - val_accuracy: 0.8113\n",
            "Epoch 46/100\n",
            "1875/1875 [==============================] - 4s 2ms/step - loss: 0.4887 - accuracy: 0.8257 - val_loss: 0.5522 - val_accuracy: 0.8076\n",
            "Epoch 47/100\n",
            "1875/1875 [==============================] - 4s 2ms/step - loss: 0.4874 - accuracy: 0.8263 - val_loss: 0.5491 - val_accuracy: 0.8100\n",
            "Epoch 48/100\n",
            "1875/1875 [==============================] - 4s 2ms/step - loss: 0.4874 - accuracy: 0.8267 - val_loss: 0.5517 - val_accuracy: 0.8092\n",
            "Epoch 49/100\n",
            "1875/1875 [==============================] - 4s 2ms/step - loss: 0.4873 - accuracy: 0.8260 - val_loss: 0.5568 - val_accuracy: 0.8102\n",
            "Epoch 50/100\n",
            "1875/1875 [==============================] - 4s 2ms/step - loss: 0.4865 - accuracy: 0.8274 - val_loss: 0.5441 - val_accuracy: 0.8130\n",
            "Epoch 51/100\n",
            "1875/1875 [==============================] - 4s 2ms/step - loss: 0.4852 - accuracy: 0.8279 - val_loss: 0.5471 - val_accuracy: 0.8084\n",
            "Epoch 52/100\n",
            "1875/1875 [==============================] - 4s 2ms/step - loss: 0.4850 - accuracy: 0.8284 - val_loss: 0.5508 - val_accuracy: 0.8066\n",
            "Epoch 53/100\n",
            "1875/1875 [==============================] - 4s 2ms/step - loss: 0.4847 - accuracy: 0.8276 - val_loss: 0.5539 - val_accuracy: 0.8047\n",
            "Epoch 54/100\n",
            "1875/1875 [==============================] - 4s 2ms/step - loss: 0.4844 - accuracy: 0.8299 - val_loss: 0.5495 - val_accuracy: 0.8084\n",
            "Epoch 55/100\n",
            "1875/1875 [==============================] - 4s 2ms/step - loss: 0.4837 - accuracy: 0.8293 - val_loss: 0.5449 - val_accuracy: 0.8104\n",
            "Epoch 56/100\n",
            "1875/1875 [==============================] - 4s 2ms/step - loss: 0.4830 - accuracy: 0.8279 - val_loss: 0.5404 - val_accuracy: 0.8123\n",
            "Epoch 57/100\n",
            "1875/1875 [==============================] - 4s 2ms/step - loss: 0.4823 - accuracy: 0.8267 - val_loss: 0.5537 - val_accuracy: 0.8109\n",
            "Epoch 58/100\n",
            "1875/1875 [==============================] - 4s 2ms/step - loss: 0.4832 - accuracy: 0.8279 - val_loss: 0.5476 - val_accuracy: 0.8041\n",
            "Epoch 59/100\n",
            "1875/1875 [==============================] - 4s 2ms/step - loss: 0.4806 - accuracy: 0.8290 - val_loss: 0.5538 - val_accuracy: 0.8134\n",
            "Epoch 60/100\n",
            "1875/1875 [==============================] - 4s 2ms/step - loss: 0.4815 - accuracy: 0.8283 - val_loss: 0.5438 - val_accuracy: 0.8099\n",
            "Epoch 61/100\n",
            "1875/1875 [==============================] - 4s 2ms/step - loss: 0.4812 - accuracy: 0.8299 - val_loss: 0.5496 - val_accuracy: 0.8088\n",
            "Epoch 62/100\n",
            "1875/1875 [==============================] - 4s 2ms/step - loss: 0.4811 - accuracy: 0.8293 - val_loss: 0.5415 - val_accuracy: 0.8125\n",
            "Epoch 63/100\n",
            "1875/1875 [==============================] - 4s 2ms/step - loss: 0.4808 - accuracy: 0.8286 - val_loss: 0.5489 - val_accuracy: 0.8052\n",
            "Epoch 64/100\n",
            "1875/1875 [==============================] - 4s 2ms/step - loss: 0.4793 - accuracy: 0.8285 - val_loss: 0.5441 - val_accuracy: 0.8097\n",
            "Epoch 65/100\n",
            "1875/1875 [==============================] - 4s 2ms/step - loss: 0.4780 - accuracy: 0.8303 - val_loss: 0.5423 - val_accuracy: 0.8124\n",
            "Epoch 66/100\n",
            "1875/1875 [==============================] - 4s 2ms/step - loss: 0.4796 - accuracy: 0.8294 - val_loss: 0.5530 - val_accuracy: 0.8116\n",
            "Epoch 67/100\n",
            "1875/1875 [==============================] - 4s 2ms/step - loss: 0.4790 - accuracy: 0.8302 - val_loss: 0.5444 - val_accuracy: 0.8130\n",
            "Epoch 68/100\n",
            "1875/1875 [==============================] - 4s 2ms/step - loss: 0.4778 - accuracy: 0.8296 - val_loss: 0.5525 - val_accuracy: 0.8087\n",
            "Epoch 69/100\n",
            "1875/1875 [==============================] - 4s 2ms/step - loss: 0.4773 - accuracy: 0.8290 - val_loss: 0.5455 - val_accuracy: 0.8123\n",
            "Epoch 70/100\n",
            "1875/1875 [==============================] - 4s 2ms/step - loss: 0.4783 - accuracy: 0.8289 - val_loss: 0.5469 - val_accuracy: 0.8125\n",
            "Epoch 71/100\n",
            "1875/1875 [==============================] - 4s 2ms/step - loss: 0.4773 - accuracy: 0.8305 - val_loss: 0.5439 - val_accuracy: 0.8101\n",
            "Epoch 72/100\n",
            "1875/1875 [==============================] - 4s 2ms/step - loss: 0.4764 - accuracy: 0.8303 - val_loss: 0.5568 - val_accuracy: 0.8095\n",
            "Epoch 73/100\n",
            "1875/1875 [==============================] - 5s 2ms/step - loss: 0.4761 - accuracy: 0.8305 - val_loss: 0.5454 - val_accuracy: 0.8102\n",
            "Epoch 74/100\n",
            "1875/1875 [==============================] - 4s 2ms/step - loss: 0.4763 - accuracy: 0.8311 - val_loss: 0.5557 - val_accuracy: 0.8127\n",
            "Epoch 75/100\n",
            "1875/1875 [==============================] - 4s 2ms/step - loss: 0.4759 - accuracy: 0.8307 - val_loss: 0.5420 - val_accuracy: 0.8097\n",
            "Epoch 76/100\n",
            "1875/1875 [==============================] - 4s 2ms/step - loss: 0.4756 - accuracy: 0.8302 - val_loss: 0.5595 - val_accuracy: 0.8087\n",
            "Epoch 77/100\n",
            "1875/1875 [==============================] - 4s 2ms/step - loss: 0.4774 - accuracy: 0.8294 - val_loss: 0.5425 - val_accuracy: 0.8094\n",
            "Epoch 78/100\n",
            "1875/1875 [==============================] - 4s 2ms/step - loss: 0.4753 - accuracy: 0.8305 - val_loss: 0.5428 - val_accuracy: 0.8146\n",
            "Epoch 79/100\n",
            "1875/1875 [==============================] - 4s 2ms/step - loss: 0.4747 - accuracy: 0.8317 - val_loss: 0.5503 - val_accuracy: 0.8053\n",
            "Epoch 80/100\n",
            "1875/1875 [==============================] - 4s 2ms/step - loss: 0.4744 - accuracy: 0.8306 - val_loss: 0.5485 - val_accuracy: 0.8092\n",
            "Epoch 81/100\n",
            "1875/1875 [==============================] - 4s 2ms/step - loss: 0.4743 - accuracy: 0.8321 - val_loss: 0.5485 - val_accuracy: 0.8072\n",
            "Epoch 82/100\n",
            "1875/1875 [==============================] - 4s 2ms/step - loss: 0.4746 - accuracy: 0.8310 - val_loss: 0.5487 - val_accuracy: 0.8112\n",
            "Epoch 83/100\n",
            "1875/1875 [==============================] - 4s 2ms/step - loss: 0.4740 - accuracy: 0.8322 - val_loss: 0.5715 - val_accuracy: 0.7983\n",
            "Epoch 84/100\n",
            "1875/1875 [==============================] - 4s 2ms/step - loss: 0.4739 - accuracy: 0.8320 - val_loss: 0.5462 - val_accuracy: 0.8087\n",
            "Epoch 85/100\n",
            "1875/1875 [==============================] - 4s 2ms/step - loss: 0.4743 - accuracy: 0.8311 - val_loss: 0.5503 - val_accuracy: 0.8097\n",
            "Epoch 86/100\n",
            "1875/1875 [==============================] - 4s 2ms/step - loss: 0.4737 - accuracy: 0.8320 - val_loss: 0.5442 - val_accuracy: 0.8118\n",
            "Epoch 87/100\n",
            "1875/1875 [==============================] - 4s 2ms/step - loss: 0.4735 - accuracy: 0.8317 - val_loss: 0.5402 - val_accuracy: 0.8112\n",
            "Epoch 88/100\n",
            "1875/1875 [==============================] - 4s 2ms/step - loss: 0.4731 - accuracy: 0.8322 - val_loss: 0.5470 - val_accuracy: 0.8118\n",
            "Epoch 89/100\n",
            "1875/1875 [==============================] - 4s 2ms/step - loss: 0.4730 - accuracy: 0.8313 - val_loss: 0.5477 - val_accuracy: 0.8067\n",
            "Epoch 90/100\n",
            "1875/1875 [==============================] - 4s 2ms/step - loss: 0.4718 - accuracy: 0.8326 - val_loss: 0.5480 - val_accuracy: 0.8102\n",
            "Epoch 91/100\n",
            "1875/1875 [==============================] - 4s 2ms/step - loss: 0.4726 - accuracy: 0.8322 - val_loss: 0.5447 - val_accuracy: 0.8150\n",
            "Epoch 92/100\n",
            "1875/1875 [==============================] - 4s 2ms/step - loss: 0.4720 - accuracy: 0.8332 - val_loss: 0.5412 - val_accuracy: 0.8159\n",
            "Epoch 93/100\n",
            "1875/1875 [==============================] - 4s 2ms/step - loss: 0.4719 - accuracy: 0.8313 - val_loss: 0.5514 - val_accuracy: 0.8104\n",
            "Epoch 94/100\n",
            "1875/1875 [==============================] - 4s 2ms/step - loss: 0.4710 - accuracy: 0.8325 - val_loss: 0.5477 - val_accuracy: 0.8138\n",
            "Epoch 95/100\n",
            "1875/1875 [==============================] - 4s 2ms/step - loss: 0.4703 - accuracy: 0.8330 - val_loss: 0.5402 - val_accuracy: 0.8161\n",
            "Epoch 96/100\n",
            "1875/1875 [==============================] - 4s 2ms/step - loss: 0.4704 - accuracy: 0.8335 - val_loss: 0.5434 - val_accuracy: 0.8122\n",
            "Epoch 97/100\n",
            "1875/1875 [==============================] - 4s 2ms/step - loss: 0.4702 - accuracy: 0.8336 - val_loss: 0.5411 - val_accuracy: 0.8173\n",
            "Epoch 98/100\n",
            "1875/1875 [==============================] - 4s 2ms/step - loss: 0.4701 - accuracy: 0.8338 - val_loss: 0.5477 - val_accuracy: 0.8108\n",
            "Epoch 99/100\n",
            "1875/1875 [==============================] - 4s 2ms/step - loss: 0.4702 - accuracy: 0.8333 - val_loss: 0.5457 - val_accuracy: 0.8119\n",
            "Epoch 100/100\n",
            "1875/1875 [==============================] - 4s 2ms/step - loss: 0.4692 - accuracy: 0.8341 - val_loss: 0.5425 - val_accuracy: 0.8143\n"
          ]
        }
      ]
    },
    {
      "cell_type": "code",
      "source": [
        "# Plot the loss curve\n",
        "\n",
        "pd.DataFrame(history_multi_norm.history).plot()\n",
        "plt.xlabel(\"Epochs\")\n",
        "plt.ylabel(\"Loss / Accuracy\")\n",
        "plt.title(\"Loss Curve\")\n",
        "plt.show()"
      ],
      "metadata": {
        "colab": {
          "base_uri": "https://localhost:8080/",
          "height": 295
        },
        "id": "sBb4wKBN1syl",
        "outputId": "10ac4b45-ffb5-44c7-fcd0-5d30be05e6de"
      },
      "execution_count": 51,
      "outputs": [
        {
          "output_type": "display_data",
          "data": {
            "image/png": "[encoded data removed]",
            "text/plain": [
              "<Figure size 432x288 with 1 Axes>"
            ]
          },
          "metadata": {
            "needs_background": "light"
          }
        }
      ]
    },
    {
      "cell_type": "markdown",
      "source": [
        "### Normalizing our training data increased our accuracy by more than 5%"
      ],
      "metadata": {
        "id": "NwaLhHm0Ce46"
      }
    },
    {
      "cell_type": "code",
      "source": [
        "# Note  :  The same model with even slightly different datacan produce dramatically\n",
        "# different results.\n",
        "\n",
        "# So when comparing models, it is important to compare them on the same data"
      ],
      "metadata": {
        "id": "JvEyykKoC7kr"
      },
      "execution_count": 52,
      "outputs": []
    },
    {
      "cell_type": "markdown",
      "source": [
        "### If labels are one-hot encoded -> tf.keras.optimizers.CategoricalCrossEntropy\n",
        "### If labels are integers -> tf.keras.optimizers.SparseCategoricalCrossEntropy"
      ],
      "metadata": {
        "id": "MswfmRgCMCoa"
      }
    },
    {
      "cell_type": "code",
      "source": [
        "# Finding the ideal learning rate"
      ],
      "metadata": {
        "id": "PS5dLrQgMCrG"
      },
      "execution_count": 53,
      "outputs": []
    },
    {
      "cell_type": "code",
      "source": [
        "#Using learning rate callback\n",
        "# Set the random seed\n",
        "tf.random.set_seed(42)\n",
        "\n",
        "#1. Create a model\n",
        "model_12 = tf.keras.Sequential([\n",
        "                                tf.keras.layers.Flatten(input_shape=(28,28)),\n",
        "                                tf.keras.layers.Dense(4,activation=\"relu\"),\n",
        "                                tf.keras.layers.Dense(4,activation=\"relu\"),\n",
        "                                tf.keras.layers.Dense(10,activation=\"softmax\")\n",
        "])\n",
        "\n",
        "#2. Compile the model\n",
        "model_12.compile(loss = tf.keras.losses.SparseCategoricalCrossentropy(),\n",
        "                 optimizer = tf.keras.optimizers.Adam(),\n",
        "                 metrics = [\"accuracy\"])\n",
        "\n",
        "#3. Learning rate xallback\n",
        "lr_schedular = tf.keras.callbacks.LearningRateScheduler(lambda epoch : 1e-4 * (10)**(epoch/20))\n",
        "\n",
        "#4. fit the model\n",
        "history_12 = model_12.fit(train_data_norm,train_labels,epochs=100,\n",
        "             validation_data = (test_data_norm,test_labels),\n",
        "             callbacks = [lr_schedular])\n"
      ],
      "metadata": {
        "id": "jmHo3-XpMCtc",
        "colab": {
          "base_uri": "https://localhost:8080/"
        },
        "outputId": "66592b49-e560-4c0e-c724-f26a44759ac4"
      },
      "execution_count": 54,
      "outputs": [
        {
          "output_type": "stream",
          "name": "stdout",
          "text": [
            "Epoch 1/100\n",
            "1875/1875 [==============================] - 5s 2ms/step - loss: 1.9126 - accuracy: 0.3121 - val_loss: 1.6130 - val_accuracy: 0.4120 - lr: 1.0000e-04\n",
            "Epoch 2/100\n",
            "1875/1875 [==============================] - 4s 2ms/step - loss: 1.3422 - accuracy: 0.5300 - val_loss: 1.1290 - val_accuracy: 0.6441 - lr: 1.1220e-04\n",
            "Epoch 3/100\n",
            "1875/1875 [==============================] - 4s 2ms/step - loss: 0.9738 - accuracy: 0.6798 - val_loss: 0.9039 - val_accuracy: 0.6927 - lr: 1.2589e-04\n",
            "Epoch 4/100\n",
            "1875/1875 [==============================] - 4s 2ms/step - loss: 0.8289 - accuracy: 0.7134 - val_loss: 0.8146 - val_accuracy: 0.7149 - lr: 1.4125e-04\n",
            "Epoch 5/100\n",
            "1875/1875 [==============================] - 4s 2ms/step - loss: 0.7603 - accuracy: 0.7366 - val_loss: 0.7615 - val_accuracy: 0.7366 - lr: 1.5849e-04\n",
            "Epoch 6/100\n",
            "1875/1875 [==============================] - 4s 2ms/step - loss: 0.7181 - accuracy: 0.7506 - val_loss: 0.7296 - val_accuracy: 0.7448 - lr: 1.7783e-04\n",
            "Epoch 7/100\n",
            "1875/1875 [==============================] - 4s 2ms/step - loss: 0.6897 - accuracy: 0.7584 - val_loss: 0.7037 - val_accuracy: 0.7500 - lr: 1.9953e-04\n",
            "Epoch 8/100\n",
            "1875/1875 [==============================] - 4s 2ms/step - loss: 0.6674 - accuracy: 0.7642 - val_loss: 0.6860 - val_accuracy: 0.7534 - lr: 2.2387e-04\n",
            "Epoch 9/100\n",
            "1875/1875 [==============================] - 4s 2ms/step - loss: 0.6501 - accuracy: 0.7703 - val_loss: 0.6757 - val_accuracy: 0.7535 - lr: 2.5119e-04\n",
            "Epoch 10/100\n",
            "1875/1875 [==============================] - 4s 2ms/step - loss: 0.6365 - accuracy: 0.7742 - val_loss: 0.6595 - val_accuracy: 0.7608 - lr: 2.8184e-04\n",
            "Epoch 11/100\n",
            "1875/1875 [==============================] - 4s 2ms/step - loss: 0.6257 - accuracy: 0.7764 - val_loss: 0.6520 - val_accuracy: 0.7703 - lr: 3.1623e-04\n",
            "Epoch 12/100\n",
            "1875/1875 [==============================] - 4s 2ms/step - loss: 0.6161 - accuracy: 0.7786 - val_loss: 0.6456 - val_accuracy: 0.7725 - lr: 3.5481e-04\n",
            "Epoch 13/100\n",
            "1875/1875 [==============================] - 4s 2ms/step - loss: 0.6081 - accuracy: 0.7811 - val_loss: 0.6341 - val_accuracy: 0.7732 - lr: 3.9811e-04\n",
            "Epoch 14/100\n",
            "1875/1875 [==============================] - 4s 2ms/step - loss: 0.6012 - accuracy: 0.7837 - val_loss: 0.6331 - val_accuracy: 0.7706 - lr: 4.4668e-04\n",
            "Epoch 15/100\n",
            "1875/1875 [==============================] - 4s 2ms/step - loss: 0.5955 - accuracy: 0.7852 - val_loss: 0.6267 - val_accuracy: 0.7783 - lr: 5.0119e-04\n",
            "Epoch 16/100\n",
            "1875/1875 [==============================] - 4s 2ms/step - loss: 0.5900 - accuracy: 0.7873 - val_loss: 0.6215 - val_accuracy: 0.7803 - lr: 5.6234e-04\n",
            "Epoch 17/100\n",
            "1875/1875 [==============================] - 4s 2ms/step - loss: 0.5844 - accuracy: 0.7897 - val_loss: 0.6248 - val_accuracy: 0.7807 - lr: 6.3096e-04\n",
            "Epoch 18/100\n",
            "1875/1875 [==============================] - 4s 2ms/step - loss: 0.5816 - accuracy: 0.7899 - val_loss: 0.6125 - val_accuracy: 0.7803 - lr: 7.0795e-04\n",
            "Epoch 19/100\n",
            "1875/1875 [==============================] - 4s 2ms/step - loss: 0.5773 - accuracy: 0.7900 - val_loss: 0.6172 - val_accuracy: 0.7831 - lr: 7.9433e-04\n",
            "Epoch 20/100\n",
            "1875/1875 [==============================] - 4s 2ms/step - loss: 0.5725 - accuracy: 0.7925 - val_loss: 0.6084 - val_accuracy: 0.7864 - lr: 8.9125e-04\n",
            "Epoch 21/100\n",
            "1875/1875 [==============================] - 4s 2ms/step - loss: 0.5678 - accuracy: 0.7936 - val_loss: 0.5990 - val_accuracy: 0.7864 - lr: 0.0010\n",
            "Epoch 22/100\n",
            "1875/1875 [==============================] - 4s 2ms/step - loss: 0.5646 - accuracy: 0.7949 - val_loss: 0.5990 - val_accuracy: 0.7889 - lr: 0.0011\n",
            "Epoch 23/100\n",
            "1875/1875 [==============================] - 4s 2ms/step - loss: 0.5605 - accuracy: 0.7962 - val_loss: 0.6082 - val_accuracy: 0.7874 - lr: 0.0013\n",
            "Epoch 24/100\n",
            "1875/1875 [==============================] - 4s 2ms/step - loss: 0.5543 - accuracy: 0.7986 - val_loss: 0.5879 - val_accuracy: 0.7942 - lr: 0.0014\n",
            "Epoch 25/100\n",
            "1875/1875 [==============================] - 4s 2ms/step - loss: 0.5524 - accuracy: 0.8000 - val_loss: 0.5968 - val_accuracy: 0.7925 - lr: 0.0016\n",
            "Epoch 26/100\n",
            "1875/1875 [==============================] - 4s 2ms/step - loss: 0.5507 - accuracy: 0.8018 - val_loss: 0.6016 - val_accuracy: 0.7896 - lr: 0.0018\n",
            "Epoch 27/100\n",
            "1875/1875 [==============================] - 4s 2ms/step - loss: 0.5463 - accuracy: 0.8039 - val_loss: 0.5901 - val_accuracy: 0.7999 - lr: 0.0020\n",
            "Epoch 28/100\n",
            "1875/1875 [==============================] - 4s 2ms/step - loss: 0.5427 - accuracy: 0.8054 - val_loss: 0.5737 - val_accuracy: 0.7977 - lr: 0.0022\n",
            "Epoch 29/100\n",
            "1875/1875 [==============================] - 4s 2ms/step - loss: 0.5357 - accuracy: 0.8078 - val_loss: 0.5810 - val_accuracy: 0.7998 - lr: 0.0025\n",
            "Epoch 30/100\n",
            "1875/1875 [==============================] - 4s 2ms/step - loss: 0.5342 - accuracy: 0.8094 - val_loss: 0.5789 - val_accuracy: 0.7990 - lr: 0.0028\n",
            "Epoch 31/100\n",
            "1875/1875 [==============================] - 4s 2ms/step - loss: 0.5323 - accuracy: 0.8089 - val_loss: 0.5947 - val_accuracy: 0.7879 - lr: 0.0032\n",
            "Epoch 32/100\n",
            "1875/1875 [==============================] - 4s 2ms/step - loss: 0.5320 - accuracy: 0.8097 - val_loss: 0.5804 - val_accuracy: 0.8015 - lr: 0.0035\n",
            "Epoch 33/100\n",
            "1875/1875 [==============================] - 4s 2ms/step - loss: 0.5316 - accuracy: 0.8115 - val_loss: 0.5667 - val_accuracy: 0.8015 - lr: 0.0040\n",
            "Epoch 34/100\n",
            "1875/1875 [==============================] - 4s 2ms/step - loss: 0.5306 - accuracy: 0.8108 - val_loss: 0.6001 - val_accuracy: 0.7913 - lr: 0.0045\n",
            "Epoch 35/100\n",
            "1875/1875 [==============================] - 4s 2ms/step - loss: 0.5279 - accuracy: 0.8130 - val_loss: 0.5508 - val_accuracy: 0.8073 - lr: 0.0050\n",
            "Epoch 36/100\n",
            "1875/1875 [==============================] - 4s 2ms/step - loss: 0.5215 - accuracy: 0.8154 - val_loss: 0.5624 - val_accuracy: 0.8071 - lr: 0.0056\n",
            "Epoch 37/100\n",
            "1875/1875 [==============================] - 4s 2ms/step - loss: 0.5253 - accuracy: 0.8144 - val_loss: 0.5806 - val_accuracy: 0.7930 - lr: 0.0063\n",
            "Epoch 38/100\n",
            "1875/1875 [==============================] - 4s 2ms/step - loss: 0.5245 - accuracy: 0.8141 - val_loss: 0.5822 - val_accuracy: 0.7972 - lr: 0.0071\n",
            "Epoch 39/100\n",
            "1875/1875 [==============================] - 4s 2ms/step - loss: 0.5243 - accuracy: 0.8162 - val_loss: 0.5626 - val_accuracy: 0.8035 - lr: 0.0079\n",
            "Epoch 40/100\n",
            "1875/1875 [==============================] - 4s 2ms/step - loss: 0.5276 - accuracy: 0.8151 - val_loss: 0.5627 - val_accuracy: 0.8103 - lr: 0.0089\n",
            "Epoch 41/100\n",
            "1875/1875 [==============================] - 4s 2ms/step - loss: 0.5309 - accuracy: 0.8138 - val_loss: 0.5859 - val_accuracy: 0.7921 - lr: 0.0100\n",
            "Epoch 42/100\n",
            "1875/1875 [==============================] - 4s 2ms/step - loss: 0.5328 - accuracy: 0.8141 - val_loss: 0.6133 - val_accuracy: 0.7826 - lr: 0.0112\n",
            "Epoch 43/100\n",
            "1875/1875 [==============================] - 4s 2ms/step - loss: 0.5379 - accuracy: 0.8126 - val_loss: 0.6297 - val_accuracy: 0.7833 - lr: 0.0126\n",
            "Epoch 44/100\n",
            "1875/1875 [==============================] - 4s 2ms/step - loss: 0.5472 - accuracy: 0.8091 - val_loss: 0.5974 - val_accuracy: 0.7917 - lr: 0.0141\n",
            "Epoch 45/100\n",
            "1875/1875 [==============================] - 4s 2ms/step - loss: 0.5579 - accuracy: 0.8068 - val_loss: 0.7030 - val_accuracy: 0.7465 - lr: 0.0158\n",
            "Epoch 46/100\n",
            "1875/1875 [==============================] - 4s 2ms/step - loss: 0.5606 - accuracy: 0.8072 - val_loss: 0.5760 - val_accuracy: 0.8021 - lr: 0.0178\n",
            "Epoch 47/100\n",
            "1875/1875 [==============================] - 4s 2ms/step - loss: 0.5753 - accuracy: 0.8032 - val_loss: 0.6144 - val_accuracy: 0.7886 - lr: 0.0200\n",
            "Epoch 48/100\n",
            "1875/1875 [==============================] - 4s 2ms/step - loss: 0.5866 - accuracy: 0.7987 - val_loss: 0.5919 - val_accuracy: 0.8029 - lr: 0.0224\n",
            "Epoch 49/100\n",
            "1875/1875 [==============================] - 4s 2ms/step - loss: 0.6033 - accuracy: 0.7959 - val_loss: 0.5869 - val_accuracy: 0.7998 - lr: 0.0251\n",
            "Epoch 50/100\n",
            "1875/1875 [==============================] - 4s 2ms/step - loss: 0.6208 - accuracy: 0.7903 - val_loss: 0.6517 - val_accuracy: 0.7833 - lr: 0.0282\n",
            "Epoch 51/100\n",
            "1875/1875 [==============================] - 4s 2ms/step - loss: 0.6589 - accuracy: 0.7791 - val_loss: 0.7964 - val_accuracy: 0.7600 - lr: 0.0316\n",
            "Epoch 52/100\n",
            "1875/1875 [==============================] - 4s 2ms/step - loss: 0.6774 - accuracy: 0.7750 - val_loss: 0.6405 - val_accuracy: 0.7869 - lr: 0.0355\n",
            "Epoch 53/100\n",
            "1875/1875 [==============================] - 4s 2ms/step - loss: 0.7028 - accuracy: 0.7673 - val_loss: 0.6380 - val_accuracy: 0.7873 - lr: 0.0398\n",
            "Epoch 54/100\n",
            "1875/1875 [==============================] - 4s 2ms/step - loss: 0.7497 - accuracy: 0.7511 - val_loss: 0.7521 - val_accuracy: 0.7158 - lr: 0.0447\n",
            "Epoch 55/100\n",
            "1875/1875 [==============================] - 4s 2ms/step - loss: 0.7671 - accuracy: 0.7457 - val_loss: 0.7794 - val_accuracy: 0.7088 - lr: 0.0501\n",
            "Epoch 56/100\n",
            "1875/1875 [==============================] - 4s 2ms/step - loss: 0.9210 - accuracy: 0.6835 - val_loss: 1.0686 - val_accuracy: 0.6024 - lr: 0.0562\n",
            "Epoch 57/100\n",
            "1875/1875 [==============================] - 4s 2ms/step - loss: 1.0837 - accuracy: 0.5963 - val_loss: 1.1378 - val_accuracy: 0.5439 - lr: 0.0631\n",
            "Epoch 58/100\n",
            "1875/1875 [==============================] - 4s 2ms/step - loss: 1.1877 - accuracy: 0.5307 - val_loss: 1.0881 - val_accuracy: 0.5554 - lr: 0.0708\n",
            "Epoch 59/100\n",
            "1875/1875 [==============================] - 4s 2ms/step - loss: 2.0658 - accuracy: 0.2087 - val_loss: 2.0472 - val_accuracy: 0.2194 - lr: 0.0794\n",
            "Epoch 60/100\n",
            "1875/1875 [==============================] - 4s 2ms/step - loss: 2.0522 - accuracy: 0.2090 - val_loss: 1.7757 - val_accuracy: 0.1934 - lr: 0.0891\n",
            "Epoch 61/100\n",
            "1875/1875 [==============================] - 4s 2ms/step - loss: 1.7598 - accuracy: 0.1987 - val_loss: 1.7365 - val_accuracy: 0.1995 - lr: 0.1000\n",
            "Epoch 62/100\n",
            "1875/1875 [==============================] - 4s 2ms/step - loss: 1.8918 - accuracy: 0.1814 - val_loss: 1.7581 - val_accuracy: 0.1999 - lr: 0.1122\n",
            "Epoch 63/100\n",
            "1875/1875 [==============================] - 4s 2ms/step - loss: 1.9127 - accuracy: 0.1812 - val_loss: 1.7577 - val_accuracy: 0.1999 - lr: 0.1259\n",
            "Epoch 64/100\n",
            "1875/1875 [==============================] - 4s 2ms/step - loss: 1.7809 - accuracy: 0.1963 - val_loss: 1.7685 - val_accuracy: 0.1994 - lr: 0.1413\n",
            "Epoch 65/100\n",
            "1875/1875 [==============================] - 4s 2ms/step - loss: 1.8613 - accuracy: 0.1922 - val_loss: 1.7985 - val_accuracy: 0.1997 - lr: 0.1585\n",
            "Epoch 66/100\n",
            "1875/1875 [==============================] - 4s 2ms/step - loss: 1.8371 - accuracy: 0.1950 - val_loss: 1.8465 - val_accuracy: 0.1998 - lr: 0.1778\n",
            "Epoch 67/100\n",
            "1875/1875 [==============================] - 4s 2ms/step - loss: 1.8497 - accuracy: 0.1936 - val_loss: 1.8010 - val_accuracy: 0.1999 - lr: 0.1995\n",
            "Epoch 68/100\n",
            "1875/1875 [==============================] - 4s 2ms/step - loss: 1.8197 - accuracy: 0.1970 - val_loss: 1.9042 - val_accuracy: 0.1999 - lr: 0.2239\n",
            "Epoch 69/100\n",
            "1875/1875 [==============================] - 4s 2ms/step - loss: 1.8263 - accuracy: 0.1970 - val_loss: 1.8152 - val_accuracy: 0.1920 - lr: 0.2512\n",
            "Epoch 70/100\n",
            "1875/1875 [==============================] - 4s 2ms/step - loss: 1.8351 - accuracy: 0.1935 - val_loss: 1.8343 - val_accuracy: 0.1998 - lr: 0.2818\n",
            "Epoch 71/100\n",
            "1875/1875 [==============================] - 4s 2ms/step - loss: 1.8454 - accuracy: 0.1933 - val_loss: 1.8240 - val_accuracy: 0.1942 - lr: 0.3162\n",
            "Epoch 72/100\n",
            "1875/1875 [==============================] - 4s 2ms/step - loss: 1.8490 - accuracy: 0.1931 - val_loss: 1.8771 - val_accuracy: 0.1999 - lr: 0.3548\n",
            "Epoch 73/100\n",
            "1875/1875 [==============================] - 4s 2ms/step - loss: 1.8590 - accuracy: 0.1957 - val_loss: 1.8270 - val_accuracy: 0.1998 - lr: 0.3981\n",
            "Epoch 74/100\n",
            "1875/1875 [==============================] - 4s 2ms/step - loss: 1.8658 - accuracy: 0.1974 - val_loss: 1.9447 - val_accuracy: 0.1999 - lr: 0.4467\n",
            "Epoch 75/100\n",
            "1875/1875 [==============================] - 4s 2ms/step - loss: 1.8760 - accuracy: 0.1948 - val_loss: 1.9902 - val_accuracy: 0.1998 - lr: 0.5012\n",
            "Epoch 76/100\n",
            "1875/1875 [==============================] - 4s 2ms/step - loss: 1.8832 - accuracy: 0.1953 - val_loss: 1.8129 - val_accuracy: 0.1981 - lr: 0.5623\n",
            "Epoch 77/100\n",
            "1875/1875 [==============================] - 4s 2ms/step - loss: 1.9102 - accuracy: 0.1950 - val_loss: 1.8478 - val_accuracy: 0.1999 - lr: 0.6310\n",
            "Epoch 78/100\n",
            "1875/1875 [==============================] - 4s 2ms/step - loss: 1.9270 - accuracy: 0.1944 - val_loss: 1.8747 - val_accuracy: 0.1942 - lr: 0.7079\n",
            "Epoch 79/100\n",
            "1875/1875 [==============================] - 4s 2ms/step - loss: 1.9456 - accuracy: 0.1916 - val_loss: 1.8449 - val_accuracy: 0.1921 - lr: 0.7943\n",
            "Epoch 80/100\n",
            "1875/1875 [==============================] - 4s 2ms/step - loss: 1.9724 - accuracy: 0.1959 - val_loss: 1.8598 - val_accuracy: 0.1941 - lr: 0.8913\n",
            "Epoch 81/100\n",
            "1875/1875 [==============================] - 4s 2ms/step - loss: 1.9904 - accuracy: 0.1927 - val_loss: 2.1447 - val_accuracy: 0.1999 - lr: 1.0000\n",
            "Epoch 82/100\n",
            "1875/1875 [==============================] - 4s 2ms/step - loss: 2.3843 - accuracy: 0.1186 - val_loss: 2.3757 - val_accuracy: 0.1000 - lr: 1.1220\n",
            "Epoch 83/100\n",
            "1875/1875 [==============================] - 4s 2ms/step - loss: 2.4317 - accuracy: 0.0977 - val_loss: 2.4079 - val_accuracy: 0.1000 - lr: 1.2589\n",
            "Epoch 84/100\n",
            "1875/1875 [==============================] - 4s 2ms/step - loss: 2.4473 - accuracy: 0.1012 - val_loss: 2.4398 - val_accuracy: 0.1000 - lr: 1.4125\n",
            "Epoch 85/100\n",
            "1875/1875 [==============================] - 4s 2ms/step - loss: 2.4687 - accuracy: 0.0994 - val_loss: 2.5703 - val_accuracy: 0.1000 - lr: 1.5849\n",
            "Epoch 86/100\n",
            "1875/1875 [==============================] - 4s 2ms/step - loss: 2.4829 - accuracy: 0.0994 - val_loss: 2.4033 - val_accuracy: 0.1000 - lr: 1.7783\n",
            "Epoch 87/100\n",
            "1875/1875 [==============================] - 4s 2ms/step - loss: 2.4970 - accuracy: 0.0998 - val_loss: 2.4512 - val_accuracy: 0.1000 - lr: 1.9953\n",
            "Epoch 88/100\n",
            "1875/1875 [==============================] - 4s 2ms/step - loss: 2.5174 - accuracy: 0.1015 - val_loss: 2.5333 - val_accuracy: 0.1000 - lr: 2.2387\n",
            "Epoch 89/100\n",
            "1875/1875 [==============================] - 4s 2ms/step - loss: 2.5501 - accuracy: 0.1009 - val_loss: 2.4022 - val_accuracy: 0.1000 - lr: 2.5119\n",
            "Epoch 90/100\n",
            "1875/1875 [==============================] - 4s 2ms/step - loss: 2.5671 - accuracy: 0.0996 - val_loss: 2.4860 - val_accuracy: 0.1000 - lr: 2.8184\n",
            "Epoch 91/100\n",
            "1875/1875 [==============================] - 4s 2ms/step - loss: 2.6090 - accuracy: 0.1011 - val_loss: 2.5286 - val_accuracy: 0.1000 - lr: 3.1623\n",
            "Epoch 92/100\n",
            "1875/1875 [==============================] - 4s 2ms/step - loss: 2.6446 - accuracy: 0.1019 - val_loss: 2.4018 - val_accuracy: 0.1000 - lr: 3.5481\n",
            "Epoch 93/100\n",
            "1875/1875 [==============================] - 4s 2ms/step - loss: 2.6725 - accuracy: 0.0996 - val_loss: 2.6860 - val_accuracy: 0.1000 - lr: 3.9811\n",
            "Epoch 94/100\n",
            "1875/1875 [==============================] - 4s 2ms/step - loss: 2.7138 - accuracy: 0.0996 - val_loss: 2.8050 - val_accuracy: 0.1000 - lr: 4.4668\n",
            "Epoch 95/100\n",
            "1875/1875 [==============================] - 4s 2ms/step - loss: 2.7418 - accuracy: 0.0982 - val_loss: 2.5060 - val_accuracy: 0.1000 - lr: 5.0119\n",
            "Epoch 96/100\n",
            "1875/1875 [==============================] - 4s 2ms/step - loss: 2.7995 - accuracy: 0.0998 - val_loss: 2.7219 - val_accuracy: 0.1000 - lr: 5.6234\n",
            "Epoch 97/100\n",
            "1875/1875 [==============================] - 4s 2ms/step - loss: 2.8580 - accuracy: 0.0982 - val_loss: 2.8245 - val_accuracy: 0.1000 - lr: 6.3096\n",
            "Epoch 98/100\n",
            "1875/1875 [==============================] - 4s 2ms/step - loss: 2.9334 - accuracy: 0.1011 - val_loss: 2.8041 - val_accuracy: 0.1000 - lr: 7.0795\n",
            "Epoch 99/100\n",
            "1875/1875 [==============================] - 4s 2ms/step - loss: 3.0517 - accuracy: 0.0975 - val_loss: 2.7720 - val_accuracy: 0.1000 - lr: 7.9433\n",
            "Epoch 100/100\n",
            "1875/1875 [==============================] - 4s 2ms/step - loss: 3.1294 - accuracy: 0.1004 - val_loss: 2.8404 - val_accuracy: 0.1000 - lr: 8.9125\n"
          ]
        }
      ]
    },
    {
      "cell_type": "code",
      "source": [
        "plt.figure(figsize = (10,7))\n",
        "plt.semilogx(lrs,history_12.history[\"loss\"])\n",
        "plt.xlabel(\"Learning Rate\")\n",
        "plt.ylabel(\"Loss\")\n",
        "plt.title(\"Learning Rate vs Loss\")\n",
        "plt.show()"
      ],
      "metadata": {
        "id": "D-1SEMwb849y",
        "colab": {
          "base_uri": "https://localhost:8080/",
          "height": 252
        },
        "outputId": "936ff52f-bb54-4b83-c41b-43ebc07a7e95"
      },
      "execution_count": 55,
      "outputs": [
        {
          "output_type": "error",
          "ename": "NameError",
          "evalue": "ignored",
          "traceback": [
            "\u001b[0;31m---------------------------------------------------------------------------\u001b[0m",
            "\u001b[0;31mNameError\u001b[0m                                 Traceback (most recent call last)",
            "\u001b[0;32m<ipython-input-55-e3ac6b82677d>\u001b[0m in \u001b[0;36m<module>\u001b[0;34m()\u001b[0m\n\u001b[1;32m      1\u001b[0m \u001b[0mplt\u001b[0m\u001b[0;34m.\u001b[0m\u001b[0mfigure\u001b[0m\u001b[0;34m(\u001b[0m\u001b[0mfigsize\u001b[0m \u001b[0;34m=\u001b[0m \u001b[0;34m(\u001b[0m\u001b[0;36m10\u001b[0m\u001b[0;34m,\u001b[0m\u001b[0;36m7\u001b[0m\u001b[0;34m)\u001b[0m\u001b[0;34m)\u001b[0m\u001b[0;34m\u001b[0m\u001b[0;34m\u001b[0m\u001b[0m\n\u001b[0;32m----> 2\u001b[0;31m \u001b[0mplt\u001b[0m\u001b[0;34m.\u001b[0m\u001b[0msemilogx\u001b[0m\u001b[0;34m(\u001b[0m\u001b[0mlrs\u001b[0m\u001b[0;34m,\u001b[0m\u001b[0mhistory_12\u001b[0m\u001b[0;34m.\u001b[0m\u001b[0mhistory\u001b[0m\u001b[0;34m[\u001b[0m\u001b[0;34m\"loss\"\u001b[0m\u001b[0;34m]\u001b[0m\u001b[0;34m)\u001b[0m\u001b[0;34m\u001b[0m\u001b[0;34m\u001b[0m\u001b[0m\n\u001b[0m\u001b[1;32m      3\u001b[0m \u001b[0mplt\u001b[0m\u001b[0;34m.\u001b[0m\u001b[0mxlabel\u001b[0m\u001b[0;34m(\u001b[0m\u001b[0;34m\"Learning Rate\"\u001b[0m\u001b[0;34m)\u001b[0m\u001b[0;34m\u001b[0m\u001b[0;34m\u001b[0m\u001b[0m\n\u001b[1;32m      4\u001b[0m \u001b[0mplt\u001b[0m\u001b[0;34m.\u001b[0m\u001b[0mylabel\u001b[0m\u001b[0;34m(\u001b[0m\u001b[0;34m\"Loss\"\u001b[0m\u001b[0;34m)\u001b[0m\u001b[0;34m\u001b[0m\u001b[0;34m\u001b[0m\u001b[0m\n\u001b[1;32m      5\u001b[0m \u001b[0mplt\u001b[0m\u001b[0;34m.\u001b[0m\u001b[0mtitle\u001b[0m\u001b[0;34m(\u001b[0m\u001b[0;34m\"Learning Rate vs Loss\"\u001b[0m\u001b[0;34m)\u001b[0m\u001b[0;34m\u001b[0m\u001b[0;34m\u001b[0m\u001b[0m\n",
            "\u001b[0;31mNameError\u001b[0m: name 'lrs' is not defined"
          ]
        },
        {
          "output_type": "display_data",
          "data": {
            "text/plain": [
              "<Figure size 720x504 with 0 Axes>"
            ]
          },
          "metadata": {}
        }
      ]
    },
    {
      "cell_type": "code",
      "source": [
        "# 0.01 seems to be the most ideal learning rate for our model"
      ],
      "metadata": {
        "id": "uAjgV5dEOOKB"
      },
      "execution_count": 56,
      "outputs": []
    },
    {
      "cell_type": "code",
      "source": [
        "# Using learning rate = 3\n",
        "\n",
        "# Set random seed\n",
        "tf.random.set_seed(42)\n",
        "\n",
        "#1. Create a model\n",
        "model_13 = tf.keras.Sequential([\n",
        "                                tf.keras.layers.Flatten(input_shape = (28,28)),\n",
        "                                tf.keras.layers.Dense(4,activation = \"relu\"),\n",
        "                                tf.keras.layers.Dense(4,activation = \"relu\"),\n",
        "                                tf.keras.layers.Dense(10,activation=\"softmax\")\n",
        "])\n",
        "\n",
        "#2. Compile the model\n",
        "model_13.compile(loss = tf.keras.losses.SparseCategoricalCrossentropy(),\n",
        "                 optimizer = tf.keras.optimizers.Adam(learning_rate = 0.01),\n",
        "                 metrics = [\"accuracy\"])\n",
        "\n",
        "#3. Fit the model\n",
        "history_13 = model_13.fit(train_data_norm,train_labels,epochs = 100,\n",
        "                          validation_data = (test_data,test_labels))"
      ],
      "metadata": {
        "id": "AFvT9gycOHou",
        "colab": {
          "base_uri": "https://localhost:8080/"
        },
        "outputId": "7b2eb021-53a3-477c-8202-e4aeff5ecf2f"
      },
      "execution_count": 57,
      "outputs": [
        {
          "output_type": "stream",
          "name": "stdout",
          "text": [
            "Epoch 1/100\n",
            "1875/1875 [==============================] - 4s 2ms/step - loss: 1.0987 - accuracy: 0.5718 - val_loss: 330.6374 - val_accuracy: 0.3929\n",
            "Epoch 2/100\n",
            "1875/1875 [==============================] - 4s 2ms/step - loss: 0.8661 - accuracy: 0.6932 - val_loss: 228.1949 - val_accuracy: 0.4074\n",
            "Epoch 3/100\n",
            "1875/1875 [==============================] - 4s 2ms/step - loss: 0.8399 - accuracy: 0.7001 - val_loss: 251.2328 - val_accuracy: 0.3817\n",
            "Epoch 4/100\n",
            "1875/1875 [==============================] - 4s 2ms/step - loss: 0.8276 - accuracy: 0.7054 - val_loss: 263.4885 - val_accuracy: 0.3768\n",
            "Epoch 5/100\n",
            "1875/1875 [==============================] - 4s 2ms/step - loss: 0.8201 - accuracy: 0.7060 - val_loss: 283.4555 - val_accuracy: 0.3606\n",
            "Epoch 6/100\n",
            "1875/1875 [==============================] - 4s 2ms/step - loss: 0.8157 - accuracy: 0.7085 - val_loss: 268.3409 - val_accuracy: 0.3607\n",
            "Epoch 7/100\n",
            "1875/1875 [==============================] - 4s 2ms/step - loss: 0.8051 - accuracy: 0.7094 - val_loss: 343.8977 - val_accuracy: 0.2927\n",
            "Epoch 8/100\n",
            "1875/1875 [==============================] - 4s 2ms/step - loss: 0.7980 - accuracy: 0.7151 - val_loss: 273.3483 - val_accuracy: 0.2912\n",
            "Epoch 9/100\n",
            "1875/1875 [==============================] - 4s 2ms/step - loss: 0.7903 - accuracy: 0.7189 - val_loss: 254.6373 - val_accuracy: 0.2947\n",
            "Epoch 10/100\n",
            "1875/1875 [==============================] - 4s 2ms/step - loss: 0.7913 - accuracy: 0.7193 - val_loss: 232.4789 - val_accuracy: 0.3003\n",
            "Epoch 11/100\n",
            "1875/1875 [==============================] - 4s 2ms/step - loss: 0.7870 - accuracy: 0.7187 - val_loss: 342.9667 - val_accuracy: 0.2819\n",
            "Epoch 12/100\n",
            "1875/1875 [==============================] - 4s 2ms/step - loss: 0.7908 - accuracy: 0.7173 - val_loss: 309.8523 - val_accuracy: 0.2770\n",
            "Epoch 13/100\n",
            "1875/1875 [==============================] - 4s 2ms/step - loss: 0.7833 - accuracy: 0.7199 - val_loss: 282.5448 - val_accuracy: 0.3028\n",
            "Epoch 14/100\n",
            "1875/1875 [==============================] - 4s 2ms/step - loss: 0.7763 - accuracy: 0.7217 - val_loss: 375.3571 - val_accuracy: 0.2941\n",
            "Epoch 15/100\n",
            "1875/1875 [==============================] - 4s 2ms/step - loss: 0.7789 - accuracy: 0.7215 - val_loss: 338.1177 - val_accuracy: 0.3058\n",
            "Epoch 16/100\n",
            "1875/1875 [==============================] - 4s 2ms/step - loss: 0.7830 - accuracy: 0.7211 - val_loss: 438.4330 - val_accuracy: 0.3292\n",
            "Epoch 17/100\n",
            "1875/1875 [==============================] - 4s 2ms/step - loss: 0.7698 - accuracy: 0.7270 - val_loss: 342.4219 - val_accuracy: 0.3232\n",
            "Epoch 18/100\n",
            "1875/1875 [==============================] - 4s 2ms/step - loss: 0.7697 - accuracy: 0.7253 - val_loss: 424.8914 - val_accuracy: 0.3041\n",
            "Epoch 19/100\n",
            "1875/1875 [==============================] - 4s 2ms/step - loss: 0.7660 - accuracy: 0.7253 - val_loss: 369.1084 - val_accuracy: 0.3074\n",
            "Epoch 20/100\n",
            "1875/1875 [==============================] - 4s 2ms/step - loss: 0.7700 - accuracy: 0.7256 - val_loss: 356.0368 - val_accuracy: 0.3002\n",
            "Epoch 21/100\n",
            "1875/1875 [==============================] - 4s 2ms/step - loss: 0.7621 - accuracy: 0.7275 - val_loss: 362.2155 - val_accuracy: 0.3177\n",
            "Epoch 22/100\n",
            "1875/1875 [==============================] - 4s 2ms/step - loss: 0.7635 - accuracy: 0.7289 - val_loss: 434.6677 - val_accuracy: 0.3010\n",
            "Epoch 23/100\n",
            "1875/1875 [==============================] - 4s 2ms/step - loss: 0.7667 - accuracy: 0.7260 - val_loss: 371.5875 - val_accuracy: 0.3155\n",
            "Epoch 24/100\n",
            "1875/1875 [==============================] - 4s 2ms/step - loss: 0.7604 - accuracy: 0.7285 - val_loss: 369.6066 - val_accuracy: 0.3069\n",
            "Epoch 25/100\n",
            "1875/1875 [==============================] - 4s 2ms/step - loss: 0.7583 - accuracy: 0.7292 - val_loss: 403.8806 - val_accuracy: 0.3229\n",
            "Epoch 26/100\n",
            "1875/1875 [==============================] - 4s 2ms/step - loss: 0.7601 - accuracy: 0.7284 - val_loss: 424.6616 - val_accuracy: 0.3285\n",
            "Epoch 27/100\n",
            "1875/1875 [==============================] - 4s 2ms/step - loss: 0.7569 - accuracy: 0.7301 - val_loss: 443.0128 - val_accuracy: 0.3095\n",
            "Epoch 28/100\n",
            "1875/1875 [==============================] - 4s 2ms/step - loss: 0.7550 - accuracy: 0.7314 - val_loss: 367.8002 - val_accuracy: 0.3210\n",
            "Epoch 29/100\n",
            "1875/1875 [==============================] - 4s 2ms/step - loss: 0.7552 - accuracy: 0.7313 - val_loss: 420.4307 - val_accuracy: 0.3020\n",
            "Epoch 30/100\n",
            "1875/1875 [==============================] - 4s 2ms/step - loss: 0.7536 - accuracy: 0.7309 - val_loss: 461.6425 - val_accuracy: 0.2932\n",
            "Epoch 31/100\n",
            "1875/1875 [==============================] - 4s 2ms/step - loss: 0.7523 - accuracy: 0.7317 - val_loss: 448.9644 - val_accuracy: 0.3210\n",
            "Epoch 32/100\n",
            "1875/1875 [==============================] - 4s 2ms/step - loss: 0.7505 - accuracy: 0.7338 - val_loss: 341.2230 - val_accuracy: 0.2922\n",
            "Epoch 33/100\n",
            "1875/1875 [==============================] - 4s 2ms/step - loss: 0.7535 - accuracy: 0.7310 - val_loss: 457.2765 - val_accuracy: 0.3281\n",
            "Epoch 34/100\n",
            "1875/1875 [==============================] - 4s 2ms/step - loss: 0.7540 - accuracy: 0.7325 - val_loss: 436.5418 - val_accuracy: 0.3080\n",
            "Epoch 35/100\n",
            "1875/1875 [==============================] - 4s 2ms/step - loss: 0.7466 - accuracy: 0.7337 - val_loss: 381.0395 - val_accuracy: 0.3108\n",
            "Epoch 36/100\n",
            "1875/1875 [==============================] - 4s 2ms/step - loss: 0.7491 - accuracy: 0.7336 - val_loss: 349.3907 - val_accuracy: 0.3288\n",
            "Epoch 37/100\n",
            "1875/1875 [==============================] - 4s 2ms/step - loss: 0.7520 - accuracy: 0.7319 - val_loss: 428.4123 - val_accuracy: 0.2879\n",
            "Epoch 38/100\n",
            "1875/1875 [==============================] - 4s 2ms/step - loss: 0.7493 - accuracy: 0.7328 - val_loss: 377.8319 - val_accuracy: 0.3045\n",
            "Epoch 39/100\n",
            "1875/1875 [==============================] - 4s 2ms/step - loss: 0.7487 - accuracy: 0.7344 - val_loss: 441.1335 - val_accuracy: 0.2902\n",
            "Epoch 40/100\n",
            "1875/1875 [==============================] - 4s 2ms/step - loss: 0.7452 - accuracy: 0.7342 - val_loss: 382.7915 - val_accuracy: 0.3078\n",
            "Epoch 41/100\n",
            "1875/1875 [==============================] - 4s 2ms/step - loss: 0.7519 - accuracy: 0.7306 - val_loss: 397.9255 - val_accuracy: 0.3004\n",
            "Epoch 42/100\n",
            "1875/1875 [==============================] - 4s 2ms/step - loss: 0.7479 - accuracy: 0.7324 - val_loss: 337.9116 - val_accuracy: 0.3271\n",
            "Epoch 43/100\n",
            "1875/1875 [==============================] - 4s 2ms/step - loss: 0.7466 - accuracy: 0.7326 - val_loss: 338.0222 - val_accuracy: 0.3143\n",
            "Epoch 44/100\n",
            "1875/1875 [==============================] - 4s 2ms/step - loss: 0.7508 - accuracy: 0.7326 - val_loss: 428.0842 - val_accuracy: 0.2989\n",
            "Epoch 45/100\n",
            "1875/1875 [==============================] - 4s 2ms/step - loss: 0.7481 - accuracy: 0.7313 - val_loss: 354.5161 - val_accuracy: 0.3437\n",
            "Epoch 46/100\n",
            "1875/1875 [==============================] - 4s 2ms/step - loss: 0.7474 - accuracy: 0.7335 - val_loss: 366.3142 - val_accuracy: 0.2992\n",
            "Epoch 47/100\n",
            "1875/1875 [==============================] - 4s 2ms/step - loss: 0.7457 - accuracy: 0.7314 - val_loss: 382.4379 - val_accuracy: 0.3048\n",
            "Epoch 48/100\n",
            "1875/1875 [==============================] - 4s 2ms/step - loss: 0.7487 - accuracy: 0.7318 - val_loss: 343.8564 - val_accuracy: 0.3031\n",
            "Epoch 49/100\n",
            "1875/1875 [==============================] - 4s 2ms/step - loss: 0.7454 - accuracy: 0.7333 - val_loss: 360.6323 - val_accuracy: 0.3857\n",
            "Epoch 50/100\n",
            "1875/1875 [==============================] - 4s 2ms/step - loss: 0.7419 - accuracy: 0.7349 - val_loss: 370.0296 - val_accuracy: 0.3180\n",
            "Epoch 51/100\n",
            "1875/1875 [==============================] - 4s 2ms/step - loss: 0.7435 - accuracy: 0.7335 - val_loss: 378.6890 - val_accuracy: 0.2936\n",
            "Epoch 52/100\n",
            "1875/1875 [==============================] - 4s 2ms/step - loss: 0.7479 - accuracy: 0.7310 - val_loss: 345.4731 - val_accuracy: 0.3072\n",
            "Epoch 53/100\n",
            "1875/1875 [==============================] - 4s 2ms/step - loss: 0.7477 - accuracy: 0.7316 - val_loss: 325.3530 - val_accuracy: 0.3525\n",
            "Epoch 54/100\n",
            "1875/1875 [==============================] - 4s 2ms/step - loss: 0.7460 - accuracy: 0.7344 - val_loss: 404.1650 - val_accuracy: 0.2901\n",
            "Epoch 55/100\n",
            "1875/1875 [==============================] - 4s 2ms/step - loss: 0.7451 - accuracy: 0.7315 - val_loss: 334.3129 - val_accuracy: 0.3186\n",
            "Epoch 56/100\n",
            "1875/1875 [==============================] - 4s 2ms/step - loss: 0.7417 - accuracy: 0.7335 - val_loss: 383.9005 - val_accuracy: 0.3012\n",
            "Epoch 57/100\n",
            "1875/1875 [==============================] - 4s 2ms/step - loss: 0.7476 - accuracy: 0.7328 - val_loss: 366.5369 - val_accuracy: 0.2928\n",
            "Epoch 58/100\n",
            "1875/1875 [==============================] - 4s 2ms/step - loss: 0.7445 - accuracy: 0.7310 - val_loss: 289.6584 - val_accuracy: 0.3919\n",
            "Epoch 59/100\n",
            "1875/1875 [==============================] - 4s 2ms/step - loss: 0.7413 - accuracy: 0.7345 - val_loss: 381.1981 - val_accuracy: 0.3109\n",
            "Epoch 60/100\n",
            "1875/1875 [==============================] - 4s 2ms/step - loss: 0.7392 - accuracy: 0.7342 - val_loss: 336.5613 - val_accuracy: 0.3704\n",
            "Epoch 61/100\n",
            "1875/1875 [==============================] - 4s 2ms/step - loss: 0.7438 - accuracy: 0.7321 - val_loss: 311.3151 - val_accuracy: 0.3504\n",
            "Epoch 62/100\n",
            "1875/1875 [==============================] - 4s 2ms/step - loss: 0.7446 - accuracy: 0.7329 - val_loss: 296.8102 - val_accuracy: 0.3638\n",
            "Epoch 63/100\n",
            "1875/1875 [==============================] - 4s 2ms/step - loss: 0.7426 - accuracy: 0.7338 - val_loss: 359.4391 - val_accuracy: 0.3625\n",
            "Epoch 64/100\n",
            "1875/1875 [==============================] - 4s 2ms/step - loss: 0.7415 - accuracy: 0.7329 - val_loss: 314.6463 - val_accuracy: 0.3302\n",
            "Epoch 65/100\n",
            "1875/1875 [==============================] - 4s 2ms/step - loss: 0.7424 - accuracy: 0.7329 - val_loss: 346.1500 - val_accuracy: 0.3306\n",
            "Epoch 66/100\n",
            "1875/1875 [==============================] - 4s 2ms/step - loss: 0.7427 - accuracy: 0.7318 - val_loss: 317.6475 - val_accuracy: 0.3529\n",
            "Epoch 67/100\n",
            "1875/1875 [==============================] - 4s 2ms/step - loss: 0.7391 - accuracy: 0.7343 - val_loss: 334.9249 - val_accuracy: 0.3435\n",
            "Epoch 68/100\n",
            "1875/1875 [==============================] - 4s 2ms/step - loss: 0.7396 - accuracy: 0.7335 - val_loss: 338.5573 - val_accuracy: 0.3347\n",
            "Epoch 69/100\n",
            "1875/1875 [==============================] - 4s 2ms/step - loss: 0.7382 - accuracy: 0.7328 - val_loss: 363.8080 - val_accuracy: 0.3653\n",
            "Epoch 70/100\n",
            "1875/1875 [==============================] - 4s 2ms/step - loss: 0.7358 - accuracy: 0.7356 - val_loss: 313.7260 - val_accuracy: 0.3247\n",
            "Epoch 71/100\n",
            "1875/1875 [==============================] - 4s 2ms/step - loss: 0.7439 - accuracy: 0.7326 - val_loss: 310.3149 - val_accuracy: 0.3717\n",
            "Epoch 72/100\n",
            "1875/1875 [==============================] - 4s 2ms/step - loss: 0.7379 - accuracy: 0.7336 - val_loss: 360.5330 - val_accuracy: 0.3266\n",
            "Epoch 73/100\n",
            "1875/1875 [==============================] - 4s 2ms/step - loss: 0.7401 - accuracy: 0.7339 - val_loss: 313.6411 - val_accuracy: 0.3674\n",
            "Epoch 74/100\n",
            "1875/1875 [==============================] - 4s 2ms/step - loss: 0.7385 - accuracy: 0.7341 - val_loss: 320.6561 - val_accuracy: 0.3791\n",
            "Epoch 75/100\n",
            "1875/1875 [==============================] - 4s 2ms/step - loss: 0.7378 - accuracy: 0.7349 - val_loss: 405.9323 - val_accuracy: 0.3247\n",
            "Epoch 76/100\n",
            "1875/1875 [==============================] - 4s 2ms/step - loss: 0.7368 - accuracy: 0.7348 - val_loss: 326.7678 - val_accuracy: 0.3150\n",
            "Epoch 77/100\n",
            "1875/1875 [==============================] - 4s 2ms/step - loss: 0.7433 - accuracy: 0.7337 - val_loss: 323.4750 - val_accuracy: 0.3592\n",
            "Epoch 78/100\n",
            "1875/1875 [==============================] - 4s 2ms/step - loss: 0.7393 - accuracy: 0.7351 - val_loss: 362.2545 - val_accuracy: 0.3195\n",
            "Epoch 79/100\n",
            "1875/1875 [==============================] - 4s 2ms/step - loss: 0.7358 - accuracy: 0.7350 - val_loss: 342.0296 - val_accuracy: 0.3422\n",
            "Epoch 80/100\n",
            "1875/1875 [==============================] - 4s 2ms/step - loss: 0.7377 - accuracy: 0.7349 - val_loss: 306.2908 - val_accuracy: 0.3055\n",
            "Epoch 81/100\n",
            "1875/1875 [==============================] - 4s 2ms/step - loss: 0.7349 - accuracy: 0.7361 - val_loss: 359.7932 - val_accuracy: 0.3224\n",
            "Epoch 82/100\n",
            "1875/1875 [==============================] - 4s 2ms/step - loss: 0.7413 - accuracy: 0.7333 - val_loss: 307.3953 - val_accuracy: 0.3754\n",
            "Epoch 83/100\n",
            "1875/1875 [==============================] - 4s 2ms/step - loss: 0.7354 - accuracy: 0.7353 - val_loss: 340.6214 - val_accuracy: 0.3420\n",
            "Epoch 84/100\n",
            "1875/1875 [==============================] - 4s 2ms/step - loss: 0.7375 - accuracy: 0.7343 - val_loss: 365.0442 - val_accuracy: 0.3214\n",
            "Epoch 85/100\n",
            "1875/1875 [==============================] - 4s 2ms/step - loss: 0.7351 - accuracy: 0.7350 - val_loss: 355.2662 - val_accuracy: 0.3154\n",
            "Epoch 86/100\n",
            "1875/1875 [==============================] - 4s 2ms/step - loss: 0.7374 - accuracy: 0.7347 - val_loss: 386.5312 - val_accuracy: 0.3130\n",
            "Epoch 87/100\n",
            "1875/1875 [==============================] - 4s 2ms/step - loss: 0.7350 - accuracy: 0.7356 - val_loss: 391.6113 - val_accuracy: 0.2990\n",
            "Epoch 88/100\n",
            "1875/1875 [==============================] - 4s 2ms/step - loss: 0.7370 - accuracy: 0.7341 - val_loss: 314.3214 - val_accuracy: 0.3594\n",
            "Epoch 89/100\n",
            "1875/1875 [==============================] - 4s 2ms/step - loss: 0.7387 - accuracy: 0.7350 - val_loss: 359.4504 - val_accuracy: 0.3777\n",
            "Epoch 90/100\n",
            "1875/1875 [==============================] - 4s 2ms/step - loss: 0.7355 - accuracy: 0.7355 - val_loss: 313.2878 - val_accuracy: 0.3750\n",
            "Epoch 91/100\n",
            "1875/1875 [==============================] - 4s 2ms/step - loss: 0.7409 - accuracy: 0.7311 - val_loss: 305.1413 - val_accuracy: 0.3649\n",
            "Epoch 92/100\n",
            "1875/1875 [==============================] - 4s 2ms/step - loss: 0.7390 - accuracy: 0.7344 - val_loss: 387.3500 - val_accuracy: 0.3349\n",
            "Epoch 93/100\n",
            "1875/1875 [==============================] - 4s 2ms/step - loss: 0.7330 - accuracy: 0.7367 - val_loss: 341.0883 - val_accuracy: 0.3431\n",
            "Epoch 94/100\n",
            "1875/1875 [==============================] - 4s 2ms/step - loss: 0.7370 - accuracy: 0.7344 - val_loss: 350.8250 - val_accuracy: 0.3332\n",
            "Epoch 95/100\n",
            "1875/1875 [==============================] - 4s 2ms/step - loss: 0.7389 - accuracy: 0.7340 - val_loss: 328.8285 - val_accuracy: 0.3379\n",
            "Epoch 96/100\n",
            "1875/1875 [==============================] - 4s 2ms/step - loss: 0.7361 - accuracy: 0.7335 - val_loss: 333.8010 - val_accuracy: 0.3390\n",
            "Epoch 97/100\n",
            "1875/1875 [==============================] - 4s 2ms/step - loss: 0.7358 - accuracy: 0.7350 - val_loss: 327.2129 - val_accuracy: 0.3175\n",
            "Epoch 98/100\n",
            "1875/1875 [==============================] - 4s 2ms/step - loss: 0.7375 - accuracy: 0.7334 - val_loss: 323.5372 - val_accuracy: 0.3371\n",
            "Epoch 99/100\n",
            "1875/1875 [==============================] - 4s 2ms/step - loss: 0.7324 - accuracy: 0.7376 - val_loss: 338.6772 - val_accuracy: 0.3311\n",
            "Epoch 100/100\n",
            "1875/1875 [==============================] - 4s 2ms/step - loss: 0.7379 - accuracy: 0.7351 - val_loss: 375.3146 - val_accuracy: 0.2892\n"
          ]
        }
      ]
    },
    {
      "cell_type": "code",
      "source": [
        "model_13.evaluate(test_data_norm,test_labels)"
      ],
      "metadata": {
        "id": "CsCG4rQoOHsF",
        "colab": {
          "base_uri": "https://localhost:8080/"
        },
        "outputId": "e810f9aa-d94e-4c44-cbb3-4a941e39d19b"
      },
      "execution_count": 58,
      "outputs": [
        {
          "output_type": "stream",
          "name": "stdout",
          "text": [
            "313/313 [==============================] - 1s 2ms/step - loss: 0.7839 - accuracy: 0.7249\n"
          ]
        },
        {
          "output_type": "execute_result",
          "data": {
            "text/plain": [
              "[0.7839156985282898, 0.7249000072479248]"
            ]
          },
          "metadata": {},
          "execution_count": 58
        }
      ]
    },
    {
      "cell_type": "code",
      "source": [
        "# This learning rate is giving us inferior results\n",
        "\n"
      ],
      "metadata": {
        "id": "_0WWM3K9OHvc"
      },
      "execution_count": null,
      "outputs": []
    },
    {
      "cell_type": "code",
      "source": [
        "# Plot the loss curve\n",
        "\n",
        "pd.DataFrame(history_13.history).plot()\n",
        "plt.xlabel(\"Epochs\")\n",
        "plt.ylabel(\"Loss / Accuracy\")\n",
        "plt.title(\"Loss Curve\")\n",
        "plt.show()"
      ],
      "metadata": {
        "id": "ZxJJdK9AOHyV",
        "colab": {
          "base_uri": "https://localhost:8080/",
          "height": 295
        },
        "outputId": "a2e9856c-20cf-426a-c760-36d332da863e"
      },
      "execution_count": 59,
      "outputs": [
        {
          "output_type": "display_data",
          "data": {
            "image/png": "[encoded data removed]",
            "text/plain": [
              "<Figure size 432x288 with 1 Axes>"
            ]
          },
          "metadata": {
            "needs_background": "light"
          }
        }
      ]
    },
    {
      "cell_type": "markdown",
      "source": [
        "### Note : To find the ideal learning rate using loss curve -- >\n",
        "### Find the lowest point on the curve and go back a little bit\n",
        "### 0.001 would be the best learning rate here "
      ],
      "metadata": {
        "id": "JqbnpyQHOH1a"
      }
    },
    {
      "cell_type": "code",
      "source": [
        "# Set random seed\n",
        "tf.random.set_seed(42)\n",
        "\n",
        "#1. Create a model\n",
        "model_13 = tf.keras.Sequential([\n",
        "                                tf.keras.layers.Flatten(input_shape = (28,28)),\n",
        "                                tf.keras.layers.Dense(4,activation = \"relu\"),\n",
        "                                tf.keras.layers.Dense(4,activation = \"relu\"),\n",
        "                                tf.keras.layers.Dense(10,activation=\"softmax\")\n",
        "])\n",
        "\n",
        "#2. Compile the model\n",
        "model_13.compile(loss = tf.keras.losses.SparseCategoricalCrossentropy(),\n",
        "                 optimizer = tf.keras.optimizers.Adam(learning_rate = 0.001),\n",
        "                 metrics = [\"accuracy\"])\n",
        "\n",
        "#3. Fit the model\n",
        "history_13 = model_13.fit(train_data_norm,train_labels,epochs = 100,\n",
        "                          validation_data = (test_data,test_labels))"
      ],
      "metadata": {
        "id": "Ih6oO6IdOH4w",
        "colab": {
          "base_uri": "https://localhost:8080/"
        },
        "outputId": "3f0acde9-4c77-4dab-9173-28691e2d79a2"
      },
      "execution_count": 60,
      "outputs": [
        {
          "output_type": "stream",
          "name": "stdout",
          "text": [
            "Epoch 1/100\n",
            "1875/1875 [==============================] - 5s 2ms/step - loss: 1.0348 - accuracy: 0.6474 - val_loss: 99.9192 - val_accuracy: 0.7298\n",
            "Epoch 2/100\n",
            "1875/1875 [==============================] - 4s 2ms/step - loss: 0.6376 - accuracy: 0.7757 - val_loss: 108.3327 - val_accuracy: 0.7341\n",
            "Epoch 3/100\n",
            "1875/1875 [==============================] - 4s 2ms/step - loss: 0.5942 - accuracy: 0.7914 - val_loss: 102.6736 - val_accuracy: 0.7373\n",
            "Epoch 4/100\n",
            "1875/1875 [==============================] - 4s 2ms/step - loss: 0.5750 - accuracy: 0.7979 - val_loss: 132.9137 - val_accuracy: 0.7042\n",
            "Epoch 5/100\n",
            "1875/1875 [==============================] - 4s 2ms/step - loss: 0.5641 - accuracy: 0.8006 - val_loss: 150.7092 - val_accuracy: 0.7028\n",
            "Epoch 6/100\n",
            "1875/1875 [==============================] - 4s 2ms/step - loss: 0.5544 - accuracy: 0.8043 - val_loss: 126.4341 - val_accuracy: 0.7159\n",
            "Epoch 7/100\n",
            "1875/1875 [==============================] - 4s 2ms/step - loss: 0.5488 - accuracy: 0.8063 - val_loss: 118.1339 - val_accuracy: 0.7253\n",
            "Epoch 8/100\n",
            "1875/1875 [==============================] - 4s 2ms/step - loss: 0.5428 - accuracy: 0.8077 - val_loss: 128.4487 - val_accuracy: 0.7156\n",
            "Epoch 9/100\n",
            "1875/1875 [==============================] - 4s 2ms/step - loss: 0.5373 - accuracy: 0.8097 - val_loss: 142.0318 - val_accuracy: 0.7063\n",
            "Epoch 10/100\n",
            "1875/1875 [==============================] - 4s 2ms/step - loss: 0.5360 - accuracy: 0.8124 - val_loss: 143.8324 - val_accuracy: 0.7031\n",
            "Epoch 11/100\n",
            "1875/1875 [==============================] - 4s 2ms/step - loss: 0.5311 - accuracy: 0.8130 - val_loss: 174.8288 - val_accuracy: 0.6772\n",
            "Epoch 12/100\n",
            "1875/1875 [==============================] - 4s 2ms/step - loss: 0.5284 - accuracy: 0.8132 - val_loss: 149.2593 - val_accuracy: 0.6997\n",
            "Epoch 13/100\n",
            "1875/1875 [==============================] - 4s 2ms/step - loss: 0.5271 - accuracy: 0.8138 - val_loss: 166.9203 - val_accuracy: 0.6894\n",
            "Epoch 14/100\n",
            "1875/1875 [==============================] - 4s 2ms/step - loss: 0.5249 - accuracy: 0.8143 - val_loss: 188.7202 - val_accuracy: 0.6688\n",
            "Epoch 15/100\n",
            "1875/1875 [==============================] - 4s 2ms/step - loss: 0.5231 - accuracy: 0.8148 - val_loss: 160.5306 - val_accuracy: 0.6960\n",
            "Epoch 16/100\n",
            "1875/1875 [==============================] - 4s 2ms/step - loss: 0.5203 - accuracy: 0.8162 - val_loss: 187.3448 - val_accuracy: 0.6711\n",
            "Epoch 17/100\n",
            "1875/1875 [==============================] - 7s 4ms/step - loss: 0.5191 - accuracy: 0.8176 - val_loss: 166.1718 - val_accuracy: 0.6824\n",
            "Epoch 18/100\n",
            "1875/1875 [==============================] - 9s 5ms/step - loss: 0.5176 - accuracy: 0.8157 - val_loss: 171.1102 - val_accuracy: 0.6829\n",
            "Epoch 19/100\n",
            "1875/1875 [==============================] - 6s 3ms/step - loss: 0.5156 - accuracy: 0.8169 - val_loss: 171.6432 - val_accuracy: 0.6724\n",
            "Epoch 20/100\n",
            "1875/1875 [==============================] - 7s 4ms/step - loss: 0.5146 - accuracy: 0.8177 - val_loss: 186.8307 - val_accuracy: 0.6690\n",
            "Epoch 21/100\n",
            "1875/1875 [==============================] - 6s 3ms/step - loss: 0.5125 - accuracy: 0.8197 - val_loss: 186.0813 - val_accuracy: 0.6752\n",
            "Epoch 22/100\n",
            "1875/1875 [==============================] - 6s 3ms/step - loss: 0.5112 - accuracy: 0.8180 - val_loss: 181.5503 - val_accuracy: 0.6741\n",
            "Epoch 23/100\n",
            "1875/1875 [==============================] - 5s 3ms/step - loss: 0.5105 - accuracy: 0.8195 - val_loss: 174.1076 - val_accuracy: 0.6777\n",
            "Epoch 24/100\n",
            "1875/1875 [==============================] - 6s 3ms/step - loss: 0.5101 - accuracy: 0.8177 - val_loss: 167.0936 - val_accuracy: 0.6924\n",
            "Epoch 25/100\n",
            "1875/1875 [==============================] - 7s 4ms/step - loss: 0.5075 - accuracy: 0.8196 - val_loss: 155.6114 - val_accuracy: 0.7030\n",
            "Epoch 26/100\n",
            "1875/1875 [==============================] - 6s 3ms/step - loss: 0.5081 - accuracy: 0.8192 - val_loss: 174.6200 - val_accuracy: 0.6755\n",
            "Epoch 27/100\n",
            "1875/1875 [==============================] - 6s 3ms/step - loss: 0.5058 - accuracy: 0.8206 - val_loss: 177.1975 - val_accuracy: 0.6824\n",
            "Epoch 28/100\n",
            "1875/1875 [==============================] - 6s 3ms/step - loss: 0.5052 - accuracy: 0.8206 - val_loss: 178.4797 - val_accuracy: 0.6765\n",
            "Epoch 29/100\n",
            "1875/1875 [==============================] - 5s 3ms/step - loss: 0.5050 - accuracy: 0.8205 - val_loss: 195.8401 - val_accuracy: 0.6664\n",
            "Epoch 30/100\n",
            "1875/1875 [==============================] - 6s 3ms/step - loss: 0.5024 - accuracy: 0.8213 - val_loss: 185.9312 - val_accuracy: 0.6815\n",
            "Epoch 31/100\n",
            "1875/1875 [==============================] - 7s 3ms/step - loss: 0.5029 - accuracy: 0.8215 - val_loss: 199.6143 - val_accuracy: 0.6532\n",
            "Epoch 32/100\n",
            "1875/1875 [==============================] - 6s 3ms/step - loss: 0.5012 - accuracy: 0.8204 - val_loss: 189.2634 - val_accuracy: 0.6743\n",
            "Epoch 33/100\n",
            "1875/1875 [==============================] - 5s 2ms/step - loss: 0.4998 - accuracy: 0.8219 - val_loss: 208.6848 - val_accuracy: 0.6533\n",
            "Epoch 34/100\n",
            "1875/1875 [==============================] - 4s 2ms/step - loss: 0.4996 - accuracy: 0.8222 - val_loss: 166.7242 - val_accuracy: 0.6898\n",
            "Epoch 35/100\n",
            "1875/1875 [==============================] - 6s 3ms/step - loss: 0.4980 - accuracy: 0.8237 - val_loss: 173.4538 - val_accuracy: 0.6877\n",
            "Epoch 36/100\n",
            "1875/1875 [==============================] - 8s 4ms/step - loss: 0.4959 - accuracy: 0.8245 - val_loss: 160.9004 - val_accuracy: 0.6997\n",
            "Epoch 37/100\n",
            "1875/1875 [==============================] - 8s 4ms/step - loss: 0.4961 - accuracy: 0.8236 - val_loss: 155.9151 - val_accuracy: 0.7058\n",
            "Epoch 38/100\n",
            "1875/1875 [==============================] - 8s 4ms/step - loss: 0.4948 - accuracy: 0.8248 - val_loss: 159.5550 - val_accuracy: 0.6948\n",
            "Epoch 39/100\n",
            "1875/1875 [==============================] - 7s 4ms/step - loss: 0.4942 - accuracy: 0.8242 - val_loss: 161.3719 - val_accuracy: 0.6865\n",
            "Epoch 40/100\n",
            "1875/1875 [==============================] - 7s 4ms/step - loss: 0.4926 - accuracy: 0.8248 - val_loss: 156.4863 - val_accuracy: 0.6924\n",
            "Epoch 41/100\n",
            "1875/1875 [==============================] - 6s 3ms/step - loss: 0.4923 - accuracy: 0.8246 - val_loss: 158.5347 - val_accuracy: 0.6952\n",
            "Epoch 42/100\n",
            "1875/1875 [==============================] - 6s 3ms/step - loss: 0.4920 - accuracy: 0.8244 - val_loss: 177.7050 - val_accuracy: 0.6792\n",
            "Epoch 43/100\n",
            "1875/1875 [==============================] - 7s 4ms/step - loss: 0.4912 - accuracy: 0.8250 - val_loss: 185.9375 - val_accuracy: 0.6744\n",
            "Epoch 44/100\n",
            "1875/1875 [==============================] - 6s 3ms/step - loss: 0.4905 - accuracy: 0.8268 - val_loss: 166.9557 - val_accuracy: 0.6917\n",
            "Epoch 45/100\n",
            "1875/1875 [==============================] - 6s 3ms/step - loss: 0.4899 - accuracy: 0.8261 - val_loss: 166.4123 - val_accuracy: 0.6929\n",
            "Epoch 46/100\n",
            "1875/1875 [==============================] - 4s 2ms/step - loss: 0.4887 - accuracy: 0.8257 - val_loss: 159.6804 - val_accuracy: 0.7045\n",
            "Epoch 47/100\n",
            "1875/1875 [==============================] - 4s 2ms/step - loss: 0.4874 - accuracy: 0.8263 - val_loss: 170.3319 - val_accuracy: 0.6858\n",
            "Epoch 48/100\n",
            "1875/1875 [==============================] - 4s 2ms/step - loss: 0.4874 - accuracy: 0.8267 - val_loss: 155.4318 - val_accuracy: 0.7043\n",
            "Epoch 49/100\n",
            "1875/1875 [==============================] - 4s 2ms/step - loss: 0.4873 - accuracy: 0.8260 - val_loss: 161.7319 - val_accuracy: 0.6944\n",
            "Epoch 50/100\n",
            "1875/1875 [==============================] - 4s 2ms/step - loss: 0.4865 - accuracy: 0.8274 - val_loss: 177.1113 - val_accuracy: 0.6825\n",
            "Epoch 51/100\n",
            "1875/1875 [==============================] - 4s 2ms/step - loss: 0.4852 - accuracy: 0.8279 - val_loss: 177.5095 - val_accuracy: 0.6793\n",
            "Epoch 52/100\n",
            "1875/1875 [==============================] - 4s 2ms/step - loss: 0.4850 - accuracy: 0.8284 - val_loss: 179.0222 - val_accuracy: 0.6740\n",
            "Epoch 53/100\n",
            "1875/1875 [==============================] - 4s 2ms/step - loss: 0.4847 - accuracy: 0.8276 - val_loss: 166.6105 - val_accuracy: 0.6879\n",
            "Epoch 54/100\n",
            "1875/1875 [==============================] - 5s 3ms/step - loss: 0.4844 - accuracy: 0.8299 - val_loss: 178.0582 - val_accuracy: 0.6795\n",
            "Epoch 55/100\n",
            "1875/1875 [==============================] - 4s 2ms/step - loss: 0.4837 - accuracy: 0.8293 - val_loss: 159.1731 - val_accuracy: 0.6997\n",
            "Epoch 56/100\n",
            "1875/1875 [==============================] - 4s 2ms/step - loss: 0.4830 - accuracy: 0.8279 - val_loss: 160.9583 - val_accuracy: 0.6939\n",
            "Epoch 57/100\n",
            "1875/1875 [==============================] - 4s 2ms/step - loss: 0.4823 - accuracy: 0.8267 - val_loss: 172.1648 - val_accuracy: 0.6920\n",
            "Epoch 58/100\n",
            "1875/1875 [==============================] - 4s 2ms/step - loss: 0.4832 - accuracy: 0.8279 - val_loss: 157.9717 - val_accuracy: 0.6960\n",
            "Epoch 59/100\n",
            "1875/1875 [==============================] - 4s 2ms/step - loss: 0.4806 - accuracy: 0.8290 - val_loss: 194.3835 - val_accuracy: 0.6685\n",
            "Epoch 60/100\n",
            "1875/1875 [==============================] - 4s 2ms/step - loss: 0.4815 - accuracy: 0.8283 - val_loss: 164.5902 - val_accuracy: 0.6905\n",
            "Epoch 61/100\n",
            "1875/1875 [==============================] - 4s 2ms/step - loss: 0.4812 - accuracy: 0.8299 - val_loss: 179.0744 - val_accuracy: 0.6783\n",
            "Epoch 62/100\n",
            "1875/1875 [==============================] - 8s 4ms/step - loss: 0.4811 - accuracy: 0.8293 - val_loss: 160.5554 - val_accuracy: 0.6947\n",
            "Epoch 63/100\n",
            "1875/1875 [==============================] - 6s 3ms/step - loss: 0.4808 - accuracy: 0.8286 - val_loss: 162.4158 - val_accuracy: 0.6908\n",
            "Epoch 64/100\n",
            "1875/1875 [==============================] - 4s 2ms/step - loss: 0.4793 - accuracy: 0.8285 - val_loss: 164.8009 - val_accuracy: 0.6914\n",
            "Epoch 65/100\n",
            "1875/1875 [==============================] - 5s 3ms/step - loss: 0.4780 - accuracy: 0.8303 - val_loss: 175.6317 - val_accuracy: 0.6800\n",
            "Epoch 66/100\n",
            "1875/1875 [==============================] - 4s 2ms/step - loss: 0.4796 - accuracy: 0.8294 - val_loss: 169.6549 - val_accuracy: 0.6938\n",
            "Epoch 67/100\n",
            "1875/1875 [==============================] - 4s 2ms/step - loss: 0.4790 - accuracy: 0.8302 - val_loss: 149.8299 - val_accuracy: 0.7084\n",
            "Epoch 68/100\n",
            "1875/1875 [==============================] - 4s 2ms/step - loss: 0.4778 - accuracy: 0.8296 - val_loss: 140.7343 - val_accuracy: 0.7185\n",
            "Epoch 69/100\n",
            "1875/1875 [==============================] - 4s 2ms/step - loss: 0.4773 - accuracy: 0.8290 - val_loss: 186.2484 - val_accuracy: 0.6805\n",
            "Epoch 70/100\n",
            "1875/1875 [==============================] - 4s 2ms/step - loss: 0.4783 - accuracy: 0.8289 - val_loss: 188.2869 - val_accuracy: 0.6763\n",
            "Epoch 71/100\n",
            "1875/1875 [==============================] - 4s 2ms/step - loss: 0.4773 - accuracy: 0.8305 - val_loss: 172.0484 - val_accuracy: 0.6874\n",
            "Epoch 72/100\n",
            "1875/1875 [==============================] - 4s 2ms/step - loss: 0.4764 - accuracy: 0.8303 - val_loss: 189.1125 - val_accuracy: 0.6830\n",
            "Epoch 73/100\n",
            "1875/1875 [==============================] - 4s 2ms/step - loss: 0.4761 - accuracy: 0.8305 - val_loss: 145.7563 - val_accuracy: 0.7127\n",
            "Epoch 74/100\n",
            "1875/1875 [==============================] - 4s 2ms/step - loss: 0.4763 - accuracy: 0.8311 - val_loss: 164.9658 - val_accuracy: 0.6973\n",
            "Epoch 75/100\n",
            "1875/1875 [==============================] - 4s 2ms/step - loss: 0.4759 - accuracy: 0.8307 - val_loss: 160.8854 - val_accuracy: 0.6930\n",
            "Epoch 76/100\n",
            "1875/1875 [==============================] - 4s 2ms/step - loss: 0.4756 - accuracy: 0.8302 - val_loss: 187.4746 - val_accuracy: 0.6793\n",
            "Epoch 77/100\n",
            "1875/1875 [==============================] - 4s 2ms/step - loss: 0.4774 - accuracy: 0.8294 - val_loss: 159.6449 - val_accuracy: 0.6970\n",
            "Epoch 78/100\n",
            "1875/1875 [==============================] - 4s 2ms/step - loss: 0.4753 - accuracy: 0.8305 - val_loss: 168.5563 - val_accuracy: 0.6947\n",
            "Epoch 79/100\n",
            "1875/1875 [==============================] - 4s 2ms/step - loss: 0.4747 - accuracy: 0.8317 - val_loss: 161.0338 - val_accuracy: 0.6951\n",
            "Epoch 80/100\n",
            "1875/1875 [==============================] - 4s 2ms/step - loss: 0.4744 - accuracy: 0.8306 - val_loss: 163.2781 - val_accuracy: 0.6906\n",
            "Epoch 81/100\n",
            "1875/1875 [==============================] - 5s 3ms/step - loss: 0.4743 - accuracy: 0.8321 - val_loss: 149.3358 - val_accuracy: 0.7117\n",
            "Epoch 82/100\n",
            "1875/1875 [==============================] - 8s 4ms/step - loss: 0.4746 - accuracy: 0.8310 - val_loss: 149.0851 - val_accuracy: 0.7096\n",
            "Epoch 83/100\n",
            "1875/1875 [==============================] - 5s 3ms/step - loss: 0.4740 - accuracy: 0.8322 - val_loss: 123.0630 - val_accuracy: 0.7345\n",
            "Epoch 84/100\n",
            "1875/1875 [==============================] - 4s 2ms/step - loss: 0.4739 - accuracy: 0.8320 - val_loss: 167.2768 - val_accuracy: 0.6887\n",
            "Epoch 85/100\n",
            "1875/1875 [==============================] - 6s 3ms/step - loss: 0.4743 - accuracy: 0.8311 - val_loss: 193.2735 - val_accuracy: 0.6679\n",
            "Epoch 86/100\n",
            "1875/1875 [==============================] - 4s 2ms/step - loss: 0.4737 - accuracy: 0.8320 - val_loss: 164.2141 - val_accuracy: 0.6966\n",
            "Epoch 87/100\n",
            "1875/1875 [==============================] - 4s 2ms/step - loss: 0.4735 - accuracy: 0.8317 - val_loss: 162.4645 - val_accuracy: 0.6929\n",
            "Epoch 88/100\n",
            "1875/1875 [==============================] - 5s 2ms/step - loss: 0.4731 - accuracy: 0.8322 - val_loss: 181.1177 - val_accuracy: 0.6758\n",
            "Epoch 89/100\n",
            "1875/1875 [==============================] - 4s 2ms/step - loss: 0.4730 - accuracy: 0.8313 - val_loss: 142.7310 - val_accuracy: 0.7124\n",
            "Epoch 90/100\n",
            "1875/1875 [==============================] - 4s 2ms/step - loss: 0.4718 - accuracy: 0.8326 - val_loss: 162.9307 - val_accuracy: 0.6908\n",
            "Epoch 91/100\n",
            "1875/1875 [==============================] - 4s 2ms/step - loss: 0.4726 - accuracy: 0.8322 - val_loss: 184.2411 - val_accuracy: 0.6784\n",
            "Epoch 92/100\n",
            "1875/1875 [==============================] - 4s 2ms/step - loss: 0.4720 - accuracy: 0.8332 - val_loss: 179.8454 - val_accuracy: 0.6853\n",
            "Epoch 93/100\n",
            "1875/1875 [==============================] - 4s 2ms/step - loss: 0.4719 - accuracy: 0.8313 - val_loss: 185.5204 - val_accuracy: 0.6685\n",
            "Epoch 94/100\n",
            "1875/1875 [==============================] - 4s 2ms/step - loss: 0.4710 - accuracy: 0.8325 - val_loss: 178.9942 - val_accuracy: 0.6879\n",
            "Epoch 95/100\n",
            "1875/1875 [==============================] - 4s 2ms/step - loss: 0.4703 - accuracy: 0.8330 - val_loss: 172.7120 - val_accuracy: 0.6858\n",
            "Epoch 96/100\n",
            "1875/1875 [==============================] - 4s 2ms/step - loss: 0.4704 - accuracy: 0.8335 - val_loss: 159.9706 - val_accuracy: 0.7071\n",
            "Epoch 97/100\n",
            "1875/1875 [==============================] - 4s 2ms/step - loss: 0.4702 - accuracy: 0.8336 - val_loss: 183.8129 - val_accuracy: 0.6824\n",
            "Epoch 98/100\n",
            "1875/1875 [==============================] - 4s 2ms/step - loss: 0.4701 - accuracy: 0.8338 - val_loss: 177.3603 - val_accuracy: 0.6845\n",
            "Epoch 99/100\n",
            "1875/1875 [==============================] - 4s 2ms/step - loss: 0.4702 - accuracy: 0.8333 - val_loss: 189.3882 - val_accuracy: 0.6676\n",
            "Epoch 100/100\n",
            "1875/1875 [==============================] - 4s 2ms/step - loss: 0.4692 - accuracy: 0.8341 - val_loss: 173.9532 - val_accuracy: 0.6908\n"
          ]
        }
      ]
    },
    {
      "cell_type": "code",
      "source": [
        "# Plot the loss curve\n",
        "\n",
        "pd.DataFrame(history_13.history).plot()\n",
        "plt.xlabel(\"Epochs\")\n",
        "plt.ylabel(\"Loss / Accuracy\")\n",
        "plt.title(\"Loss Curve\")\n",
        "plt.show()"
      ],
      "metadata": {
        "colab": {
          "base_uri": "https://localhost:8080/",
          "height": 295
        },
        "id": "8FlzeblPXtNF",
        "outputId": "e76025f9-695c-4151-e3d8-8a3b4407076a"
      },
      "execution_count": 61,
      "outputs": [
        {
          "output_type": "display_data",
          "data": {
            "image/png": "[encoded data removed]",
            "text/plain": [
              "<Figure size 432x288 with 1 Axes>"
            ]
          },
          "metadata": {
            "needs_background": "light"
          }
        }
      ]
    },
    {
      "cell_type": "code",
      "source": [
        "# Create a confusion matrix for our new model\n",
        "import itertools\n",
        "from sklearn.metrics import confusion_matrix\n",
        "\n",
        "# Our function needs a different name to sklearn's plot_confusion_matrix\n",
        "def make_confusion_matrix(y_true, y_pred, classes=None, figsize=(10, 10), text_size=15): \n",
        "   \n",
        "  # Create the confustion matrix\n",
        "  cm = confusion_matrix(y_true, y_pred)\n",
        "  cm_norm = cm.astype(\"float\") / cm.sum(axis=1)[:, np.newaxis] # normalize it\n",
        "  n_classes = cm.shape[0] # find the number of classes we're dealing with\n",
        "\n",
        "  # Plot the figure and make it pretty\n",
        "  fig, ax = plt.subplots(figsize=figsize)\n",
        "  cax = ax.matshow(cm, cmap=plt.cm.Blues) # colors will represent how 'correct' a class is, darker == better\n",
        "  fig.colorbar(cax)\n",
        "\n",
        "  # Are there a list of classes?\n",
        "  if classes:\n",
        "    labels = classes\n",
        "  else:\n",
        "    labels = np.arange(cm.shape[0])\n",
        "  \n",
        "  # Label the axes\n",
        "  ax.set(title=\"Confusion Matrix\",\n",
        "         xlabel=\"Predicted label\",\n",
        "         ylabel=\"True label\",\n",
        "         xticks=np.arange(n_classes), # create enough axis slots for each class\n",
        "         yticks=np.arange(n_classes), \n",
        "         xticklabels=labels, # axes will labeled with class names (if they exist) or ints\n",
        "         yticklabels=labels)\n",
        "  \n",
        "  # Make x-axis labels appear on bottom\n",
        "  ax.xaxis.set_label_position(\"bottom\")\n",
        "  ax.xaxis.tick_bottom()\n",
        "\n",
        "  # Set the threshold for different colors\n",
        "  threshold = (cm.max() + cm.min()) / 2.\n",
        "\n",
        "  # Plot the text on each cell\n",
        "  for i, j in itertools.product(range(cm.shape[0]), range(cm.shape[1])):\n",
        "    plt.text(j, i, f\"{cm[i, j]} ({cm_norm[i, j]*100:.1f}%)\",\n",
        "             horizontalalignment=\"center\",\n",
        "             color=\"white\" if cm[i, j] > threshold else \"black\",\n",
        "             size=text_size)"
      ],
      "metadata": {
        "id": "yS-mPSkaXtQA"
      },
      "execution_count": 79,
      "outputs": []
    },
    {
      "cell_type": "code",
      "source": [
        "class_names"
      ],
      "metadata": {
        "colab": {
          "base_uri": "https://localhost:8080/"
        },
        "id": "moK31TKtagys",
        "outputId": "4a6dc05a-89e7-4c94-ff9f-ea88f5469c5b"
      },
      "execution_count": 63,
      "outputs": [
        {
          "output_type": "execute_result",
          "data": {
            "text/plain": [
              "['T-shirt/top',\n",
              " 'Trouser',\n",
              " 'Pullover',\n",
              " 'Dress',\n",
              " 'Coat',\n",
              " 'Sandal',\n",
              " 'Shirt',\n",
              " 'Sneaker',\n",
              " 'Bag',\n",
              " 'Ankle boot']"
            ]
          },
          "metadata": {},
          "execution_count": 63
        }
      ]
    },
    {
      "cell_type": "code",
      "source": [
        "y_probs = model_13.predict(test_data_norm)\n",
        "# Since activation function of our output layer is Softmax...\n",
        "# Our output values will be probaliblities"
      ],
      "metadata": {
        "id": "pg2oJqzxag1P"
      },
      "execution_count": 67,
      "outputs": []
    },
    {
      "cell_type": "code",
      "source": [
        "y_probs[:5]"
      ],
      "metadata": {
        "colab": {
          "base_uri": "https://localhost:8080/"
        },
        "id": "8K3_UZU2ag32",
        "outputId": "edb808d4-8565-48f2-c858-36000a2b27f4"
      },
      "execution_count": 68,
      "outputs": [
        {
          "output_type": "execute_result",
          "data": {
            "text/plain": [
              "array([[8.60034179e-12, 1.17149887e-10, 1.28040156e-07, 1.09151735e-07,\n",
              "        9.10305928e-08, 2.08301783e-01, 2.20868532e-10, 8.73886719e-02,\n",
              "        2.13732274e-04, 7.04095483e-01],\n",
              "       [3.16156957e-06, 2.70942149e-16, 9.51017082e-01, 9.11119696e-06,\n",
              "        2.20985748e-02, 1.29581791e-28, 2.08480880e-02, 0.00000000e+00,\n",
              "        6.02404913e-03, 7.12622925e-34],\n",
              "       [3.07396185e-05, 9.98927891e-01, 1.75278061e-07, 1.01552508e-03,\n",
              "        2.02711981e-05, 5.13749539e-22, 5.27175371e-06, 7.15332718e-16,\n",
              "        2.40894629e-08, 4.91426881e-08],\n",
              "       [2.22468702e-06, 9.99364674e-01, 7.88914818e-08, 5.80794236e-04,\n",
              "        4.41527118e-05, 1.53140262e-21, 1.32271362e-06, 4.99024209e-15,\n",
              "        1.87040197e-08, 6.79242567e-06],\n",
              "       [8.61561373e-02, 8.66698429e-06, 1.85725257e-01, 4.79276963e-02,\n",
              "        7.44419098e-02, 1.17084856e-25, 6.04599416e-01, 2.87280258e-34,\n",
              "        1.14091334e-03, 2.57158659e-22]], dtype=float32)"
            ]
          },
          "metadata": {},
          "execution_count": 68
        }
      ]
    },
    {
      "cell_type": "code",
      "source": [
        "y_probs[0]"
      ],
      "metadata": {
        "colab": {
          "base_uri": "https://localhost:8080/"
        },
        "id": "_0fb7agzag7D",
        "outputId": "930560d8-c302-4cb0-d994-ff58938129c3"
      },
      "execution_count": 69,
      "outputs": [
        {
          "output_type": "execute_result",
          "data": {
            "text/plain": [
              "array([8.60034179e-12, 1.17149887e-10, 1.28040156e-07, 1.09151735e-07,\n",
              "       9.10305928e-08, 2.08301783e-01, 2.20868532e-10, 8.73886719e-02,\n",
              "       2.13732274e-04, 7.04095483e-01], dtype=float32)"
            ]
          },
          "metadata": {},
          "execution_count": 69
        }
      ]
    },
    {
      "cell_type": "code",
      "source": [
        "plt.imshow(test_data[0],cmap = plt.cm.binary)\n",
        "plt.show()"
      ],
      "metadata": {
        "colab": {
          "base_uri": "https://localhost:8080/",
          "height": 265
        },
        "id": "COhACMmuag9i",
        "outputId": "08a5f8c7-8cc0-450b-a48e-84922be93c7c"
      },
      "execution_count": 72,
      "outputs": [
        {
          "output_type": "display_data",
          "data": {
            "image/png": "[encoded data removed]",
            "text/plain": [
              "<Figure size 432x288 with 1 Axes>"
            ]
          },
          "metadata": {
            "needs_background": "light"
          }
        }
      ]
    },
    {
      "cell_type": "code",
      "source": [
        "# Converting all the predictions probabilities into integers\n",
        "y_preds = y_probs.argmax(axis = 1)\n",
        "\n",
        "#View first 10 prediction labels\n",
        "y_preds[:10]"
      ],
      "metadata": {
        "colab": {
          "base_uri": "https://localhost:8080/"
        },
        "id": "G1lQBqJTXtSq",
        "outputId": "26e994ba-d67b-4fe5-c755-92693f6bc62d"
      },
      "execution_count": 73,
      "outputs": [
        {
          "output_type": "execute_result",
          "data": {
            "text/plain": [
              "array([9, 2, 1, 1, 6, 1, 4, 6, 5, 7])"
            ]
          },
          "metadata": {},
          "execution_count": 73
        }
      ]
    },
    {
      "cell_type": "code",
      "source": [
        "model_13.evaluate(test_data_norm,test_labels)"
      ],
      "metadata": {
        "colab": {
          "base_uri": "https://localhost:8080/"
        },
        "id": "s7qlQDan-miT",
        "outputId": "7d244457-e140-4312-fbd3-a5b3e0144e7c"
      },
      "execution_count": 75,
      "outputs": [
        {
          "output_type": "stream",
          "name": "stdout",
          "text": [
            "313/313 [==============================] - 3s 7ms/step - loss: 0.5425 - accuracy: 0.8143\n"
          ]
        },
        {
          "output_type": "execute_result",
          "data": {
            "text/plain": [
              "[0.5424684286117554, 0.814300000667572]"
            ]
          },
          "metadata": {},
          "execution_count": 75
        }
      ]
    },
    {
      "cell_type": "code",
      "source": [
        "from scipy.sparse.sputils import matrix\n",
        "# Using sklearn to make a boring confusion matrix\n",
        "\n",
        "from sklearn.metrics import confusion_matrix\n",
        "\n",
        "confusion_matrix(test_labels,y_preds)"
      ],
      "metadata": {
        "colab": {
          "base_uri": "https://localhost:8080/"
        },
        "id": "KcTCrSzb-ml8",
        "outputId": "c93606f3-6b66-4438-b0c7-20aa0ea8f8bf"
      },
      "execution_count": 77,
      "outputs": [
        {
          "output_type": "execute_result",
          "data": {
            "text/plain": [
              "array([[814,  11,  27,  75,   5,   0,  57,   0,  11,   0],\n",
              "       [  5, 948,   3,  30,   5,   2,   6,   0,   0,   1],\n",
              "       [ 34,   2, 710,  13, 157,   1,  61,   0,  22,   0],\n",
              "       [ 45,  19,  14, 853,  26,   1,  24,   1,  15,   2],\n",
              "       [  2,   1, 127,  47, 762,   0,  54,   0,   7,   0],\n",
              "       [  0,   2,   0,   1,   0, 920,   0,  45,   9,  23],\n",
              "       [191,   3, 200,  66, 141,   2, 380,   0,  17,   0],\n",
              "       [  0,   0,   0,   0,   0,  55,   0, 914,   1,  30],\n",
              "       [  8,   1,  33,  18,   4,   9,   4,   6, 917,   0],\n",
              "       [  0,   0,   0,   0,   0,  22,   0,  51,   2, 925]])"
            ]
          },
          "metadata": {},
          "execution_count": 77
        }
      ]
    },
    {
      "cell_type": "code",
      "source": [
        "# Pretty confusion matrix\n",
        "\n",
        "make_confusion_matrix(y_true = test_labels,\n",
        "                      y_pred = y_preds,\n",
        "                      classes = class_names,\n",
        "                      figsize = (15,15),\n",
        "                      text_size = 10)"
      ],
      "metadata": {
        "colab": {
          "base_uri": "https://localhost:8080/",
          "height": 852
        },
        "id": "WZp-x92n-moX",
        "outputId": "b91cf015-96df-408d-b4a2-2996f12ddbbc"
      },
      "execution_count": 80,
      "outputs": [
        {
          "output_type": "display_data",
          "data": {
            "image/png": "[encoded data removed]",
            "text/plain": [
              "<Figure size 1080x1080 with 2 Axes>"
            ]
          },
          "metadata": {
            "needs_background": "light"
          }
        }
      ]
    },
    {
      "cell_type": "code",
      "source": [
        "## Creating a function which plots a random image and label it with its\n",
        "## truth label and its predicted label"
      ],
      "metadata": {
        "id": "lyrhl-n3-mq5"
      },
      "execution_count": 81,
      "outputs": []
    },
    {
      "cell_type": "code",
      "source": [
        "import random\n",
        "\n",
        "def plot_random_image(model , images , true_labels , classes):\n",
        "  i = random.randint(0,len(images))\n",
        "\n",
        "  # Create predictions and targets\n",
        "  target_image = images[i]\n",
        "  pred_probs = model.predict(target_image.reshape(1,28,28))\n",
        "  pred_label = classes[pred_probs.argmax()]\n",
        "  true_label = classes[true_labels[i]]\n",
        "\n",
        "  # Plot the image\n",
        "  plt.imshow(target_image , cmap = plt.cm.binary)\n",
        "\n",
        "  # Change the colour of the titles depending on the accuracy of prediction\n",
        "  if pred_label == true_label :\n",
        "    color = \"green\"\n",
        "  else:\n",
        "    color = \"red\"\n",
        "\n",
        "  # Add xlabel info\n",
        "  plt.xlabel(\"Pred : {} {:2.0f}%(True : {})\".format(pred_label,\n",
        "                                                    100*tf.reduce_max(pred_probs),\n",
        "                                                    true_label),\n",
        "             color = color)\n",
        " "
      ],
      "metadata": {
        "id": "iI5a_jzc-mtY"
      },
      "execution_count": 86,
      "outputs": []
    },
    {
      "cell_type": "code",
      "source": [
        "# Check out a random image and its predictions\n",
        "\n",
        "plot_random_image(model_13,test_data_norm,test_labels,class_names)"
      ],
      "metadata": {
        "colab": {
          "base_uri": "https://localhost:8080/",
          "height": 279
        },
        "id": "7i4-bnBvXtVJ",
        "outputId": "00815f37-5c4d-4387-e6e2-8a010bf3c16f"
      },
      "execution_count": 98,
      "outputs": [
        {
          "output_type": "display_data",
          "data": {
            "image/png": "[encoded data removed]",
            "text/plain": [
              "<Figure size 432x288 with 1 Axes>"
            ]
          },
          "metadata": {
            "needs_background": "light"
          }
        }
      ]
    },
    {
      "cell_type": "code",
      "source": [
        "### What patterns is our model learning  ?"
      ],
      "metadata": {
        "id": "ltuxNnelD1MQ"
      },
      "execution_count": 99,
      "outputs": []
    },
    {
      "cell_type": "code",
      "source": [
        "# Find the layers of our most recent model\n",
        "\n",
        "model_13.layers"
      ],
      "metadata": {
        "colab": {
          "base_uri": "https://localhost:8080/"
        },
        "id": "RFu3MbioD1St",
        "outputId": "e01d62da-3fea-4eec-9884-bbbdfb31c92f"
      },
      "execution_count": 100,
      "outputs": [
        {
          "output_type": "execute_result",
          "data": {
            "text/plain": [
              "[<keras.layers.core.flatten.Flatten at 0x7f8ac046fa90>,\n",
              " <keras.layers.core.dense.Dense at 0x7f8ac0485a90>,\n",
              " <keras.layers.core.dense.Dense at 0x7f8ac03f2d10>,\n",
              " <keras.layers.core.dense.Dense at 0x7f8ac0485090>]"
            ]
          },
          "metadata": {},
          "execution_count": 100
        }
      ]
    },
    {
      "cell_type": "code",
      "source": [
        "model_13.layers[1]"
      ],
      "metadata": {
        "colab": {
          "base_uri": "https://localhost:8080/"
        },
        "id": "yEJCukE2D1VL",
        "outputId": "5db1431a-3d5d-47f3-ad94-647c51ef39da"
      },
      "execution_count": 101,
      "outputs": [
        {
          "output_type": "execute_result",
          "data": {
            "text/plain": [
              "<keras.layers.core.dense.Dense at 0x7f8ac0485a90>"
            ]
          },
          "metadata": {},
          "execution_count": 101
        }
      ]
    },
    {
      "cell_type": "code",
      "source": [
        "# Get the patterns of a layer in our network\n",
        "weights , biases = model_13.layers[1].get_weights()\n",
        "\n",
        "# Shapes\n",
        "weights , weights.shape"
      ],
      "metadata": {
        "colab": {
          "base_uri": "https://localhost:8080/"
        },
        "id": "ixESzCwJD1YH",
        "outputId": "bff4886e-beb6-480f-8d49-288843a848c4"
      },
      "execution_count": 103,
      "outputs": [
        {
          "output_type": "execute_result",
          "data": {
            "text/plain": [
              "(array([[ 4.241446  , -3.012067  ,  0.49002635, -4.509878  ],\n",
              "        [ 1.2100893 , -2.3324292 ,  0.0488535 , -1.0483685 ],\n",
              "        [ 3.082372  , -2.068619  , -2.7418673 , -2.7358427 ],\n",
              "        ...,\n",
              "        [ 0.12459692,  0.6507043 ,  0.6821672 ,  0.8475341 ],\n",
              "        [ 0.04273512,  1.816914  ,  1.4870257 , -1.1314937 ],\n",
              "        [ 1.1600168 , -0.71845585,  0.52522826,  0.04715785]],\n",
              "       dtype=float32), (784, 4))"
            ]
          },
          "metadata": {},
          "execution_count": 103
        }
      ]
    },
    {
      "cell_type": "code",
      "source": [
        "model_13.summary()"
      ],
      "metadata": {
        "colab": {
          "base_uri": "https://localhost:8080/"
        },
        "id": "URDHi8BYD1au",
        "outputId": "3400166d-d3f5-4bda-9873-22af1881e115"
      },
      "execution_count": 104,
      "outputs": [
        {
          "output_type": "stream",
          "name": "stdout",
          "text": [
            "Model: \"sequential_6\"\n",
            "_________________________________________________________________\n",
            " Layer (type)                Output Shape              Param #   \n",
            "=================================================================\n",
            " flatten_4 (Flatten)         (None, 784)               0         \n",
            "                                                                 \n",
            " dense_16 (Dense)            (None, 4)                 3140      \n",
            "                                                                 \n",
            " dense_17 (Dense)            (None, 4)                 20        \n",
            "                                                                 \n",
            " dense_18 (Dense)            (None, 10)                50        \n",
            "                                                                 \n",
            "=================================================================\n",
            "Total params: 3,210\n",
            "Trainable params: 3,210\n",
            "Non-trainable params: 0\n",
            "_________________________________________________________________\n"
          ]
        }
      ]
    },
    {
      "cell_type": "code",
      "source": [
        "# Now let's checkout the bias vector\n",
        "\n",
        "biases , biases.shape"
      ],
      "metadata": {
        "colab": {
          "base_uri": "https://localhost:8080/"
        },
        "id": "mzr5ajT1XtXu",
        "outputId": "70b48222-23dc-47fb-d203-efa3724ab5cb"
      },
      "execution_count": 107,
      "outputs": [
        {
          "output_type": "execute_result",
          "data": {
            "text/plain": [
              "(array([ 0.42805952,  0.01240419, -0.12528071,  2.2919421 ], dtype=float32),\n",
              " (4,))"
            ]
          },
          "metadata": {},
          "execution_count": 107
        }
      ]
    },
    {
      "cell_type": "code",
      "source": [
        "# Every neuron has a bias vector. Each of these is paired with a weights vector.\n",
        "# Bias vector is initialized as zeros in tensorflow Dense layer"
      ],
      "metadata": {
        "id": "EDmoRiNqXtaY"
      },
      "execution_count": 109,
      "outputs": []
    },
    {
      "cell_type": "code",
      "source": [
        "# Let's checkout another way of viewing our deep learning models\n",
        "\n",
        "from tensorflow.keras.utils import plot_model\n",
        "\n",
        "plot_model(model_13,show_shapes = True)"
      ],
      "metadata": {
        "colab": {
          "base_uri": "https://localhost:8080/",
          "height": 533
        },
        "id": "VsZ7onejXtdJ",
        "outputId": "5f2af2c5-7038-4b01-dd81-8f7d2763d08e"
      },
      "execution_count": 110,
      "outputs": [
        {
          "output_type": "execute_result",
          "data": {
            "image/png": "[encoded data removed]",
            "text/plain": [
              "<IPython.core.display.Image object>"
            ]
          },
          "metadata": {},
          "execution_count": 110
        }
      ]
    },
    {
      "cell_type": "code",
      "source": [
        "## GG to you....good job"
      ],
      "metadata": {
        "id": "B1l0RHV1Xtfs"
      },
      "execution_count": 111,
      "outputs": []
    },
    {
      "cell_type": "code",
      "source": [
        "## Study CNN's for Tabia"
      ],
      "metadata": {
        "id": "88QQGNibXtij"
      },
      "execution_count": 112,
      "outputs": []
    },
    {
      "cell_type": "code",
      "source": [
        ""
      ],
      "metadata": {
        "id": "Wn1sm1UnOH7p"
      },
      "execution_count": 109,
      "outputs": []
    },
    {
      "cell_type": "code",
      "source": [
        ""
      ],
      "metadata": {
        "id": "2rzX946E85BN"
      },
      "execution_count": 109,
      "outputs": []
    },
    {
      "cell_type": "code",
      "source": [
        ""
      ],
      "metadata": {
        "id": "oIgHCdsx85Mi"
      },
      "execution_count": 109,
      "outputs": []
    },
    {
      "cell_type": "code",
      "source": [
        ""
      ],
      "metadata": {
        "id": "N2ufp22c85Pk"
      },
      "execution_count": 109,
      "outputs": []
    },
    {
      "cell_type": "code",
      "source": [
        ""
      ],
      "metadata": {
        "id": "DAp8DYeI85S3"
      },
      "execution_count": 109,
      "outputs": []
    },
    {
      "cell_type": "code",
      "source": [
        ""
      ],
      "metadata": {
        "id": "QSmyj0YGXniK"
      },
      "execution_count": 109,
      "outputs": []
    },
    {
      "cell_type": "code",
      "source": [
        ""
      ],
      "metadata": {
        "id": "ImRDIM2ZXnky"
      },
      "execution_count": 109,
      "outputs": []
    },
    {
      "cell_type": "code",
      "source": [
        ""
      ],
      "metadata": {
        "id": "dlzY5TSmXnnS"
      },
      "execution_count": 109,
      "outputs": []
    },
    {
      "cell_type": "code",
      "source": [
        ""
      ],
      "metadata": {
        "id": "7ymMO4YUXnpq"
      },
      "execution_count": null,
      "outputs": []
    }
  ]
}